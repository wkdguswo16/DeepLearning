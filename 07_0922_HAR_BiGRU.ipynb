{
 "cells": [
  {
   "cell_type": "code",
   "execution_count": 1,
   "metadata": {
    "id": "LmJZAAI28-yb"
   },
   "outputs": [],
   "source": [
    "from ai_assets import *"
   ]
  },
  {
   "cell_type": "code",
   "execution_count": 2,
   "metadata": {
    "id": "3m-s15_wL6nY"
   },
   "outputs": [],
   "source": [
    "# load a single file as a numpy array\n",
    "def load_file(filepath):\n",
    "    dataframe = pd.read_csv(filepath, header=None, delim_whitespace=True)\n",
    "    return dataframe.values\n",
    "\n",
    "# load a list of files and return as a 3d numpy array\n",
    "\n",
    "\n",
    "def load_group(filenames, prefix=''):\n",
    "    loaded = list()\n",
    "    for name in filenames:\n",
    "        data = load_file(prefix + name)\n",
    "        loaded.append(data)\n",
    "    # stack group so that features are the 3rd dimension\n",
    "    loaded = np.dstack(loaded)\n",
    "    return loaded\n",
    "\n",
    "# load a dataset group, such as train or test\n",
    "\n",
    "\n",
    "def load_dataset_group(group, prefix=''):\n",
    "    filepath = prefix + group + '/Inertial Signals/'\n",
    "    # load all 9 files as a single array\n",
    "    filenames = list()\n",
    "    # total acceleration\n",
    "    filenames += ['total_acc_x_'+group+'.txt', 'total_acc_y_' +\n",
    "                  group+'.txt', 'total_acc_z_'+group+'.txt']\n",
    "    # body acceleration\n",
    "    filenames += ['body_acc_x_'+group+'.txt', 'body_acc_y_' +\n",
    "                  group+'.txt', 'body_acc_z_'+group+'.txt']\n",
    "    # body gyroscope\n",
    "    filenames += ['body_gyro_x_'+group+'.txt', 'body_gyro_y_' +\n",
    "                  group+'.txt', 'body_gyro_z_'+group+'.txt']\n",
    "    # load input data\n",
    "    X = load_group(filenames, filepath)\n",
    "    # load class output\n",
    "    y = load_file(prefix + group + '/y_'+group+'.txt')\n",
    "    return X, y\n",
    "\n",
    "# load the dataset, returns train and test X and y elements\n",
    "\n",
    "\n",
    "def load_dataset(prefix=''):\n",
    "    # load all train\n",
    "    trainX, trainy = load_dataset_group(\n",
    "        'train', prefix + './data/UCI_HAR_Dataset/')\n",
    "    # load all test\n",
    "    testX, testy = load_dataset_group(\n",
    "        'test', prefix + './data/UCI_HAR_Dataset/')\n",
    "    # zero-offset class values\n",
    "    trainy = trainy - 1\n",
    "    testy = testy - 1\n",
    "    # one hot encode y\n",
    "    trainy = to_categorical(trainy)\n",
    "    testy = to_categorical(testy)\n",
    "    print(\"trainX shape: \", trainX.shape)\n",
    "    print(\"trainy shape: \", trainy.shape)\n",
    "    print(\"testX shape: \", testX.shape)\n",
    "    print(\"testy shape: \", testy.shape)\n",
    "    return trainX, trainy, testX, testy"
   ]
  },
  {
   "cell_type": "markdown",
   "metadata": {
    "id": "ROBYvzz_jjaQ"
   },
   "source": [
    "For training data we have 7352 different samples, where one sample is one window of the time series data, each window has 128 time steps, and a time step has nine variables or features.\n",
    "\n",
    "Similarly for testing data we have 2947 different samples. "
   ]
  },
  {
   "cell_type": "code",
   "execution_count": 3,
   "metadata": {
    "colab": {
     "base_uri": "https://localhost:8080/"
    },
    "id": "fiB1z9ciNU4d",
    "outputId": "d1be26b4-0d0e-4c60-f073-4757db4e5642"
   },
   "outputs": [
    {
     "name": "stdout",
     "output_type": "stream",
     "text": [
      "trainX shape:  (7352, 128, 9)\n",
      "trainy shape:  (7352, 6)\n",
      "testX shape:  (2947, 128, 9)\n",
      "testy shape:  (2947, 6)\n"
     ]
    }
   ],
   "source": [
    "trainX, trainy, testX, testy = load_dataset()"
   ]
  },
  {
   "cell_type": "markdown",
   "metadata": {
    "id": "Vpyoslro1zie"
   },
   "source": [
    "## Explore the data\n",
    "\n",
    "\n"
   ]
  },
  {
   "cell_type": "markdown",
   "metadata": {
    "id": "S3tWXRvEBLY8"
   },
   "source": [
    "In this dataset we have the following 9 features:\n",
    "\n",
    "\n",
    "1.   Total Acceleration x\n",
    "2.   Total Acceleration y\n",
    "3.   Total Acceleration z\n",
    "4.   Body Acceleration x\n",
    "5.   Body Acceleration y\n",
    "6.   Body Acceleration z\n",
    "7.   Body Gyroscope x\n",
    "8.   Body Gyroscope y\n",
    "9.   Body Gyroscope z\n"
   ]
  },
  {
   "cell_type": "code",
   "execution_count": 4,
   "metadata": {
    "id": "X5jtI9_n1y3X"
   },
   "outputs": [],
   "source": [
    "# Helper function to plot distribution of the features\n",
    "def plot_distributions(trainX):\n",
    "    # remove overlap\n",
    "    cut = int(trainX.shape[1] / 2)\n",
    "    longX = trainX[:, -cut:, :]\n",
    "    # flatten windows\n",
    "    longX = longX.reshape((longX.shape[0] * longX.shape[1], longX.shape[2]))\n",
    "    print(longX.shape)\n",
    "    plt.figure()\n",
    "    xaxis = None\n",
    "    for i in range(longX.shape[1]):\n",
    "        ax = plt.subplot(longX.shape[1], 1, i+1, sharex=xaxis)\n",
    "        ax.set_xlim(-1, 1)\n",
    "        if i == 0:\n",
    "            xaxis = ax\n",
    "        plt.hist(longX[:, i], bins=100)\n",
    "    plt.show()"
   ]
  },
  {
   "cell_type": "code",
   "execution_count": 5,
   "metadata": {
    "colab": {
     "base_uri": "https://localhost:8080/",
     "height": 282
    },
    "id": "jGcrbI0R2nLr",
    "outputId": "6743301c-d820-4b3b-de8d-97dfe0d59875"
   },
   "outputs": [
    {
     "name": "stdout",
     "output_type": "stream",
     "text": [
      "(470528, 9)\n"
     ]
    },
    {
     "data": {
      "image/png": "[encoded data removed]",
      "text/plain": [
       "<Figure size 640x480 with 9 Axes>"
      ]
     },
     "metadata": {},
     "output_type": "display_data"
    }
   ],
   "source": [
    "# plot distributions\n",
    "plot_distributions(trainX)"
   ]
  },
  {
   "cell_type": "markdown",
   "metadata": {
    "id": "HElEpGi7B680"
   },
   "source": [
    "We can see that all variables except \"Total Acceleration x\" behave like normal distributions. "
   ]
  },
  {
   "cell_type": "markdown",
   "metadata": {
    "id": "M-6-CazrkSHB"
   },
   "source": [
    "Set common parameters across all the models"
   ]
  },
  {
   "cell_type": "code",
   "execution_count": 6,
   "metadata": {
    "id": "Ysi2Qik7ULJk"
   },
   "outputs": [],
   "source": [
    "# set number of epochs and batch size\n",
    "batch_size = 64\n",
    "validation_split = 0.2"
   ]
  },
  {
   "cell_type": "code",
   "execution_count": 13,
   "metadata": {},
   "outputs": [
    {
     "name": "stdout",
     "output_type": "stream",
     "text": [
      "Model: \"sequential_4\"\n",
      "_________________________________________________________________\n",
      " Layer (type)                Output Shape              Param #   \n",
      "=================================================================\n",
      " bidirectional_4 (Bidirectio  (None, 128, 64)          8256      \n",
      " nal)                                                            \n",
      "                                                                 \n",
      " bidirectional_5 (Bidirectio  (None, 32)               7872      \n",
      " nal)                                                            \n",
      "                                                                 \n",
      " dense_4 (Dense)             (None, 64)                2112      \n",
      "                                                                 \n",
      " dense_5 (Dense)             (None, 6)                 390       \n",
      "                                                                 \n",
      "=================================================================\n",
      "Total params: 18,630\n",
      "Trainable params: 18,630\n",
      "Non-trainable params: 0\n",
      "_________________________________________________________________\n"
     ]
    }
   ],
   "source": [
    "n_timesteps, n_features, n_outputs = trainX.shape[1], trainX.shape[2], trainy.shape[1]\n",
    "\n",
    "model = Sequential()\n",
    "\n",
    "# GRU 레이어 추가\n",
    "model.add(Bidirectional(GRU(units=32, input_shape=(\n",
    "    n_timesteps, n_features), return_sequences=True)))\n",
    "model.add(Bidirectional(GRU(16)))\n",
    "\n",
    "model.add(Dense(64, activation='relu'))\n",
    "model.add(Dense(units=n_outputs, activation='softmax'))\n",
    "\n",
    "# 모델 빌드\n",
    "model.build(input_shape=(None, n_timesteps, n_features))\n",
    "\n",
    "model.summary()"
   ]
  },
  {
   "cell_type": "code",
   "execution_count": 14,
   "metadata": {},
   "outputs": [],
   "source": [
    "# 모델 컴파일\n",
    "model.compile(loss='categorical_crossentropy',\n",
    "              optimizer='adam', metrics=['accuracy'])"
   ]
  },
  {
   "cell_type": "code",
   "execution_count": 15,
   "metadata": {},
   "outputs": [
    {
     "name": "stdout",
     "output_type": "stream",
     "text": [
      "Epoch 1/10\n",
      "92/92 [==============================] - 13s 88ms/step - loss: 1.2681 - accuracy: 0.4870 - val_loss: 1.0498 - val_accuracy: 0.6220\n",
      "Epoch 2/10\n",
      "92/92 [==============================] - 7s 74ms/step - loss: 0.7548 - accuracy: 0.6948 - val_loss: 0.7347 - val_accuracy: 0.7274\n",
      "Epoch 3/10\n",
      "92/92 [==============================] - 7s 77ms/step - loss: 0.4918 - accuracy: 0.8072 - val_loss: 0.5553 - val_accuracy: 0.8545\n",
      "Epoch 4/10\n",
      "92/92 [==============================] - 7s 79ms/step - loss: 0.2586 - accuracy: 0.9133 - val_loss: 0.4679 - val_accuracy: 0.8613\n",
      "Epoch 5/10\n",
      "92/92 [==============================] - 8s 87ms/step - loss: 0.1702 - accuracy: 0.9390 - val_loss: 0.3758 - val_accuracy: 0.8939\n",
      "Epoch 6/10\n",
      "92/92 [==============================] - 8s 90ms/step - loss: 0.1387 - accuracy: 0.9480 - val_loss: 0.4084 - val_accuracy: 0.8987\n",
      "Epoch 7/10\n",
      "92/92 [==============================] - 8s 88ms/step - loss: 0.1273 - accuracy: 0.9478 - val_loss: 0.4108 - val_accuracy: 0.9028\n",
      "Epoch 8/10\n",
      "92/92 [==============================] - 8s 85ms/step - loss: 0.1229 - accuracy: 0.9495 - val_loss: 0.4353 - val_accuracy: 0.9062\n",
      "Epoch 9/10\n",
      "92/92 [==============================] - 8s 84ms/step - loss: 0.1244 - accuracy: 0.9478 - val_loss: 0.4297 - val_accuracy: 0.8987\n",
      "Epoch 10/10\n",
      "92/92 [==============================] - 8s 84ms/step - loss: 0.1101 - accuracy: 0.9537 - val_loss: 0.4730 - val_accuracy: 0.9021\n"
     ]
    }
   ],
   "source": [
    "# fit network\n",
    "train_epochs = 10\n",
    "history = model.fit(trainX, trainy, epochs=train_epochs, batch_size=batch_size,\n",
    "                    verbose=True,  validation_split=validation_split, shuffle=True)"
   ]
  },
  {
   "cell_type": "markdown",
   "metadata": {
    "id": "KvH2s8ldmDuL"
   },
   "source": [
    "Visualize the training process (loss) w.r.t train set and the validation set"
   ]
  },
  {
   "cell_type": "code",
   "execution_count": 16,
   "metadata": {
    "colab": {
     "base_uri": "https://localhost:8080/",
     "height": 312
    },
    "id": "xFw9ju5zSBD4",
    "outputId": "78cba606-cb3c-40cd-be1d-42317ef80373"
   },
   "outputs": [
    {
     "data": {
      "text/plain": [
       "<matplotlib.legend.Legend at 0x16d32893b80>"
      ]
     },
     "execution_count": 16,
     "metadata": {},
     "output_type": "execute_result"
    },
    {
     "data": {
      "image/png": "[encoded data removed]",
      "text/plain": [
       "<Figure size 640x480 with 1 Axes>"
      ]
     },
     "metadata": {},
     "output_type": "display_data"
    }
   ],
   "source": [
    "plt.plot(history.history['loss'])\n",
    "plt.plot(history.history['val_loss'])\n",
    "plt.title('model loss')\n",
    "plt.ylabel('loss')\n",
    "plt.xlabel('epoch')\n",
    "plt.legend(['train', 'Validation'], loc='upper left')"
   ]
  },
  {
   "cell_type": "code",
   "execution_count": 17,
   "metadata": {
    "colab": {
     "base_uri": "https://localhost:8080/"
    },
    "id": "T3rgvHGQNcx9",
    "outputId": "6962d801-6a5a-4040-abbe-5bda3891dc58"
   },
   "outputs": [
    {
     "name": "stdout",
     "output_type": "stream",
     "text": [
      "Accuracy of the LSTM model 0.8863250613212585\n",
      "93/93 [==============================] - 2s 15ms/step\n"
     ]
    }
   ],
   "source": [
    "# evaluate model\n",
    "test_loss, test_accuracy = model.evaluate(\n",
    "    testX, testy, batch_size=batch_size, verbose=0)\n",
    "print(\"Accuracy of the BiGRU model\", test_accuracy)\n",
    "# Get the predictions for the test set\n",
    "predictions = model.predict(testX)"
   ]
  },
  {
   "cell_type": "code",
   "execution_count": 18,
   "metadata": {
    "colab": {
     "base_uri": "https://localhost:8080/"
    },
    "id": "tOc_QJWlg_uQ",
    "outputId": "7ceef8ef-a654-40b6-bda7-3b32199deb3b"
   },
   "outputs": [
    {
     "data": {
      "text/plain": [
       "array([[1.41944196e-02, 1.14088168e-03, 1.10727260e-05, 2.29231664e-03,\n",
       "        9.82358396e-01, 2.88398701e-06],\n",
       "       [5.00932429e-03, 3.16668302e-04, 3.52879761e-06, 2.52160337e-03,\n",
       "        9.92146671e-01, 2.27750070e-06],\n",
       "       [5.23399562e-03, 2.62882560e-04, 2.83375789e-06, 2.30654399e-03,\n",
       "        9.92191255e-01, 2.50740959e-06],\n",
       "       ...,\n",
       "       [1.20672885e-04, 9.99794424e-01, 8.33144513e-05, 1.59219695e-08,\n",
       "        1.33904564e-06, 1.73237694e-07],\n",
       "       [1.87683516e-04, 9.99723375e-01, 8.62714951e-05, 1.14925296e-08,\n",
       "        1.52202665e-06, 1.05703953e-06],\n",
       "       [4.90592385e-04, 9.99442160e-01, 5.29530625e-05, 5.07098825e-08,\n",
       "        8.22895527e-06, 6.05047808e-06]], dtype=float32)"
      ]
     },
     "execution_count": 18,
     "metadata": {},
     "output_type": "execute_result"
    }
   ],
   "source": [
    "predictions"
   ]
  }
 ],
 "metadata": {
  "colab": {
   "authorship_tag": "ABX9TyMm/DpFfSeNPNcAk9yBGjoi",
   "collapsed_sections": [
    "HGBepz0q-lfY",
    "NxBLgeuLA8xS",
    "Vpyoslro1zie",
    "yDowZCTIP9Ht",
    "R-H04c6mTkDB"
   ],
   "include_colab_link": true,
   "name": "CNN and LSTM for Human Activity Recognition.ipynb",
   "provenance": []
  },
  "kernelspec": {
   "display_name": "Python 3 (ipykernel)",
   "language": "python",
   "name": "python3"
  },
  "language_info": {
   "codemirror_mode": {
    "name": "ipython",
    "version": 3
   },
   "file_extension": ".py",
   "mimetype": "text/x-python",
   "name": "python",
   "nbconvert_exporter": "python",
   "pygments_lexer": "ipython3",
   "version": "3.9.13"
  }
 },
 "nbformat": 4,
 "nbformat_minor": 1
}

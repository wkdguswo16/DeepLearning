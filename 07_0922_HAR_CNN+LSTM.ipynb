{
 "cells": [
  {
   "cell_type": "code",
   "execution_count": 1,
   "metadata": {
    "id": "LmJZAAI28-yb"
   },
   "outputs": [],
   "source": [
    "from ai_assets import *"
   ]
  },
  {
   "cell_type": "code",
   "execution_count": 2,
   "metadata": {
    "id": "3m-s15_wL6nY"
   },
   "outputs": [],
   "source": [
    "# load a single file as a numpy array\n",
    "def load_file(filepath):\n",
    "    dataframe = pd.read_csv(filepath, header=None, delim_whitespace=True)\n",
    "    return dataframe.values\n",
    "\n",
    "# load a list of files and return as a 3d numpy array\n",
    "\n",
    "\n",
    "def load_group(filenames, prefix=''):\n",
    "    loaded = list()\n",
    "    for name in filenames:\n",
    "        data = load_file(prefix + name)\n",
    "        loaded.append(data)\n",
    "    # stack group so that features are the 3rd dimension\n",
    "    loaded = np.dstack(loaded)\n",
    "    return loaded\n",
    "\n",
    "# load a dataset group, such as train or test\n",
    "\n",
    "\n",
    "def load_dataset_group(group, prefix=''):\n",
    "    filepath = prefix + group + '/Inertial Signals/'\n",
    "    # load all 9 files as a single array\n",
    "    filenames = list()\n",
    "    # total acceleration\n",
    "    filenames += ['total_acc_x_'+group+'.txt', 'total_acc_y_' +\n",
    "                  group+'.txt', 'total_acc_z_'+group+'.txt']\n",
    "    # body acceleration\n",
    "    filenames += ['body_acc_x_'+group+'.txt', 'body_acc_y_' +\n",
    "                  group+'.txt', 'body_acc_z_'+group+'.txt']\n",
    "    # body gyroscope\n",
    "    filenames += ['body_gyro_x_'+group+'.txt', 'body_gyro_y_' +\n",
    "                  group+'.txt', 'body_gyro_z_'+group+'.txt']\n",
    "    # load input data\n",
    "    X = load_group(filenames, filepath)\n",
    "    # load class output\n",
    "    y = load_file(prefix + group + '/y_'+group+'.txt')\n",
    "    return X, y\n",
    "\n",
    "# load the dataset, returns train and test X and y elements\n",
    "\n",
    "\n",
    "def load_dataset(prefix=''):\n",
    "    # load all train\n",
    "    trainX, trainy = load_dataset_group(\n",
    "        'train', prefix + './data/UCI_HAR_Dataset/')\n",
    "    # load all test\n",
    "    testX, testy = load_dataset_group(\n",
    "        'test', prefix + './data/UCI_HAR_Dataset/')\n",
    "    # zero-offset class values\n",
    "    trainy = trainy - 1\n",
    "    testy = testy - 1\n",
    "    # one hot encode y\n",
    "    trainy = to_categorical(trainy)\n",
    "    testy = to_categorical(testy)\n",
    "    print(\"trainX shape: \", trainX.shape)\n",
    "    print(\"trainy shape: \", trainy.shape)\n",
    "    print(\"testX shape: \", testX.shape)\n",
    "    print(\"testy shape: \", testy.shape)\n",
    "    return trainX, trainy, testX, testy"
   ]
  },
  {
   "cell_type": "markdown",
   "metadata": {
    "id": "ROBYvzz_jjaQ"
   },
   "source": [
    "For training data we have 7352 different samples, where one sample is one window of the time series data, each window has 128 time steps, and a time step has nine variables or features.\n",
    "\n",
    "Similarly for testing data we have 2947 different samples. "
   ]
  },
  {
   "cell_type": "code",
   "execution_count": 3,
   "metadata": {
    "colab": {
     "base_uri": "https://localhost:8080/"
    },
    "id": "fiB1z9ciNU4d",
    "outputId": "d1be26b4-0d0e-4c60-f073-4757db4e5642"
   },
   "outputs": [
    {
     "name": "stdout",
     "output_type": "stream",
     "text": [
      "trainX shape:  (7352, 128, 9)\n",
      "trainy shape:  (7352, 6)\n",
      "testX shape:  (2947, 128, 9)\n",
      "testy shape:  (2947, 6)\n"
     ]
    }
   ],
   "source": [
    "trainX, trainy, testX, testy = load_dataset()"
   ]
  },
  {
   "cell_type": "markdown",
   "metadata": {
    "id": "Vpyoslro1zie"
   },
   "source": [
    "## Explore the data\n",
    "\n",
    "\n"
   ]
  },
  {
   "cell_type": "markdown",
   "metadata": {
    "id": "S3tWXRvEBLY8"
   },
   "source": [
    "In this dataset we have the following 9 features:\n",
    "\n",
    "\n",
    "1.   Total Acceleration x\n",
    "2.   Total Acceleration y\n",
    "3.   Total Acceleration z\n",
    "4.   Body Acceleration x\n",
    "5.   Body Acceleration y\n",
    "6.   Body Acceleration z\n",
    "7.   Body Gyroscope x\n",
    "8.   Body Gyroscope y\n",
    "9.   Body Gyroscope z\n"
   ]
  },
  {
   "cell_type": "code",
   "execution_count": 4,
   "metadata": {
    "id": "X5jtI9_n1y3X"
   },
   "outputs": [],
   "source": [
    "# Helper function to plot distribution of the features\n",
    "def plot_distributions(trainX):\n",
    "    # remove overlap\n",
    "    cut = int(trainX.shape[1] / 2)\n",
    "    longX = trainX[:, -cut:, :]\n",
    "    # flatten windows\n",
    "    longX = longX.reshape((longX.shape[0] * longX.shape[1], longX.shape[2]))\n",
    "    print(longX.shape)\n",
    "    pyplot.figure()\n",
    "    xaxis = None\n",
    "    for i in range(longX.shape[1]):\n",
    "        ax = pyplot.subplot(longX.shape[1], 1, i+1, sharex=xaxis)\n",
    "        ax.set_xlim(-1, 1)\n",
    "        if i == 0:\n",
    "            xaxis = ax\n",
    "        pyplot.hist(longX[:, i], bins=100)\n",
    "    pyplot.show()"
   ]
  },
  {
   "cell_type": "code",
   "execution_count": 5,
   "metadata": {
    "colab": {
     "base_uri": "https://localhost:8080/",
     "height": 282
    },
    "id": "jGcrbI0R2nLr",
    "outputId": "6743301c-d820-4b3b-de8d-97dfe0d59875"
   },
   "outputs": [
    {
     "name": "stdout",
     "output_type": "stream",
     "text": [
      "(470528, 9)\n"
     ]
    },
    {
     "data": {
      "image/png": "[encoded data removed]",
      "text/plain": [
       "<Figure size 640x480 with 9 Axes>"
      ]
     },
     "metadata": {},
     "output_type": "display_data"
    }
   ],
   "source": [
    "# plot distributions\n",
    "plot_distributions(trainX)"
   ]
  },
  {
   "cell_type": "code",
   "execution_count": 6,
   "metadata": {
    "id": "Ysi2Qik7ULJk"
   },
   "outputs": [],
   "source": [
    "## set number of epochs and batch size\n",
    "batch_size = 64\n",
    "validation_split = 0.2"
   ]
  },
  {
   "cell_type": "markdown",
   "metadata": {
    "id": "R-H04c6mTkDB"
   },
   "source": [
    "### CNN+LSTM model"
   ]
  },
  {
   "cell_type": "code",
   "execution_count": 23,
   "metadata": {
    "colab": {
     "base_uri": "https://localhost:8080/",
     "height": 865
    },
    "id": "I5FfkpGUTEJL",
    "outputId": "8a5f203c-6e50-449f-9f19-b6dea4a6488c"
   },
   "outputs": [
    {
     "name": "stdout",
     "output_type": "stream",
     "text": [
      "Model: \"sequential_2\"\n",
      "_________________________________________________________________\n",
      " Layer (type)                Output Shape              Param #   \n",
      "=================================================================\n",
      " conv1d_2 (Conv1D)           (None, 125, 64)           2368      \n",
      "                                                                 \n",
      " conv1d_3 (Conv1D)           (None, 122, 64)           16448     \n",
      "                                                                 \n",
      " dropout_3 (Dropout)         (None, 122, 64)           0         \n",
      "                                                                 \n",
      " max_pooling1d_1 (MaxPooling  (None, 61, 64)           0         \n",
      " 1D)                                                             \n",
      "                                                                 \n",
      " lstm_2 (LSTM)               (None, 64)                33024     \n",
      "                                                                 \n",
      " dropout_4 (Dropout)         (None, 64)                0         \n",
      "                                                                 \n",
      " dense_3 (Dense)             (None, 6)                 390       \n",
      "                                                                 \n",
      "=================================================================\n",
      "Total params: 52,230\n",
      "Trainable params: 52,230\n",
      "Non-trainable params: 0\n",
      "_________________________________________________________________\n"
     ]
    }
   ],
   "source": [
    "n_timesteps, n_features, n_outputs = trainX.shape[1], trainX.shape[2], trainy.shape[1]\n",
    "model = Sequential()\n",
    "model.add(Conv1D(filters=64, kernel_size=4, activation='relu',\n",
    "          input_shape=(n_timesteps, n_features)))\n",
    "model.add(Conv1D(filters=64, kernel_size=4, activation='relu',\n",
    "          input_shape=(n_timesteps, n_features)))\n",
    "model.add(Dropout(0.5))\n",
    "model.add(MaxPooling1D(pool_size=2))\n",
    "model.add(LSTM(64, recurrent_dropout=0.5))\n",
    "model.add(Dropout(0.5))\n",
    "model.add(Dense(n_outputs, activation='softmax'))\n",
    "\n",
    "model.summary()"
   ]
  },
  {
   "cell_type": "code",
   "execution_count": 24,
   "metadata": {
    "id": "OcbFvupumyBV"
   },
   "outputs": [],
   "source": [
    "model.compile(loss='categorical_crossentropy', optimizer='adam', metrics=['accuracy'])"
   ]
  },
  {
   "cell_type": "markdown",
   "metadata": {
    "id": "MwvndHFDm_U-"
   },
   "source": [
    "Train the model"
   ]
  },
  {
   "cell_type": "code",
   "execution_count": 25,
   "metadata": {
    "colab": {
     "base_uri": "https://localhost:8080/"
    },
    "id": "cDn2GVhvmzmJ",
    "outputId": "ef80457b-96cb-4bdf-d418-9efd8b3c115e",
    "scrolled": false
   },
   "outputs": [
    {
     "name": "stdout",
     "output_type": "stream",
     "text": [
      "Epoch 1/20\n",
      "92/92 [==============================] - 8s 65ms/step - loss: 0.8803 - accuracy: 0.6443 - val_loss: 0.5568 - val_accuracy: 0.7954\n",
      "Epoch 2/20\n",
      "92/92 [==============================] - 6s 62ms/step - loss: 0.3678 - accuracy: 0.8711 - val_loss: 0.3345 - val_accuracy: 0.8939\n",
      "Epoch 3/20\n",
      "92/92 [==============================] - 6s 61ms/step - loss: 0.2310 - accuracy: 0.9235 - val_loss: 0.3323 - val_accuracy: 0.8980\n",
      "Epoch 4/20\n",
      "92/92 [==============================] - 6s 61ms/step - loss: 0.2679 - accuracy: 0.9112 - val_loss: 0.3339 - val_accuracy: 0.8858\n",
      "Epoch 5/20\n",
      "92/92 [==============================] - 6s 64ms/step - loss: 0.1665 - accuracy: 0.9434 - val_loss: 0.3279 - val_accuracy: 0.8987\n",
      "Epoch 6/20\n",
      "92/92 [==============================] - 6s 67ms/step - loss: 0.1706 - accuracy: 0.9373 - val_loss: 0.2436 - val_accuracy: 0.8994\n",
      "Epoch 7/20\n",
      "92/92 [==============================] - 6s 68ms/step - loss: 0.1374 - accuracy: 0.9495 - val_loss: 0.2457 - val_accuracy: 0.9089\n",
      "Epoch 8/20\n",
      "92/92 [==============================] - 6s 67ms/step - loss: 0.1207 - accuracy: 0.9505 - val_loss: 0.2362 - val_accuracy: 0.9157\n",
      "Epoch 9/20\n",
      "92/92 [==============================] - 6s 67ms/step - loss: 0.1376 - accuracy: 0.9424 - val_loss: 0.2792 - val_accuracy: 0.9082\n",
      "Epoch 10/20\n",
      "92/92 [==============================] - 7s 72ms/step - loss: 0.1147 - accuracy: 0.9529 - val_loss: 0.2429 - val_accuracy: 0.9273\n",
      "Epoch 11/20\n",
      "92/92 [==============================] - 6s 68ms/step - loss: 0.1114 - accuracy: 0.9536 - val_loss: 0.2469 - val_accuracy: 0.9198\n",
      "Epoch 12/20\n",
      "92/92 [==============================] - 6s 66ms/step - loss: 0.1074 - accuracy: 0.9526 - val_loss: 0.2571 - val_accuracy: 0.9286\n",
      "Epoch 13/20\n",
      "92/92 [==============================] - 6s 69ms/step - loss: 0.1195 - accuracy: 0.9519 - val_loss: 0.2408 - val_accuracy: 0.9327\n",
      "Epoch 14/20\n",
      "92/92 [==============================] - 7s 71ms/step - loss: 0.0982 - accuracy: 0.9573 - val_loss: 0.2820 - val_accuracy: 0.9157\n",
      "Epoch 15/20\n",
      "92/92 [==============================] - 6s 67ms/step - loss: 0.1053 - accuracy: 0.9539 - val_loss: 0.2309 - val_accuracy: 0.9361\n",
      "Epoch 16/20\n",
      "92/92 [==============================] - 6s 68ms/step - loss: 0.0927 - accuracy: 0.9597 - val_loss: 0.2512 - val_accuracy: 0.9225\n",
      "Epoch 17/20\n",
      "92/92 [==============================] - 6s 67ms/step - loss: 0.0877 - accuracy: 0.9575 - val_loss: 0.2537 - val_accuracy: 0.9279\n",
      "Epoch 18/20\n",
      "92/92 [==============================] - 6s 65ms/step - loss: 0.0916 - accuracy: 0.9566 - val_loss: 0.2928 - val_accuracy: 0.8878\n",
      "Epoch 19/20\n",
      "92/92 [==============================] - 6s 69ms/step - loss: 0.0962 - accuracy: 0.9554 - val_loss: 0.3541 - val_accuracy: 0.9062\n",
      "Epoch 20/20\n",
      "92/92 [==============================] - 7s 71ms/step - loss: 0.1041 - accuracy: 0.9543 - val_loss: 0.3718 - val_accuracy: 0.8960\n"
     ]
    }
   ],
   "source": [
    "# fit network\n",
    "train_epochs = 20\n",
    "history = model.fit(trainX, trainy, epochs=train_epochs, batch_size=batch_size,\n",
    "                    verbose=True,  validation_split=validation_split, shuffle=True)"
   ]
  },
  {
   "cell_type": "code",
   "execution_count": 13,
   "metadata": {
    "colab": {
     "base_uri": "https://localhost:8080/",
     "height": 312
    },
    "id": "1WF45HwfUYwE",
    "outputId": "7b80f3e9-7fcd-4cad-d283-9a8f0c22ea71"
   },
   "outputs": [
    {
     "data": {
      "text/plain": [
       "<matplotlib.legend.Legend at 0x2b10f266b20>"
      ]
     },
     "execution_count": 13,
     "metadata": {},
     "output_type": "execute_result"
    },
    {
     "data": {
      "image/png": "[encoded data removed]",
      "text/plain": [
       "<Figure size 640x480 with 1 Axes>"
      ]
     },
     "metadata": {},
     "output_type": "display_data"
    }
   ],
   "source": [
    "plt.plot(history.history['loss'])\n",
    "plt.plot(history.history['val_loss'])\n",
    "plt.title('model loss')\n",
    "plt.ylabel('loss')\n",
    "plt.xlabel('epoch')\n",
    "plt.legend(['train', 'Validation'], loc='upper left')"
   ]
  },
  {
   "cell_type": "code",
   "execution_count": 14,
   "metadata": {
    "colab": {
     "base_uri": "https://localhost:8080/"
    },
    "id": "5boGrrkMUWx2",
    "outputId": "f48450fb-bc1c-4279-c8b4-f9f88611b526"
   },
   "outputs": [
    {
     "name": "stdout",
     "output_type": "stream",
     "text": [
      "Accuracy of the CNN model 0.9043094515800476\n",
      "93/93 [==============================] - 1s 10ms/step\n"
     ]
    }
   ],
   "source": [
    "# evaluate model\n",
    "test_loss, test_accuracy = model.evaluate(\n",
    "    testX, testy, batch_size=batch_size, verbose=0)\n",
    "print(\"Accuracy of the CNN model\", test_accuracy)\n",
    "predictions = model.predict(testX)"
   ]
  },
  {
   "cell_type": "code",
   "execution_count": 16,
   "metadata": {},
   "outputs": [],
   "source": [
    "def display_results(testy, predictions, classNames):\n",
    "    y_test = np.argmax(testy, axis=1)\n",
    "    y_scores = np.argmax(predictions, axis=1)\n",
    "    classes = len(classNames)\n",
    "    cm = confusion_matrix(y_test, y_scores)\n",
    "    print(\"**** Confusion Matrix ****\")\n",
    "    print(cm)\n",
    "    print(\"**** Classification Report ****\")\n",
    "    print(classification_report(y_test, y_scores, target_names=classNames))\n",
    "    con = np.zeros((classes, classes))\n",
    "    for x in range(classes):\n",
    "        for y in range(classes):\n",
    "            con[x, y] = cm[x, y]  # /np.sum(cm[x,:])\n",
    "\n",
    "    plt.figure(figsize=(10, 8))\n",
    "    df = sns.heatmap(con, annot=True, fmt='g', cmap='Blues',\n",
    "                     xticklabels=classNames, yticklabels=classNames)\n",
    "    plt.xlabel('Predicted')\n",
    "    plt.ylabel('Actual')\n",
    "    plt.show()"
   ]
  },
  {
   "cell_type": "code",
   "execution_count": 18,
   "metadata": {},
   "outputs": [
    {
     "name": "stdout",
     "output_type": "stream",
     "text": [
      "**** Confusion Matrix ****\n",
      "[[469   0  27   0   0   0]\n",
      " [  5 439  27   0   0   0]\n",
      " [  7   2 411   0   0   0]\n",
      " [  0  24   0 395  72   0]\n",
      " [  1   0   0  74 457   0]\n",
      " [  0  43   0   0   0 494]]\n",
      "**** Classification Report ****\n",
      "              precision    recall  f1-score   support\n",
      "\n",
      "           1       0.97      0.95      0.96       496\n",
      "           2       0.86      0.93      0.90       471\n",
      "           3       0.88      0.98      0.93       420\n",
      "           4       0.84      0.80      0.82       491\n",
      "           5       0.86      0.86      0.86       532\n",
      "           6       1.00      0.92      0.96       537\n",
      "\n",
      "    accuracy                           0.90      2947\n",
      "   macro avg       0.90      0.91      0.90      2947\n",
      "weighted avg       0.91      0.90      0.90      2947\n",
      "\n"
     ]
    },
    {
     "data": {
      "image/png": "[encoded data removed]",
      "text/plain": [
       "<Figure size 1000x800 with 2 Axes>"
      ]
     },
     "metadata": {},
     "output_type": "display_data"
    }
   ],
   "source": [
    "classNames=[\"1\",\"2\",\"3\",\"4\",\"5\",\"6\"]\n",
    "display_results(testy,predictions,classNames)"
   ]
  },
  {
   "cell_type": "markdown",
   "metadata": {
    "id": "k-azbhHrmSGq"
   },
   "source": [
    "Predicting for a single sample"
   ]
  },
  {
   "cell_type": "code",
   "execution_count": 20,
   "metadata": {
    "colab": {
     "base_uri": "https://localhost:8080/"
    },
    "id": "vv4Iyolnlyaw",
    "outputId": "d554c311-2a00-422b-bdde-60e83b99fe62"
   },
   "outputs": [
    {
     "data": {
      "text/plain": [
       "(128, 9)"
      ]
     },
     "execution_count": 20,
     "metadata": {},
     "output_type": "execute_result"
    }
   ],
   "source": [
    "# we will select the first sample from the test set\n",
    "sample = testX[0]\n",
    "sample.shape"
   ]
  },
  {
   "cell_type": "code",
   "execution_count": 21,
   "metadata": {
    "id": "JMv8xmremnNp"
   },
   "outputs": [
    {
     "name": "stdout",
     "output_type": "stream",
     "text": [
      "1/1 [==============================] - 0s 21ms/step\n"
     ]
    }
   ],
   "source": [
    "# predict the results using the model, we need to input in the form of (numberOfSamples,featureLength,numberOfFeatures)\n",
    "predictionForSample = model.predict(\n",
    "    sample.reshape(1, sample.shape[0], sample.shape[1]))"
   ]
  },
  {
   "cell_type": "code",
   "execution_count": 22,
   "metadata": {
    "colab": {
     "base_uri": "https://localhost:8080/"
    },
    "id": "G213N1iEmwXe",
    "outputId": "606785ea-01c6-4a83-a9c2-6e11b884d319"
   },
   "outputs": [
    {
     "name": "stdout",
     "output_type": "stream",
     "text": [
      "Actual class:  4\n",
      "Predicted class:  4\n"
     ]
    }
   ],
   "source": [
    "# get the class of the sample\n",
    "samplePredictedClass = np.argmax(predictionForSample, axis=1)\n",
    "sampleActualClass = np.argmax(testy, axis=1)\n",
    "print(\"Actual class: \", sampleActualClass[0])\n",
    "print(\"Predicted class: \", samplePredictedClass[0])"
   ]
  },
  {
   "cell_type": "code",
   "execution_count": null,
   "metadata": {
    "id": "5EcyA3Nyndxg"
   },
   "outputs": [],
   "source": []
  },
  {
   "cell_type": "code",
   "execution_count": null,
   "metadata": {},
   "outputs": [],
   "source": []
  }
 ],
 "metadata": {
  "colab": {
   "authorship_tag": "ABX9TyMm/DpFfSeNPNcAk9yBGjoi",
   "collapsed_sections": [
    "HGBepz0q-lfY",
    "NxBLgeuLA8xS",
    "Vpyoslro1zie",
    "yDowZCTIP9Ht",
    "R-H04c6mTkDB"
   ],
   "include_colab_link": true,
   "name": "CNN and LSTM for Human Activity Recognition.ipynb",
   "provenance": []
  },
  "kernelspec": {
   "display_name": "Python 3 (ipykernel)",
   "language": "python",
   "name": "python3"
  },
  "language_info": {
   "codemirror_mode": {
    "name": "ipython",
    "version": 3
   },
   "file_extension": ".py",
   "mimetype": "text/x-python",
   "name": "python",
   "nbconvert_exporter": "python",
   "pygments_lexer": "ipython3",
   "version": "3.9.13"
  }
 },
 "nbformat": 4,
 "nbformat_minor": 1
}

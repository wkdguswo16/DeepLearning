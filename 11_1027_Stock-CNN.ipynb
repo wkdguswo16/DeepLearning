{
 "cells": [
  {
   "cell_type": "code",
   "execution_count": 2,
   "id": "e04486cd",
   "metadata": {},
   "outputs": [],
   "source": [
    "import FinanceDataReader as fdr\n",
    "import numpy as np\n",
    "import pandas as pd\n",
    "import matplotlib.pyplot as plt"
   ]
  },
  {
   "cell_type": "code",
   "execution_count": 3,
   "id": "d2f0a75f",
   "metadata": {},
   "outputs": [
    {
     "data": {
      "text/html": [
       "<div>\n",
       "<style scoped>\n",
       "    .dataframe tbody tr th:only-of-type {\n",
       "        vertical-align: middle;\n",
       "    }\n",
       "\n",
       "    .dataframe tbody tr th {\n",
       "        vertical-align: top;\n",
       "    }\n",
       "\n",
       "    .dataframe thead th {\n",
       "        text-align: right;\n",
       "    }\n",
       "</style>\n",
       "<table border=\"1\" class=\"dataframe\">\n",
       "  <thead>\n",
       "    <tr style=\"text-align: right;\">\n",
       "      <th></th>\n",
       "      <th>Open</th>\n",
       "      <th>High</th>\n",
       "      <th>Low</th>\n",
       "      <th>Close</th>\n",
       "      <th>Volume</th>\n",
       "      <th>Change</th>\n",
       "    </tr>\n",
       "    <tr>\n",
       "      <th>Date</th>\n",
       "      <th></th>\n",
       "      <th></th>\n",
       "      <th></th>\n",
       "      <th></th>\n",
       "      <th></th>\n",
       "      <th></th>\n",
       "    </tr>\n",
       "  </thead>\n",
       "  <tbody>\n",
       "    <tr>\n",
       "      <th>2023-06-26</th>\n",
       "      <td>759000</td>\n",
       "      <td>777000</td>\n",
       "      <td>758000</td>\n",
       "      <td>761000</td>\n",
       "      <td>368769</td>\n",
       "      <td>0.003958</td>\n",
       "    </tr>\n",
       "    <tr>\n",
       "      <th>2023-06-27</th>\n",
       "      <td>756000</td>\n",
       "      <td>760000</td>\n",
       "      <td>712000</td>\n",
       "      <td>738000</td>\n",
       "      <td>812930</td>\n",
       "      <td>-0.030223</td>\n",
       "    </tr>\n",
       "    <tr>\n",
       "      <th>2023-06-28</th>\n",
       "      <td>747000</td>\n",
       "      <td>752000</td>\n",
       "      <td>699000</td>\n",
       "      <td>700000</td>\n",
       "      <td>648809</td>\n",
       "      <td>-0.051491</td>\n",
       "    </tr>\n",
       "    <tr>\n",
       "      <th>2023-06-29</th>\n",
       "      <td>705000</td>\n",
       "      <td>735000</td>\n",
       "      <td>696000</td>\n",
       "      <td>714000</td>\n",
       "      <td>625782</td>\n",
       "      <td>0.020000</td>\n",
       "    </tr>\n",
       "    <tr>\n",
       "      <th>2023-06-30</th>\n",
       "      <td>726000</td>\n",
       "      <td>760000</td>\n",
       "      <td>715000</td>\n",
       "      <td>754000</td>\n",
       "      <td>668650</td>\n",
       "      <td>0.056022</td>\n",
       "    </tr>\n",
       "  </tbody>\n",
       "</table>\n",
       "</div>"
      ],
      "text/plain": [
       "              Open    High     Low   Close  Volume    Change\n",
       "Date                                                        \n",
       "2023-06-26  759000  777000  758000  761000  368769  0.003958\n",
       "2023-06-27  756000  760000  712000  738000  812930 -0.030223\n",
       "2023-06-28  747000  752000  699000  700000  648809 -0.051491\n",
       "2023-06-29  705000  735000  696000  714000  625782  0.020000\n",
       "2023-06-30  726000  760000  715000  754000  668650  0.056022"
      ]
     },
     "execution_count": 3,
     "metadata": {},
     "output_type": "execute_result"
    }
   ],
   "source": [
    "df = fdr.DataReader('086520', '2021-01-01', '2023-07-01')\n",
    "\n",
    "df.tail()"
   ]
  },
  {
   "cell_type": "code",
   "execution_count": 4,
   "id": "c3f7f812",
   "metadata": {},
   "outputs": [
    {
     "data": {
      "text/plain": [
       "(617, 6)"
      ]
     },
     "execution_count": 4,
     "metadata": {},
     "output_type": "execute_result"
    }
   ],
   "source": [
    "df.shape"
   ]
  },
  {
   "cell_type": "code",
   "execution_count": 5,
   "id": "93bf7e6e",
   "metadata": {},
   "outputs": [],
   "source": [
    "def MinMaxScaler(data):\n",
    "    numerator = data - np.min(data, 0)\n",
    "    denominator = np.max(data, 0) - np.min(data, 0)\n",
    "\n",
    "    return numerator / (denominator + 1e-7)"
   ]
  },
  {
   "cell_type": "code",
   "execution_count": 6,
   "id": "a5d4adb3",
   "metadata": {},
   "outputs": [
    {
     "data": {
      "text/html": [
       "<div>\n",
       "<style scoped>\n",
       "    .dataframe tbody tr th:only-of-type {\n",
       "        vertical-align: middle;\n",
       "    }\n",
       "\n",
       "    .dataframe tbody tr th {\n",
       "        vertical-align: top;\n",
       "    }\n",
       "\n",
       "    .dataframe thead th {\n",
       "        text-align: right;\n",
       "    }\n",
       "</style>\n",
       "<table border=\"1\" class=\"dataframe\">\n",
       "  <thead>\n",
       "    <tr style=\"text-align: right;\">\n",
       "      <th></th>\n",
       "      <th>Open</th>\n",
       "      <th>High</th>\n",
       "      <th>Low</th>\n",
       "      <th>Volume</th>\n",
       "    </tr>\n",
       "    <tr>\n",
       "      <th>Date</th>\n",
       "      <th></th>\n",
       "      <th></th>\n",
       "      <th></th>\n",
       "      <th></th>\n",
       "    </tr>\n",
       "  </thead>\n",
       "  <tbody>\n",
       "    <tr>\n",
       "      <th>2021-01-04</th>\n",
       "      <td>0.043032</td>\n",
       "      <td>0.042956</td>\n",
       "      <td>0.042551</td>\n",
       "      <td>0.252685</td>\n",
       "    </tr>\n",
       "    <tr>\n",
       "      <th>2021-01-05</th>\n",
       "      <td>0.044914</td>\n",
       "      <td>0.043116</td>\n",
       "      <td>0.044641</td>\n",
       "      <td>0.166713</td>\n",
       "    </tr>\n",
       "    <tr>\n",
       "      <th>2021-01-06</th>\n",
       "      <td>0.045344</td>\n",
       "      <td>0.042794</td>\n",
       "      <td>0.044641</td>\n",
       "      <td>0.133096</td>\n",
       "    </tr>\n",
       "    <tr>\n",
       "      <th>2021-01-07</th>\n",
       "      <td>0.046198</td>\n",
       "      <td>0.045207</td>\n",
       "      <td>0.046033</td>\n",
       "      <td>0.215839</td>\n",
       "    </tr>\n",
       "    <tr>\n",
       "      <th>2021-01-08</th>\n",
       "      <td>0.048767</td>\n",
       "      <td>0.047862</td>\n",
       "      <td>0.048905</td>\n",
       "      <td>0.218127</td>\n",
       "    </tr>\n",
       "    <tr>\n",
       "      <th>...</th>\n",
       "      <td>...</td>\n",
       "      <td>...</td>\n",
       "      <td>...</td>\n",
       "      <td>...</td>\n",
       "    </tr>\n",
       "    <tr>\n",
       "      <th>2023-06-26</th>\n",
       "      <td>0.984436</td>\n",
       "      <td>0.947561</td>\n",
       "      <td>1.000000</td>\n",
       "      <td>0.053683</td>\n",
       "    </tr>\n",
       "    <tr>\n",
       "      <th>2023-06-27</th>\n",
       "      <td>0.980545</td>\n",
       "      <td>0.926829</td>\n",
       "      <td>0.939314</td>\n",
       "      <td>0.118341</td>\n",
       "    </tr>\n",
       "    <tr>\n",
       "      <th>2023-06-28</th>\n",
       "      <td>0.968872</td>\n",
       "      <td>0.917073</td>\n",
       "      <td>0.922164</td>\n",
       "      <td>0.094449</td>\n",
       "    </tr>\n",
       "    <tr>\n",
       "      <th>2023-06-29</th>\n",
       "      <td>0.914397</td>\n",
       "      <td>0.896341</td>\n",
       "      <td>0.918206</td>\n",
       "      <td>0.091097</td>\n",
       "    </tr>\n",
       "    <tr>\n",
       "      <th>2023-06-30</th>\n",
       "      <td>0.941634</td>\n",
       "      <td>0.926829</td>\n",
       "      <td>0.943272</td>\n",
       "      <td>0.097338</td>\n",
       "    </tr>\n",
       "  </tbody>\n",
       "</table>\n",
       "<p>617 rows × 4 columns</p>\n",
       "</div>"
      ],
      "text/plain": [
       "                Open      High       Low    Volume\n",
       "Date                                              \n",
       "2021-01-04  0.043032  0.042956  0.042551  0.252685\n",
       "2021-01-05  0.044914  0.043116  0.044641  0.166713\n",
       "2021-01-06  0.045344  0.042794  0.044641  0.133096\n",
       "2021-01-07  0.046198  0.045207  0.046033  0.215839\n",
       "2021-01-08  0.048767  0.047862  0.048905  0.218127\n",
       "...              ...       ...       ...       ...\n",
       "2023-06-26  0.984436  0.947561  1.000000  0.053683\n",
       "2023-06-27  0.980545  0.926829  0.939314  0.118341\n",
       "2023-06-28  0.968872  0.917073  0.922164  0.094449\n",
       "2023-06-29  0.914397  0.896341  0.918206  0.091097\n",
       "2023-06-30  0.941634  0.926829  0.943272  0.097338\n",
       "\n",
       "[617 rows x 4 columns]"
      ]
     },
     "execution_count": 6,
     "metadata": {},
     "output_type": "execute_result"
    }
   ],
   "source": [
    "dfx = df[['Open', 'High', 'Low', 'Close', 'Volume']]\n",
    "dfx = MinMaxScaler(dfx)\n",
    "\n",
    "dfy = dfx[['Close']]\n",
    "dfx = dfx[['Open', 'High', 'Low', 'Volume']]\n",
    "\n",
    "dfx"
   ]
  },
  {
   "cell_type": "code",
   "execution_count": 7,
   "id": "d61bd58d",
   "metadata": {},
   "outputs": [
    {
     "data": {
      "text/html": [
       "<div>\n",
       "<style scoped>\n",
       "    .dataframe tbody tr th:only-of-type {\n",
       "        vertical-align: middle;\n",
       "    }\n",
       "\n",
       "    .dataframe tbody tr th {\n",
       "        vertical-align: top;\n",
       "    }\n",
       "\n",
       "    .dataframe thead th {\n",
       "        text-align: right;\n",
       "    }\n",
       "</style>\n",
       "<table border=\"1\" class=\"dataframe\">\n",
       "  <thead>\n",
       "    <tr style=\"text-align: right;\">\n",
       "      <th></th>\n",
       "      <th>Open</th>\n",
       "      <th>High</th>\n",
       "      <th>Low</th>\n",
       "      <th>Volume</th>\n",
       "    </tr>\n",
       "  </thead>\n",
       "  <tbody>\n",
       "    <tr>\n",
       "      <th>count</th>\n",
       "      <td>617.000000</td>\n",
       "      <td>617.000000</td>\n",
       "      <td>617.000000</td>\n",
       "      <td>617.000000</td>\n",
       "    </tr>\n",
       "    <tr>\n",
       "      <th>mean</th>\n",
       "      <td>0.196938</td>\n",
       "      <td>0.192419</td>\n",
       "      <td>0.194062</td>\n",
       "      <td>0.126813</td>\n",
       "    </tr>\n",
       "    <tr>\n",
       "      <th>std</th>\n",
       "      <td>0.227732</td>\n",
       "      <td>0.224077</td>\n",
       "      <td>0.222582</td>\n",
       "      <td>0.121733</td>\n",
       "    </tr>\n",
       "    <tr>\n",
       "      <th>min</th>\n",
       "      <td>0.000000</td>\n",
       "      <td>0.000000</td>\n",
       "      <td>0.000000</td>\n",
       "      <td>0.000000</td>\n",
       "    </tr>\n",
       "    <tr>\n",
       "      <th>25%</th>\n",
       "      <td>0.087432</td>\n",
       "      <td>0.085761</td>\n",
       "      <td>0.085599</td>\n",
       "      <td>0.053641</td>\n",
       "    </tr>\n",
       "    <tr>\n",
       "      <th>50%</th>\n",
       "      <td>0.122307</td>\n",
       "      <td>0.118251</td>\n",
       "      <td>0.121391</td>\n",
       "      <td>0.089322</td>\n",
       "    </tr>\n",
       "    <tr>\n",
       "      <th>75%</th>\n",
       "      <td>0.163813</td>\n",
       "      <td>0.158445</td>\n",
       "      <td>0.163061</td>\n",
       "      <td>0.162161</td>\n",
       "    </tr>\n",
       "    <tr>\n",
       "      <th>max</th>\n",
       "      <td>1.000000</td>\n",
       "      <td>1.000000</td>\n",
       "      <td>1.000000</td>\n",
       "      <td>1.000000</td>\n",
       "    </tr>\n",
       "  </tbody>\n",
       "</table>\n",
       "</div>"
      ],
      "text/plain": [
       "             Open        High         Low      Volume\n",
       "count  617.000000  617.000000  617.000000  617.000000\n",
       "mean     0.196938    0.192419    0.194062    0.126813\n",
       "std      0.227732    0.224077    0.222582    0.121733\n",
       "min      0.000000    0.000000    0.000000    0.000000\n",
       "25%      0.087432    0.085761    0.085599    0.053641\n",
       "50%      0.122307    0.118251    0.121391    0.089322\n",
       "75%      0.163813    0.158445    0.163061    0.162161\n",
       "max      1.000000    1.000000    1.000000    1.000000"
      ]
     },
     "execution_count": 7,
     "metadata": {},
     "output_type": "execute_result"
    }
   ],
   "source": [
    "dfx.describe()"
   ]
  },
  {
   "cell_type": "code",
   "execution_count": 8,
   "id": "e14294ca",
   "metadata": {},
   "outputs": [
    {
     "data": {
      "text/html": [
       "<div>\n",
       "<style scoped>\n",
       "    .dataframe tbody tr th:only-of-type {\n",
       "        vertical-align: middle;\n",
       "    }\n",
       "\n",
       "    .dataframe tbody tr th {\n",
       "        vertical-align: top;\n",
       "    }\n",
       "\n",
       "    .dataframe thead th {\n",
       "        text-align: right;\n",
       "    }\n",
       "</style>\n",
       "<table border=\"1\" class=\"dataframe\">\n",
       "  <thead>\n",
       "    <tr style=\"text-align: right;\">\n",
       "      <th></th>\n",
       "      <th>Close</th>\n",
       "    </tr>\n",
       "    <tr>\n",
       "      <th>Date</th>\n",
       "      <th></th>\n",
       "    </tr>\n",
       "  </thead>\n",
       "  <tbody>\n",
       "    <tr>\n",
       "      <th>2021-01-04</th>\n",
       "      <td>0.000715</td>\n",
       "    </tr>\n",
       "    <tr>\n",
       "      <th>2021-01-05</th>\n",
       "      <td>0.000179</td>\n",
       "    </tr>\n",
       "    <tr>\n",
       "      <th>2021-01-06</th>\n",
       "      <td>0.000000</td>\n",
       "    </tr>\n",
       "    <tr>\n",
       "      <th>2021-01-07</th>\n",
       "      <td>0.002593</td>\n",
       "    </tr>\n",
       "    <tr>\n",
       "      <th>2021-01-08</th>\n",
       "      <td>0.005279</td>\n",
       "    </tr>\n",
       "  </tbody>\n",
       "</table>\n",
       "</div>"
      ],
      "text/plain": [
       "               Close\n",
       "Date                \n",
       "2021-01-04  0.000715\n",
       "2021-01-05  0.000179\n",
       "2021-01-06  0.000000\n",
       "2021-01-07  0.002593\n",
       "2021-01-08  0.005279"
      ]
     },
     "execution_count": 8,
     "metadata": {},
     "output_type": "execute_result"
    }
   ],
   "source": [
    "dfy.head()"
   ]
  },
  {
   "cell_type": "code",
   "execution_count": 9,
   "id": "adc2b92e",
   "metadata": {},
   "outputs": [],
   "source": [
    "time_step = 10\n",
    "step = 1\n",
    "\n",
    "def create_dataset(X, y, time_step, step):\n",
    "    Xs, ys = [], []\n",
    "\n",
    "    for i in range(0, len(X) - time_step, step):\n",
    "        v = X.iloc[i : (i + time_step)].values\n",
    "        labels = y.iloc[i + time_step]\n",
    "\n",
    "        Xs.append(v)\n",
    "        ys.append(labels)\n",
    "\n",
    "    return np.array(Xs), np.array(ys)"
   ]
  },
  {
   "cell_type": "code",
   "execution_count": 10,
   "id": "95f72037",
   "metadata": {},
   "outputs": [
    {
     "data": {
      "text/plain": [
       "(607, 10, 4)"
      ]
     },
     "execution_count": 10,
     "metadata": {},
     "output_type": "execute_result"
    }
   ],
   "source": [
    "X, y = create_dataset(dfx, dfy, time_step, step)\n",
    "\n",
    "X.shape"
   ]
  },
  {
   "cell_type": "code",
   "execution_count": 11,
   "id": "4273e9f7",
   "metadata": {},
   "outputs": [
    {
     "data": {
      "text/plain": [
       "((485, 10, 4), (122, 10, 4), (485, 1), (122, 1))"
      ]
     },
     "execution_count": 11,
     "metadata": {},
     "output_type": "execute_result"
    }
   ],
   "source": [
    "from sklearn.model_selection import train_test_split\n",
    "\n",
    "X_train, X_test, y_train, y_test = train_test_split(X, y, test_size=0.2, random_state=42, shuffle=False)\n",
    "\n",
    "X_train.shape, X_test.shape, y_train.shape, y_test.shape"
   ]
  },
  {
   "cell_type": "code",
   "execution_count": 12,
   "id": "175422e3",
   "metadata": {},
   "outputs": [],
   "source": [
    "n_timesteps,n_features,n_outputs=X_train.shape[1],X_train.shape[2],y_train.shape[1]"
   ]
  },
  {
   "cell_type": "code",
   "execution_count": 13,
   "id": "4ec843f3",
   "metadata": {},
   "outputs": [
    {
     "data": {
      "text/plain": [
       "(10, 4, 1)"
      ]
     },
     "execution_count": 13,
     "metadata": {},
     "output_type": "execute_result"
    }
   ],
   "source": [
    "n_timesteps, n_features, n_outputs"
   ]
  },
  {
   "cell_type": "code",
   "execution_count": 14,
   "id": "fc57dbe0",
   "metadata": {},
   "outputs": [
    {
     "data": {
      "text/plain": [
       "(617, 4)"
      ]
     },
     "execution_count": 14,
     "metadata": {},
     "output_type": "execute_result"
    }
   ],
   "source": [
    "dfx.shape"
   ]
  },
  {
   "cell_type": "code",
   "execution_count": 17,
   "id": "000756d3",
   "metadata": {},
   "outputs": [],
   "source": [
    "from tensorflow.keras.models import Sequential\n",
    "from tensorflow.keras.layers import Dense, SimpleRNN, Dropout, Conv1D, MaxPooling1D, Flatten"
   ]
  },
  {
   "cell_type": "code",
   "execution_count": 22,
   "id": "554e3b94",
   "metadata": {},
   "outputs": [
    {
     "name": "stdout",
     "output_type": "stream",
     "text": [
      "Model: \"sequential_2\"\n",
      "_________________________________________________________________\n",
      " Layer (type)                Output Shape              Param #   \n",
      "=================================================================\n",
      " conv1d_4 (Conv1D)           (None, 8, 64)             832       \n",
      "                                                                 \n",
      " conv1d_5 (Conv1D)           (None, 6, 64)             12352     \n",
      "                                                                 \n",
      " dropout_2 (Dropout)         (None, 6, 64)             0         \n",
      "                                                                 \n",
      " max_pooling1d_2 (MaxPooling  (None, 3, 64)            0         \n",
      " 1D)                                                             \n",
      "                                                                 \n",
      " flatten_1 (Flatten)         (None, 192)               0         \n",
      "                                                                 \n",
      " dense_2 (Dense)             (None, 64)                12352     \n",
      "                                                                 \n",
      " dense_3 (Dense)             (None, 1)                 65        \n",
      "                                                                 \n",
      "=================================================================\n",
      "Total params: 25,601\n",
      "Trainable params: 25,601\n",
      "Non-trainable params: 0\n",
      "_________________________________________________________________\n"
     ]
    }
   ],
   "source": [
    "model = Sequential()\n",
    "model.add(Conv1D(filters=64, kernel_size=3, activation='relu', input_shape=(n_timesteps,n_features)))\n",
    "model.add(Conv1D(filters=64, kernel_size=3, activation='relu', input_shape=(n_timesteps,n_features)))\n",
    "model.add(Dropout(0.5))\n",
    "model.add(MaxPooling1D(pool_size=2))\n",
    "model.add(Flatten())\n",
    "model.add(Dense(64, activation='relu'))\n",
    "model.add(Dense(n_outputs, activation='linear'))\n",
    "\n",
    "model.summary()"
   ]
  },
  {
   "cell_type": "code",
   "execution_count": 23,
   "id": "26692c68",
   "metadata": {},
   "outputs": [],
   "source": [
    "model.compile(loss='mse', optimizer='adam')"
   ]
  },
  {
   "cell_type": "code",
   "execution_count": 24,
   "id": "329325c4",
   "metadata": {
    "scrolled": true
   },
   "outputs": [
    {
     "name": "stdout",
     "output_type": "stream",
     "text": [
      "Epoch 1/100\n",
      "16/16 [==============================] - 1s 13ms/step - loss: 0.0010 - val_loss: 0.1886\n",
      "Epoch 2/100\n",
      "16/16 [==============================] - 0s 5ms/step - loss: 0.0011 - val_loss: 0.1082\n",
      "Epoch 3/100\n",
      "16/16 [==============================] - 0s 5ms/step - loss: 6.6855e-04 - val_loss: 0.0879\n",
      "Epoch 4/100\n",
      "16/16 [==============================] - 0s 5ms/step - loss: 3.4953e-04 - val_loss: 0.0774\n",
      "Epoch 5/100\n",
      "16/16 [==============================] - 0s 4ms/step - loss: 5.0542e-04 - val_loss: 0.0643\n",
      "Epoch 6/100\n",
      "16/16 [==============================] - 0s 5ms/step - loss: 3.8792e-04 - val_loss: 0.0821\n",
      "Epoch 7/100\n",
      "16/16 [==============================] - 0s 4ms/step - loss: 2.9710e-04 - val_loss: 0.0810\n",
      "Epoch 8/100\n",
      "16/16 [==============================] - 0s 5ms/step - loss: 2.8827e-04 - val_loss: 0.0826\n",
      "Epoch 9/100\n",
      "16/16 [==============================] - 0s 5ms/step - loss: 2.5029e-04 - val_loss: 0.0820\n",
      "Epoch 10/100\n",
      "16/16 [==============================] - 0s 4ms/step - loss: 2.6902e-04 - val_loss: 0.0822\n",
      "Epoch 11/100\n",
      "16/16 [==============================] - 0s 4ms/step - loss: 3.0983e-04 - val_loss: 0.0840\n",
      "Epoch 12/100\n",
      "16/16 [==============================] - 0s 4ms/step - loss: 3.7204e-04 - val_loss: 0.0907\n",
      "Epoch 13/100\n",
      "16/16 [==============================] - 0s 5ms/step - loss: 2.8576e-04 - val_loss: 0.0927\n",
      "Epoch 14/100\n",
      "16/16 [==============================] - 0s 4ms/step - loss: 2.4441e-04 - val_loss: 0.0903\n",
      "Epoch 15/100\n",
      "16/16 [==============================] - 0s 5ms/step - loss: 2.1591e-04 - val_loss: 0.0861\n",
      "Epoch 16/100\n",
      "16/16 [==============================] - 0s 4ms/step - loss: 2.1182e-04 - val_loss: 0.0857\n",
      "Epoch 17/100\n",
      "16/16 [==============================] - 0s 5ms/step - loss: 1.7021e-04 - val_loss: 0.0843\n",
      "Epoch 18/100\n",
      "16/16 [==============================] - 0s 5ms/step - loss: 1.8142e-04 - val_loss: 0.0844\n",
      "Epoch 19/100\n",
      "16/16 [==============================] - 0s 5ms/step - loss: 1.8548e-04 - val_loss: 0.0785\n",
      "Epoch 20/100\n",
      "16/16 [==============================] - 0s 5ms/step - loss: 1.7424e-04 - val_loss: 0.0805\n",
      "Epoch 21/100\n",
      "16/16 [==============================] - 0s 5ms/step - loss: 2.3225e-04 - val_loss: 0.0845\n",
      "Epoch 22/100\n",
      "16/16 [==============================] - 0s 5ms/step - loss: 2.9727e-04 - val_loss: 0.0837\n",
      "Epoch 23/100\n",
      "16/16 [==============================] - 0s 5ms/step - loss: 3.4135e-04 - val_loss: 0.0953\n",
      "Epoch 24/100\n",
      "16/16 [==============================] - 0s 4ms/step - loss: 2.5470e-04 - val_loss: 0.0955\n",
      "Epoch 25/100\n",
      "16/16 [==============================] - 0s 4ms/step - loss: 1.7246e-04 - val_loss: 0.0887\n",
      "Epoch 26/100\n",
      "16/16 [==============================] - 0s 4ms/step - loss: 1.4195e-04 - val_loss: 0.0814\n",
      "Epoch 27/100\n",
      "16/16 [==============================] - 0s 5ms/step - loss: 1.7159e-04 - val_loss: 0.0802\n",
      "Epoch 28/100\n",
      "16/16 [==============================] - 0s 4ms/step - loss: 2.4142e-04 - val_loss: 0.0839\n",
      "Epoch 29/100\n",
      "16/16 [==============================] - 0s 4ms/step - loss: 1.9049e-04 - val_loss: 0.0835\n",
      "Epoch 30/100\n",
      "16/16 [==============================] - 0s 4ms/step - loss: 1.5233e-04 - val_loss: 0.0830\n",
      "Epoch 31/100\n",
      "16/16 [==============================] - 0s 5ms/step - loss: 1.1912e-04 - val_loss: 0.0774\n",
      "Epoch 32/100\n",
      "16/16 [==============================] - 0s 5ms/step - loss: 1.2417e-04 - val_loss: 0.0765\n",
      "Epoch 33/100\n",
      "16/16 [==============================] - 0s 4ms/step - loss: 1.7466e-04 - val_loss: 0.0806\n",
      "Epoch 34/100\n",
      "16/16 [==============================] - 0s 4ms/step - loss: 1.8624e-04 - val_loss: 0.0821\n",
      "Epoch 35/100\n",
      "16/16 [==============================] - 0s 4ms/step - loss: 2.1974e-04 - val_loss: 0.0810\n",
      "Epoch 36/100\n",
      "16/16 [==============================] - 0s 4ms/step - loss: 2.9004e-04 - val_loss: 0.0856\n",
      "Epoch 37/100\n",
      "16/16 [==============================] - 0s 4ms/step - loss: 2.8688e-04 - val_loss: 0.0920\n",
      "Epoch 38/100\n",
      "16/16 [==============================] - 0s 4ms/step - loss: 2.4749e-04 - val_loss: 0.0931\n",
      "Epoch 39/100\n",
      "16/16 [==============================] - 0s 4ms/step - loss: 1.6858e-04 - val_loss: 0.0838\n",
      "Epoch 40/100\n",
      "16/16 [==============================] - 0s 4ms/step - loss: 1.2571e-04 - val_loss: 0.0813\n",
      "Epoch 41/100\n",
      "16/16 [==============================] - 0s 4ms/step - loss: 1.1302e-04 - val_loss: 0.0740\n",
      "Epoch 42/100\n",
      "16/16 [==============================] - 0s 5ms/step - loss: 1.2488e-04 - val_loss: 0.0753\n",
      "Epoch 43/100\n",
      "16/16 [==============================] - 0s 5ms/step - loss: 1.6135e-04 - val_loss: 0.0818\n",
      "Epoch 44/100\n",
      "16/16 [==============================] - 0s 5ms/step - loss: 2.0544e-04 - val_loss: 0.0838\n",
      "Epoch 45/100\n",
      "16/16 [==============================] - 0s 4ms/step - loss: 2.0159e-04 - val_loss: 0.0814\n",
      "Epoch 46/100\n",
      "16/16 [==============================] - 0s 4ms/step - loss: 1.7174e-04 - val_loss: 0.0795\n",
      "Epoch 47/100\n",
      "16/16 [==============================] - 0s 4ms/step - loss: 1.8047e-04 - val_loss: 0.0803\n",
      "Epoch 48/100\n",
      "16/16 [==============================] - 0s 4ms/step - loss: 1.1396e-04 - val_loss: 0.0724\n",
      "Epoch 49/100\n",
      "16/16 [==============================] - 0s 4ms/step - loss: 1.0945e-04 - val_loss: 0.0700\n",
      "Epoch 50/100\n",
      "16/16 [==============================] - 0s 4ms/step - loss: 1.1797e-04 - val_loss: 0.0727\n",
      "Epoch 51/100\n",
      "16/16 [==============================] - 0s 4ms/step - loss: 1.0367e-04 - val_loss: 0.0684\n",
      "Epoch 52/100\n",
      "16/16 [==============================] - 0s 4ms/step - loss: 1.3403e-04 - val_loss: 0.0740\n",
      "Epoch 53/100\n",
      "16/16 [==============================] - 0s 4ms/step - loss: 1.3614e-04 - val_loss: 0.0711\n",
      "Epoch 54/100\n",
      "16/16 [==============================] - 0s 5ms/step - loss: 1.4466e-04 - val_loss: 0.0755\n",
      "Epoch 55/100\n",
      "16/16 [==============================] - 0s 5ms/step - loss: 1.7874e-04 - val_loss: 0.0732\n",
      "Epoch 56/100\n",
      "16/16 [==============================] - 0s 5ms/step - loss: 2.3799e-04 - val_loss: 0.0775\n",
      "Epoch 57/100\n",
      "16/16 [==============================] - 0s 5ms/step - loss: 2.6755e-04 - val_loss: 0.0786\n",
      "Epoch 58/100\n",
      "16/16 [==============================] - 0s 4ms/step - loss: 2.5958e-04 - val_loss: 0.0870\n",
      "Epoch 59/100\n",
      "16/16 [==============================] - 0s 5ms/step - loss: 1.7457e-04 - val_loss: 0.0801\n",
      "Epoch 60/100\n",
      "16/16 [==============================] - 0s 4ms/step - loss: 1.3900e-04 - val_loss: 0.0760\n",
      "Epoch 61/100\n",
      "16/16 [==============================] - 0s 4ms/step - loss: 9.8584e-05 - val_loss: 0.0689\n",
      "Epoch 62/100\n",
      "16/16 [==============================] - 0s 4ms/step - loss: 1.0172e-04 - val_loss: 0.0719\n",
      "Epoch 63/100\n",
      "16/16 [==============================] - 0s 4ms/step - loss: 1.0698e-04 - val_loss: 0.0724\n",
      "Epoch 64/100\n",
      "16/16 [==============================] - 0s 4ms/step - loss: 1.2041e-04 - val_loss: 0.0781\n",
      "Epoch 65/100\n",
      "16/16 [==============================] - 0s 5ms/step - loss: 1.6565e-04 - val_loss: 0.0762\n",
      "Epoch 66/100\n",
      "16/16 [==============================] - 0s 4ms/step - loss: 1.8636e-04 - val_loss: 0.0813\n",
      "Epoch 67/100\n",
      "16/16 [==============================] - 0s 4ms/step - loss: 1.5238e-04 - val_loss: 0.0758\n",
      "Epoch 68/100\n",
      "16/16 [==============================] - 0s 5ms/step - loss: 1.4669e-04 - val_loss: 0.0759\n",
      "Epoch 69/100\n",
      "16/16 [==============================] - 0s 4ms/step - loss: 1.2701e-04 - val_loss: 0.0707\n",
      "Epoch 70/100\n",
      "16/16 [==============================] - 0s 5ms/step - loss: 1.2430e-04 - val_loss: 0.0729\n",
      "Epoch 71/100\n",
      "16/16 [==============================] - 0s 5ms/step - loss: 9.3412e-05 - val_loss: 0.0700\n",
      "Epoch 72/100\n",
      "16/16 [==============================] - 0s 5ms/step - loss: 8.4864e-05 - val_loss: 0.0728\n",
      "Epoch 73/100\n",
      "16/16 [==============================] - 0s 5ms/step - loss: 8.3849e-05 - val_loss: 0.0701\n",
      "Epoch 74/100\n",
      "16/16 [==============================] - 0s 5ms/step - loss: 9.4735e-05 - val_loss: 0.0719\n",
      "Epoch 75/100\n",
      "16/16 [==============================] - 0s 5ms/step - loss: 1.1033e-04 - val_loss: 0.0720\n",
      "Epoch 76/100\n",
      "16/16 [==============================] - 0s 5ms/step - loss: 1.5728e-04 - val_loss: 0.0747\n",
      "Epoch 77/100\n",
      "16/16 [==============================] - 0s 4ms/step - loss: 1.4920e-04 - val_loss: 0.0722\n",
      "Epoch 78/100\n",
      "16/16 [==============================] - 0s 5ms/step - loss: 1.6280e-04 - val_loss: 0.0755\n",
      "Epoch 79/100\n",
      "16/16 [==============================] - 0s 5ms/step - loss: 1.6396e-04 - val_loss: 0.0711\n"
     ]
    },
    {
     "name": "stdout",
     "output_type": "stream",
     "text": [
      "Epoch 80/100\n",
      "16/16 [==============================] - 0s 5ms/step - loss: 1.5143e-04 - val_loss: 0.0736\n",
      "Epoch 81/100\n",
      "16/16 [==============================] - 0s 5ms/step - loss: 1.2083e-04 - val_loss: 0.0697\n",
      "Epoch 82/100\n",
      "16/16 [==============================] - 0s 5ms/step - loss: 1.2113e-04 - val_loss: 0.0673\n",
      "Epoch 83/100\n",
      "16/16 [==============================] - 0s 5ms/step - loss: 1.2184e-04 - val_loss: 0.0683\n",
      "Epoch 84/100\n",
      "16/16 [==============================] - 0s 5ms/step - loss: 9.6963e-05 - val_loss: 0.0652\n",
      "Epoch 85/100\n",
      "16/16 [==============================] - 0s 4ms/step - loss: 1.0300e-04 - val_loss: 0.0694\n",
      "Epoch 86/100\n",
      "16/16 [==============================] - 0s 5ms/step - loss: 8.7461e-05 - val_loss: 0.0687\n",
      "Epoch 87/100\n",
      "16/16 [==============================] - 0s 5ms/step - loss: 7.9651e-05 - val_loss: 0.0694\n",
      "Epoch 88/100\n",
      "16/16 [==============================] - 0s 4ms/step - loss: 8.6118e-05 - val_loss: 0.0720\n",
      "Epoch 89/100\n",
      "16/16 [==============================] - 0s 4ms/step - loss: 7.3738e-05 - val_loss: 0.0709\n",
      "Epoch 90/100\n",
      "16/16 [==============================] - 0s 5ms/step - loss: 8.2819e-05 - val_loss: 0.0724\n",
      "Epoch 91/100\n",
      "16/16 [==============================] - 0s 5ms/step - loss: 1.1381e-04 - val_loss: 0.0706\n",
      "Epoch 92/100\n",
      "16/16 [==============================] - 0s 5ms/step - loss: 2.0682e-04 - val_loss: 0.0771\n",
      "Epoch 93/100\n",
      "16/16 [==============================] - 0s 5ms/step - loss: 2.5507e-04 - val_loss: 0.0817\n",
      "Epoch 94/100\n",
      "16/16 [==============================] - 0s 5ms/step - loss: 2.2436e-04 - val_loss: 0.0831\n",
      "Epoch 95/100\n",
      "16/16 [==============================] - 0s 5ms/step - loss: 1.4998e-04 - val_loss: 0.0786\n",
      "Epoch 96/100\n",
      "16/16 [==============================] - 0s 4ms/step - loss: 1.0361e-04 - val_loss: 0.0725\n",
      "Epoch 97/100\n",
      "16/16 [==============================] - 0s 5ms/step - loss: 9.5444e-05 - val_loss: 0.0705\n",
      "Epoch 98/100\n",
      "16/16 [==============================] - 0s 5ms/step - loss: 9.5043e-05 - val_loss: 0.0734\n",
      "Epoch 99/100\n",
      "16/16 [==============================] - 0s 5ms/step - loss: 1.0331e-04 - val_loss: 0.0672\n",
      "Epoch 100/100\n",
      "16/16 [==============================] - 0s 5ms/step - loss: 1.1273e-04 - val_loss: 0.0809\n"
     ]
    }
   ],
   "source": [
    "history = model.fit(X_train, y_train, epochs=100, batch_size=32, validation_data=(X_test, y_test), shuffle=False)"
   ]
  },
  {
   "cell_type": "code",
   "execution_count": 25,
   "id": "35d3e8b5",
   "metadata": {},
   "outputs": [
    {
     "data": {
      "image/png": "[encoded data removed]",
      "text/plain": [
       "<Figure size 640x480 with 1 Axes>"
      ]
     },
     "metadata": {},
     "output_type": "display_data"
    }
   ],
   "source": [
    "loss = history.history['loss']\n",
    "val_loss = history.history['val_loss']\n",
    "\n",
    "x = np.arange(0, len(history.history['loss']))\n",
    "\n",
    "plt.plot(x, loss, 'y', label='loss')\n",
    "plt.plot(x, val_loss, 'r', label='val loss')\n",
    "plt.title('Losses')\n",
    "plt.xlabel('epochs')\n",
    "plt.ylabel('loss')\n",
    "plt.legend()\n",
    "plt.show()"
   ]
  },
  {
   "cell_type": "code",
   "execution_count": 53,
   "id": "9d7e9f05",
   "metadata": {},
   "outputs": [
    {
     "name": "stdout",
     "output_type": "stream",
     "text": [
      "4/4 [==============================] - 0s 2ms/step - loss: 0.0366\n",
      "4/4 [==============================] - 0s 3ms/step\n"
     ]
    }
   ],
   "source": [
    "model.evaluate(X_test, y_test)\n",
    "y_pred = model.predict(X_test)"
   ]
  },
  {
   "cell_type": "code",
   "execution_count": 54,
   "id": "3c3ee43b",
   "metadata": {},
   "outputs": [
    {
     "data": {
      "image/png": "[encoded data removed]",
      "text/plain": [
       "<Figure size 640x480 with 1 Axes>"
      ]
     },
     "metadata": {},
     "output_type": "display_data"
    }
   ],
   "source": [
    "y_pred.shape\n",
    "\n",
    "plt.plot(y_test, color='red', label='real stock price')\n",
    "plt.plot(y_pred, color='blue', label='predicted stock price')\n",
    "plt.title('stock price prediction')\n",
    "plt.xlabel('time')\n",
    "plt.ylabel('stock price')\n",
    "plt.legend()\n",
    "plt.show()"
   ]
  },
  {
   "cell_type": "code",
   "execution_count": null,
   "id": "d0e34e18",
   "metadata": {},
   "outputs": [],
   "source": []
  }
 ],
 "metadata": {
  "kernelspec": {
   "display_name": "homl3",
   "language": "python",
   "name": "homl3"
  },
  "language_info": {
   "codemirror_mode": {
    "name": "ipython",
    "version": 3
   },
   "file_extension": ".py",
   "mimetype": "text/x-python",
   "name": "python",
   "nbconvert_exporter": "python",
   "pygments_lexer": "ipython3",
   "version": "3.10.12"
  }
 },
 "nbformat": 4,
 "nbformat_minor": 5
}

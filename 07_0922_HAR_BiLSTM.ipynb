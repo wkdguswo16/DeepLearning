{
 "cells": [
  {
   "cell_type": "code",
   "execution_count": 8,
   "metadata": {
    "id": "LmJZAAI28-yb"
   },
   "outputs": [],
   "source": [
    "from ai_assets import *"
   ]
  },
  {
   "cell_type": "code",
   "execution_count": 2,
   "metadata": {
    "id": "3m-s15_wL6nY"
   },
   "outputs": [],
   "source": [
    "# load a single file as a numpy array\n",
    "def load_file(filepath):\n",
    "    dataframe = pd.read_csv(filepath, header=None, delim_whitespace=True)\n",
    "    return dataframe.values\n",
    "\n",
    "# load a list of files and return as a 3d numpy array\n",
    "\n",
    "\n",
    "def load_group(filenames, prefix=''):\n",
    "    loaded = list()\n",
    "    for name in filenames:\n",
    "        data = load_file(prefix + name)\n",
    "        loaded.append(data)\n",
    "    # stack group so that features are the 3rd dimension\n",
    "    loaded = np.dstack(loaded)\n",
    "    return loaded\n",
    "\n",
    "# load a dataset group, such as train or test\n",
    "\n",
    "\n",
    "def load_dataset_group(group, prefix=''):\n",
    "    filepath = prefix + group + '/Inertial Signals/'\n",
    "    # load all 9 files as a single array\n",
    "    filenames = list()\n",
    "    # total acceleration\n",
    "    filenames += ['total_acc_x_'+group+'.txt', 'total_acc_y_' +\n",
    "                  group+'.txt', 'total_acc_z_'+group+'.txt']\n",
    "    # body acceleration\n",
    "    filenames += ['body_acc_x_'+group+'.txt', 'body_acc_y_' +\n",
    "                  group+'.txt', 'body_acc_z_'+group+'.txt']\n",
    "    # body gyroscope\n",
    "    filenames += ['body_gyro_x_'+group+'.txt', 'body_gyro_y_' +\n",
    "                  group+'.txt', 'body_gyro_z_'+group+'.txt']\n",
    "    # load input data\n",
    "    X = load_group(filenames, filepath)\n",
    "    # load class output\n",
    "    y = load_file(prefix + group + '/y_'+group+'.txt')\n",
    "    return X, y\n",
    "\n",
    "# load the dataset, returns train and test X and y elements\n",
    "\n",
    "\n",
    "def load_dataset(prefix=''):\n",
    "    # load all train\n",
    "    trainX, trainy = load_dataset_group(\n",
    "        'train', prefix + './data/UCI_HAR_Dataset/')\n",
    "    # load all test\n",
    "    testX, testy = load_dataset_group(\n",
    "        'test', prefix + './data/UCI_HAR_Dataset/')\n",
    "    # zero-offset class values\n",
    "    trainy = trainy - 1\n",
    "    testy = testy - 1\n",
    "    # one hot encode y\n",
    "    trainy = to_categorical(trainy)\n",
    "    testy = to_categorical(testy)\n",
    "    print(\"trainX shape: \", trainX.shape)\n",
    "    print(\"trainy shape: \", trainy.shape)\n",
    "    print(\"testX shape: \", testX.shape)\n",
    "    print(\"testy shape: \", testy.shape)\n",
    "    return trainX, trainy, testX, testy"
   ]
  },
  {
   "cell_type": "markdown",
   "metadata": {
    "id": "ROBYvzz_jjaQ"
   },
   "source": [
    "For training data we have 7352 different samples, where one sample is one window of the time series data, each window has 128 time steps, and a time step has nine variables or features.\n",
    "\n",
    "Similarly for testing data we have 2947 different samples. "
   ]
  },
  {
   "cell_type": "code",
   "execution_count": 3,
   "metadata": {
    "colab": {
     "base_uri": "https://localhost:8080/"
    },
    "id": "fiB1z9ciNU4d",
    "outputId": "d1be26b4-0d0e-4c60-f073-4757db4e5642"
   },
   "outputs": [
    {
     "name": "stdout",
     "output_type": "stream",
     "text": [
      "trainX shape:  (7352, 128, 9)\n",
      "trainy shape:  (7352, 6)\n",
      "testX shape:  (2947, 128, 9)\n",
      "testy shape:  (2947, 6)\n"
     ]
    }
   ],
   "source": [
    "trainX, trainy, testX, testy = load_dataset()"
   ]
  },
  {
   "cell_type": "markdown",
   "metadata": {
    "id": "Vpyoslro1zie"
   },
   "source": [
    "## Explore the data\n",
    "\n",
    "\n"
   ]
  },
  {
   "cell_type": "markdown",
   "metadata": {
    "id": "S3tWXRvEBLY8"
   },
   "source": [
    "In this dataset we have the following 9 features:\n",
    "\n",
    "\n",
    "1.   Total Acceleration x\n",
    "2.   Total Acceleration y\n",
    "3.   Total Acceleration z\n",
    "4.   Body Acceleration x\n",
    "5.   Body Acceleration y\n",
    "6.   Body Acceleration z\n",
    "7.   Body Gyroscope x\n",
    "8.   Body Gyroscope y\n",
    "9.   Body Gyroscope z\n"
   ]
  },
  {
   "cell_type": "code",
   "execution_count": 4,
   "metadata": {
    "id": "X5jtI9_n1y3X"
   },
   "outputs": [],
   "source": [
    "# Helper function to plot distribution of the features\n",
    "def plot_distributions(trainX):\n",
    "    # remove overlap\n",
    "    cut = int(trainX.shape[1] / 2)\n",
    "    longX = trainX[:, -cut:, :]\n",
    "    # flatten windows\n",
    "    longX = longX.reshape((longX.shape[0] * longX.shape[1], longX.shape[2]))\n",
    "    print(longX.shape)\n",
    "    plt.figure()\n",
    "    xaxis = None\n",
    "    for i in range(longX.shape[1]):\n",
    "        ax = plt.subplot(longX.shape[1], 1, i+1, sharex=xaxis)\n",
    "        ax.set_xlim(-1, 1)\n",
    "        if i == 0:\n",
    "            xaxis = ax\n",
    "        plt.hist(longX[:, i], bins=100)\n",
    "    plt.show()"
   ]
  },
  {
   "cell_type": "code",
   "execution_count": 5,
   "metadata": {
    "colab": {
     "base_uri": "https://localhost:8080/",
     "height": 282
    },
    "id": "jGcrbI0R2nLr",
    "outputId": "6743301c-d820-4b3b-de8d-97dfe0d59875"
   },
   "outputs": [
    {
     "name": "stdout",
     "output_type": "stream",
     "text": [
      "(470528, 9)\n"
     ]
    },
    {
     "data": {
      "image/png": "[encoded data removed]",
      "text/plain": [
       "<Figure size 640x480 with 9 Axes>"
      ]
     },
     "metadata": {},
     "output_type": "display_data"
    }
   ],
   "source": [
    "# plot distributions\n",
    "plot_distributions(trainX)"
   ]
  },
  {
   "cell_type": "markdown",
   "metadata": {
    "id": "HElEpGi7B680"
   },
   "source": [
    "We can see that all variables except \"Total Acceleration x\" behave like normal distributions. "
   ]
  },
  {
   "cell_type": "markdown",
   "metadata": {
    "id": "aJmeQf3UP6yC"
   },
   "source": [
    "## Building the models\n",
    "\n",
    "In this workshop, we will develop 2 deep learning models and evaluate the classification accuracy.\n",
    "\n",
    "\n",
    "\n",
    "1.   LSTM model\n",
    "2.   CNN model\n",
    "\n"
   ]
  },
  {
   "cell_type": "markdown",
   "metadata": {
    "id": "M-6-CazrkSHB"
   },
   "source": [
    "Set common parameters across all the models"
   ]
  },
  {
   "cell_type": "code",
   "execution_count": 6,
   "metadata": {
    "id": "Ysi2Qik7ULJk"
   },
   "outputs": [],
   "source": [
    "## set number of epochs and batch size\n",
    "batch_size = 64\n",
    "validation_split = 0.2"
   ]
  },
  {
   "cell_type": "markdown",
   "metadata": {
    "id": "yDowZCTIP9Ht"
   },
   "source": [
    "### LSTM model"
   ]
  },
  {
   "cell_type": "markdown",
   "metadata": {
    "id": "qWLP55MOkr_T"
   },
   "source": [
    "Model design:\n",
    "\n",
    "The model is defined as a Sequential Keras model.\n",
    "\n",
    "The first layer of the model is set to a single LSTM hidden layer. This is followed by a dropout layer which is to reduce overfitting of the model to the training data. Finally, a dense fully connected layer is used to interpret the features extracted by the LSTM hidden layer, at last we have the final softmax layer which represent the 6 classes. "
   ]
  },
  {
   "cell_type": "code",
   "execution_count": 9,
   "metadata": {
    "colab": {
     "base_uri": "https://localhost:8080/",
     "height": 533
    },
    "id": "5k_E2WdFNakv",
    "outputId": "95d0f8b1-4df9-464a-f1d0-8981f01ac3af"
   },
   "outputs": [
    {
     "name": "stdout",
     "output_type": "stream",
     "text": [
      "Model: \"sequential_1\"\n",
      "_________________________________________________________________\n",
      " Layer (type)                Output Shape              Param #   \n",
      "=================================================================\n",
      " bidirectional (Bidirectiona  (None, 128, 64)          10752     \n",
      " l)                                                              \n",
      "                                                                 \n",
      " bidirectional_1 (Bidirectio  (None, 32)               10368     \n",
      " nal)                                                            \n",
      "                                                                 \n",
      " dense (Dense)               (None, 64)                2112      \n",
      "                                                                 \n",
      " dense_1 (Dense)             (None, 6)                 390       \n",
      "                                                                 \n",
      "=================================================================\n",
      "Total params: 23,622\n",
      "Trainable params: 23,622\n",
      "Non-trainable params: 0\n",
      "_________________________________________________________________\n"
     ]
    }
   ],
   "source": [
    "n_timesteps, n_features, n_outputs = trainX.shape[1], trainX.shape[2], trainy.shape[1]\n",
    "\n",
    "model = Sequential()\n",
    "model.add(Bidirectional(LSTM(32, return_sequences=True),\n",
    "          input_shape=(n_timesteps, n_features)))\n",
    "model.add(Bidirectional(LSTM(16)))\n",
    "model.add(Dense(64, activation='relu'))\n",
    "model.add(Dense(n_outputs, activation='softmax'))\n",
    "\n",
    "model.summary()"
   ]
  },
  {
   "cell_type": "markdown",
   "metadata": {
    "id": "Dxh6OJ4clsYK"
   },
   "source": [
    "Compile the model with [categorical_crossentropy](https://keras.io/api/losses/probabilistic_losses/#categoricalcrossentropy-class) loss function and [ADAM optimizer](https://keras.io/api/optimizers/)."
   ]
  },
  {
   "cell_type": "code",
   "execution_count": 10,
   "metadata": {
    "id": "d37n4LaWloqq"
   },
   "outputs": [],
   "source": [
    "model.compile(loss='categorical_crossentropy', optimizer='adam', metrics=['accuracy'])"
   ]
  },
  {
   "cell_type": "markdown",
   "metadata": {
    "id": "-pzCzBq8mIFD"
   },
   "source": [
    "\n",
    "Train the model"
   ]
  },
  {
   "cell_type": "code",
   "execution_count": 11,
   "metadata": {
    "colab": {
     "base_uri": "https://localhost:8080/"
    },
    "id": "thBjP-SAlrML",
    "outputId": "af94693b-82fa-4cbe-f00b-b8454d46ec15"
   },
   "outputs": [
    {
     "name": "stdout",
     "output_type": "stream",
     "text": [
      "Epoch 1/10\n",
      "92/92 [==============================] - 14s 96ms/step - loss: 1.2359 - accuracy: 0.5028 - val_loss: 0.9643 - val_accuracy: 0.6193\n",
      "Epoch 2/10\n",
      "92/92 [==============================] - 7s 79ms/step - loss: 0.6318 - accuracy: 0.7730 - val_loss: 0.5802 - val_accuracy: 0.7961\n",
      "Epoch 3/10\n",
      "92/92 [==============================] - 8s 82ms/step - loss: 0.4547 - accuracy: 0.8437 - val_loss: 1.0494 - val_accuracy: 0.5942\n",
      "Epoch 4/10\n",
      "92/92 [==============================] - 8s 83ms/step - loss: 0.4524 - accuracy: 0.8354 - val_loss: 0.4833 - val_accuracy: 0.8470\n",
      "Epoch 5/10\n",
      "92/92 [==============================] - 8s 91ms/step - loss: 0.2858 - accuracy: 0.9058 - val_loss: 0.5058 - val_accuracy: 0.8355\n",
      "Epoch 6/10\n",
      "92/92 [==============================] - 8s 89ms/step - loss: 0.2252 - accuracy: 0.9225 - val_loss: 0.4362 - val_accuracy: 0.8470\n",
      "Epoch 7/10\n",
      "92/92 [==============================] - 8s 85ms/step - loss: 0.1942 - accuracy: 0.9288 - val_loss: 0.4032 - val_accuracy: 0.8742\n",
      "Epoch 8/10\n",
      "92/92 [==============================] - 8s 86ms/step - loss: 0.1667 - accuracy: 0.9340 - val_loss: 0.4468 - val_accuracy: 0.8817\n",
      "Epoch 9/10\n",
      "92/92 [==============================] - 8s 87ms/step - loss: 0.1702 - accuracy: 0.9318 - val_loss: 0.4233 - val_accuracy: 0.8695\n",
      "Epoch 10/10\n",
      "92/92 [==============================] - 8s 88ms/step - loss: 0.2260 - accuracy: 0.9214 - val_loss: 0.4741 - val_accuracy: 0.8464\n"
     ]
    }
   ],
   "source": [
    "# fit network\n",
    "train_epochs = 10\n",
    "history = model.fit(trainX, trainy, epochs=train_epochs, batch_size=batch_size,\n",
    "                    verbose=True,  validation_split=validation_split, shuffle=True)"
   ]
  },
  {
   "cell_type": "markdown",
   "metadata": {
    "id": "KvH2s8ldmDuL"
   },
   "source": [
    "Visualize the training process (loss) w.r.t train set and the validation set"
   ]
  },
  {
   "cell_type": "code",
   "execution_count": 12,
   "metadata": {
    "colab": {
     "base_uri": "https://localhost:8080/",
     "height": 312
    },
    "id": "xFw9ju5zSBD4",
    "outputId": "78cba606-cb3c-40cd-be1d-42317ef80373"
   },
   "outputs": [
    {
     "data": {
      "text/plain": [
       "<matplotlib.legend.Legend at 0x1f40e1f4af0>"
      ]
     },
     "execution_count": 12,
     "metadata": {},
     "output_type": "execute_result"
    },
    {
     "data": {
      "image/png": "[encoded data removed]",
      "text/plain": [
       "<Figure size 640x480 with 1 Axes>"
      ]
     },
     "metadata": {},
     "output_type": "display_data"
    }
   ],
   "source": [
    "plt.plot(history.history['loss'])\n",
    "plt.plot(history.history['val_loss'])\n",
    "plt.title('model loss')\n",
    "plt.ylabel('loss')\n",
    "plt.xlabel('epoch')\n",
    "plt.legend(['train', 'Validation'], loc='upper left')"
   ]
  },
  {
   "cell_type": "code",
   "execution_count": 13,
   "metadata": {
    "colab": {
     "base_uri": "https://localhost:8080/"
    },
    "id": "T3rgvHGQNcx9",
    "outputId": "6962d801-6a5a-4040-abbe-5bda3891dc58"
   },
   "outputs": [
    {
     "name": "stdout",
     "output_type": "stream",
     "text": [
      "Accuracy of the LSTM model 0.7994570732116699\n",
      "93/93 [==============================] - 3s 19ms/step\n"
     ]
    }
   ],
   "source": [
    "# evaluate model\n",
    "test_loss, test_accuracy = model.evaluate(\n",
    "    testX, testy, batch_size=batch_size, verbose=0)\n",
    "print(\"Accuracy of the LSTM model\", test_accuracy)\n",
    "# Get the predictions for the test set\n",
    "predictions = model.predict(testX)"
   ]
  },
  {
   "cell_type": "code",
   "execution_count": 14,
   "metadata": {
    "colab": {
     "base_uri": "https://localhost:8080/"
    },
    "id": "tOc_QJWlg_uQ",
    "outputId": "7ceef8ef-a654-40b6-bda7-3b32199deb3b"
   },
   "outputs": [
    {
     "data": {
      "text/plain": [
       "array([[1.66949444e-03, 3.34190845e-05, 6.81369374e-06, 2.00371481e-02,\n",
       "        9.78238702e-01, 1.44600144e-05],\n",
       "       [1.35960924e-02, 1.99030052e-04, 2.54356182e-05, 1.21885985e-02,\n",
       "        9.73950326e-01, 4.05415885e-05],\n",
       "       [1.59819121e-03, 3.66446402e-05, 7.12004294e-06, 1.99762098e-02,\n",
       "        9.78367269e-01, 1.46321090e-05],\n",
       "       ...,\n",
       "       [5.97864687e-02, 9.05187190e-01, 3.21234837e-02, 3.42599160e-05,\n",
       "        2.51409109e-03, 3.54522199e-04],\n",
       "       [7.36175179e-02, 8.66016030e-01, 5.55118956e-02, 6.26073670e-05,\n",
       "        4.07261262e-03, 7.19332078e-04],\n",
       "       [6.01878501e-02, 8.87955904e-01, 4.77156043e-02, 6.68118664e-05,\n",
       "        3.44136194e-03, 6.32458541e-04]], dtype=float32)"
      ]
     },
     "execution_count": 14,
     "metadata": {},
     "output_type": "execute_result"
    }
   ],
   "source": [
    "predictions"
   ]
  },
  {
   "cell_type": "markdown",
   "metadata": {
    "id": "3j-BEtTTjkkX"
   },
   "source": [
    "helper function to display results"
   ]
  },
  {
   "cell_type": "code",
   "execution_count": 15,
   "metadata": {},
   "outputs": [],
   "source": [
    "from sklearn.metrics import confusion_matrix, classification_report"
   ]
  },
  {
   "cell_type": "code",
   "execution_count": 16,
   "metadata": {
    "id": "j13K09Kdg3Wr"
   },
   "outputs": [],
   "source": [
    "def display_results(testy, predictions, classNames):\n",
    "    y_test = np.argmax(testy, axis=1)\n",
    "    y_scores = np.argmax(predictions, axis=1)\n",
    "    classes = len(classNames)\n",
    "    cm = confusion_matrix(y_test, y_scores)\n",
    "    print(\"**** Confusion Matrix ****\")\n",
    "    print(cm)\n",
    "    print(\"**** Classification Report ****\")\n",
    "    print(classification_report(y_test, y_scores, target_names=classNames))\n",
    "    con = np.zeros((classes, classes))\n",
    "    for x in range(classes):\n",
    "        for y in range(classes):\n",
    "            con[x, y] = cm[x, y]  # /np.sum(cm[x,:])\n",
    "\n",
    "    plt.figure(figsize=(10, 8))\n",
    "    df = sns.heatmap(con, annot=True, fmt='g', cmap='Blues',\n",
    "                     xticklabels=classNames, yticklabels=classNames)\n",
    "    plt.xlabel('Predicted')\n",
    "    plt.ylabel('Actual')\n",
    "    plt.show()"
   ]
  },
  {
   "cell_type": "code",
   "execution_count": 17,
   "metadata": {
    "colab": {
     "base_uri": "https://localhost:8080/",
     "height": 854
    },
    "id": "Q4lDh9g4gicO",
    "outputId": "fe315d9a-b9b7-4bdf-a48f-8995393749f5"
   },
   "outputs": [
    {
     "name": "stdout",
     "output_type": "stream",
     "text": [
      "**** Confusion Matrix ****\n",
      "[[398  52  46   0   0   0]\n",
      " [ 28 395  48   0   0   0]\n",
      " [ 31  84 305   0   0   0]\n",
      " [  5  20   1 304 161   0]\n",
      " [ 20  10   1  41 460   0]\n",
      " [  1  29   0  13   0 494]]\n",
      "**** Classification Report ****\n",
      "              precision    recall  f1-score   support\n",
      "\n",
      "           1       0.82      0.80      0.81       496\n",
      "           2       0.67      0.84      0.74       471\n",
      "           3       0.76      0.73      0.74       420\n",
      "           4       0.85      0.62      0.72       491\n",
      "           5       0.74      0.86      0.80       532\n",
      "           6       1.00      0.92      0.96       537\n",
      "\n",
      "    accuracy                           0.80      2947\n",
      "   macro avg       0.81      0.80      0.80      2947\n",
      "weighted avg       0.81      0.80      0.80      2947\n",
      "\n"
     ]
    },
    {
     "data": {
      "image/png": "[encoded data removed]",
      "text/plain": [
       "<Figure size 1000x800 with 2 Axes>"
      ]
     },
     "metadata": {},
     "output_type": "display_data"
    }
   ],
   "source": [
    "classNames=[\"1\",\"2\",\"3\",\"4\",\"5\",\"6\"]\n",
    "display_results(testy,predictions,classNames)"
   ]
  }
 ],
 "metadata": {
  "colab": {
   "authorship_tag": "ABX9TyMm/DpFfSeNPNcAk9yBGjoi",
   "collapsed_sections": [
    "HGBepz0q-lfY",
    "NxBLgeuLA8xS",
    "Vpyoslro1zie",
    "yDowZCTIP9Ht",
    "R-H04c6mTkDB"
   ],
   "include_colab_link": true,
   "name": "CNN and LSTM for Human Activity Recognition.ipynb",
   "provenance": []
  },
  "kernelspec": {
   "display_name": "Python 3 (ipykernel)",
   "language": "python",
   "name": "python3"
  },
  "language_info": {
   "codemirror_mode": {
    "name": "ipython",
    "version": 3
   },
   "file_extension": ".py",
   "mimetype": "text/x-python",
   "name": "python",
   "nbconvert_exporter": "python",
   "pygments_lexer": "ipython3",
   "version": "3.9.13"
  }
 },
 "nbformat": 4,
 "nbformat_minor": 1
}

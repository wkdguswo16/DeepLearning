{
 "cells": [
  {
   "cell_type": "code",
   "execution_count": 1,
   "metadata": {
    "id": "LmJZAAI28-yb"
   },
   "outputs": [],
   "source": [
    "import pandas as pd\n",
    "import numpy as np\n",
    "from matplotlib import pyplot as plt\n",
    "from tensorflow.keras.models import Model\n",
    "from sklearn.model_selection import train_test_split\n",
    "\n",
    "\n",
    "import keras\n",
    "from tensorflow.keras.layers import Activation\n",
    "from tensorflow.keras.models import Sequential\n",
    "from tensorflow.keras.layers import Conv1D, MaxPooling1D, Dense, Input, Dropout, Flatten, BatchNormalization, LSTM, concatenate\n",
    "from keras.utils import to_categorical\n",
    "from keras.utils.vis_utils import plot_model\n",
    "from tensorflow.keras import optimizers\n",
    "from keras.utils import to_categorical\n",
    "import seaborn as sns"
   ]
  },
  {
   "cell_type": "code",
   "execution_count": 2,
   "metadata": {},
   "outputs": [],
   "source": [
    "import pandas as pd\n",
    "\n",
    "def get_new_feature_name_df(old_feature_name_df):\n",
    "    feature_dup_df = pd.DataFrame(data=old_feature_name_df.groupby('column_name').cumcount(),\n",
    "                                  columns=['dup_cnt'])\n",
    "    feature_dup_df = feature_dup_df.reset_index()\n",
    "    new_feature_name_df = pd.merge(old_feature_name_df.reset_index(), feature_dup_df, how='outer')\n",
    "    new_feature_name_df['column_name'] = new_feature_name_df[['column_name', 'dup_cnt']].apply(lambda x : x[0]+'_'+str(x[1]) \n",
    "                                                                                         if x[1] >0 else x[0] ,  axis=1)\n",
    "    new_feature_name_df = new_feature_name_df.drop(['index'], axis=1)\n",
    "    return new_feature_name_df\n",
    "\n",
    "def get_human_dataset( ):\n",
    "    \n",
    "    # 각 데이터 파일들은 공백으로 분리되어 있으므로 read_csv에서 공백 문자를 sep으로 할당.\n",
    "    feature_name_df = pd.read_csv('./data/UCI_HAR_Dataset/features.txt',sep='\\s+',\n",
    "                        header=None,names=['column_index','column_name'])\n",
    "    \n",
    "    # 중복된 피처명을 수정하는 get_new_feature_name_df()를 이용, 신규 피처명 DataFrame생성. \n",
    "    new_feature_name_df = get_new_feature_name_df(feature_name_df)\n",
    "    \n",
    "    # DataFrame에 피처명을 컬럼으로 부여하기 위해 리스트 객체로 다시 변환\n",
    "    feature_name = new_feature_name_df.iloc[:, 1].values.tolist()\n",
    "    \n",
    "    # 학습 피처 데이터 셋과 테스트 피처 데이터을 DataFrame으로 로딩. 컬럼명은 feature_name 적용\n",
    "    X_train = pd.read_csv('./data/UCI_HAR_Dataset/train/X_train.txt',sep='\\s+', names=feature_name )\n",
    "    X_test = pd.read_csv('./data/UCI_HAR_Dataset/test/X_test.txt',sep='\\s+', names=feature_name)\n",
    "    \n",
    "    # 학습 레이블과 테스트 레이블 데이터을 DataFrame으로 로딩하고 컬럼명은 action으로 부여\n",
    "    y_train = pd.read_csv('./data/UCI_HAR_Dataset/train/y_train.txt',sep='\\s+',header=None,names=['action'])\n",
    "    y_test = pd.read_csv('./data/UCI_HAR_Dataset/test/y_test.txt',sep='\\s+',header=None,names=['action'])\n",
    "    \n",
    "    # 로드된 학습/테스트용 DataFrame을 모두 반환 \n",
    "    return X_train, X_test, y_train, y_test"
   ]
  },
  {
   "cell_type": "code",
   "execution_count": 3,
   "metadata": {},
   "outputs": [
    {
     "name": "stdout",
     "output_type": "stream",
     "text": [
      "## 학습 피처 데이터 정보 ##\n",
      "<class 'pandas.core.frame.DataFrame'>\n",
      "RangeIndex: 7352 entries, 0 to 7351\n",
      "Columns: 561 entries, tBodyAcc-mean()-X to angle(Z,gravityMean)\n",
      "dtypes: float64(561)\n",
      "memory usage: 31.5 MB\n",
      "None\n"
     ]
    }
   ],
   "source": [
    "from sklearn.ensemble import RandomForestClassifier\n",
    "from sklearn.metrics import accuracy_score\n",
    "import pandas as pd\n",
    "import warnings\n",
    "warnings.filterwarnings('ignore')\n",
    "\n",
    "# 결정 트리에서 사용한 get_human_dataset( )을 이용해 학습/테스트용 DataFrame 반환\n",
    "X_train, X_test, y_train, y_test = get_human_dataset()\n",
    "\n",
    "print(\"## 학습 피처 데이터 정보 ##\")\n",
    "print(X_train.info())"
   ]
  },
  {
   "cell_type": "code",
   "execution_count": 4,
   "metadata": {
    "colab": {
     "base_uri": "https://localhost:8080/"
    },
    "id": "fiB1z9ciNU4d",
    "outputId": "d1be26b4-0d0e-4c60-f073-4757db4e5642"
   },
   "outputs": [
    {
     "data": {
      "text/plain": [
       "((7352, 561), (2947, 561), (7352, 1), (2947, 1))"
      ]
     },
     "execution_count": 4,
     "metadata": {},
     "output_type": "execute_result"
    }
   ],
   "source": [
    "X_train.shape, X_test.shape, y_train.shape, y_test.shape"
   ]
  },
  {
   "cell_type": "code",
   "execution_count": 5,
   "metadata": {},
   "outputs": [],
   "source": [
    "# Create train and test sets\n",
    "X_train, X_val, y_train, y_val = train_test_split(X_train, y_train, test_size=0.25, random_state=1,stratify=  y_train)"
   ]
  },
  {
   "cell_type": "code",
   "execution_count": 6,
   "metadata": {},
   "outputs": [],
   "source": [
    "# Reformat the training data into sequence samples\n",
    "# Source: https://machinelearningmastery.com/how-to-develop-convolutional-neural-network-models-for-time-series-forecasting/\n",
    "\n",
    "def split_sequences(sequences, n_steps):\n",
    "\tX, y = list(), list()\n",
    "\tfor i in range(len(sequences)):\n",
    "\t\t# find the end of this pattern\n",
    "\t\tend_ix = i + n_steps\n",
    "\t\t# check if we are beyond the dataset\n",
    "\t\tif end_ix > len(sequences):\n",
    "\t\t\tbreak\n",
    "\t\t# gather input and output parts of the pattern\n",
    "\t\tseq_x, seq_y = sequences[i:end_ix, :-1], sequences[end_ix-1, -1]\n",
    "\t\tX.append(seq_x)\n",
    "\t\ty.append(seq_y)\n",
    "\treturn np.array(X), np.array(y)"
   ]
  },
  {
   "cell_type": "code",
   "execution_count": 7,
   "metadata": {},
   "outputs": [
    {
     "name": "stdout",
     "output_type": "stream",
     "text": [
      "(5506, 9, 561) (5506,)\n",
      "(2939, 9, 561) (2939,)\n",
      "(1830, 9, 561) (1830,)\n"
     ]
    }
   ],
   "source": [
    "# Merge train and test X/y data to apply sequence transformation function\n",
    "y_train_array = np.array(y_train)\n",
    "train_set = np.c_[X_train, y_train_array]\n",
    "\n",
    "y_test_array = np.array(y_test)\n",
    "test_set = np.c_[X_test, y_test_array]\n",
    "\n",
    "y_val_array = np.array(y_val)\n",
    "val_set = np.c_[X_val, y_val_array]\n",
    "\n",
    "X_train, y_train = split_sequences(train_set, 9)\n",
    "print(X_train.shape, y_train.shape)\n",
    "\n",
    "X_test, y_test = split_sequences(test_set, 9)\n",
    "print(X_test.shape, y_test.shape)\n",
    "\n",
    "X_val, y_val = split_sequences(val_set, 9)\n",
    "print(X_val.shape, y_val.shape)"
   ]
  },
  {
   "cell_type": "code",
   "execution_count": 8,
   "metadata": {},
   "outputs": [
    {
     "name": "stdout",
     "output_type": "stream",
     "text": [
      "(5506, 7)\n",
      "(2939, 7)\n",
      "(1830, 7)\n"
     ]
    }
   ],
   "source": [
    "# Convert output variables to categorical for CNN\n",
    "y_train = to_categorical(y_train)\n",
    "print(y_train.shape)\n",
    "\n",
    "y_test = to_categorical(y_test)\n",
    "print(y_test.shape)\n",
    "\n",
    "y_val = to_categorical(y_val)\n",
    "print(y_val.shape)"
   ]
  },
  {
   "cell_type": "code",
   "execution_count": 9,
   "metadata": {},
   "outputs": [
    {
     "name": "stdout",
     "output_type": "stream",
     "text": [
      "9 561 7\n"
     ]
    }
   ],
   "source": [
    "# Produce variables for CNN input/output shape\n",
    "n_timesteps, n_features, n_outputs = X_train.shape[1], X_train.shape[2], y_train.shape[1]\n",
    "print(n_timesteps, n_features, n_outputs)"
   ]
  },
  {
   "cell_type": "code",
   "execution_count": 10,
   "metadata": {},
   "outputs": [
    {
     "name": "stdout",
     "output_type": "stream",
     "text": [
      "Model: \"sequential\"\n",
      "_________________________________________________________________\n",
      " Layer (type)                Output Shape              Param #   \n",
      "=================================================================\n",
      " conv1d (Conv1D)             (None, 7, 64)             107776    \n",
      "                                                                 \n",
      " flatten (Flatten)           (None, 448)               0         \n",
      "                                                                 \n",
      " dense (Dense)               (None, 128)               57472     \n",
      "                                                                 \n",
      " dense_1 (Dense)             (None, 7)                 903       \n",
      "                                                                 \n",
      "=================================================================\n",
      "Total params: 166,151\n",
      "Trainable params: 166,151\n",
      "Non-trainable params: 0\n",
      "_________________________________________________________________\n"
     ]
    }
   ],
   "source": [
    "# Model 1\n",
    "model = Sequential()\n",
    "model.add(Conv1D(filters=64, kernel_size=3, activation='relu', input_shape=(n_timesteps,n_features)))\n",
    "#model.add(MaxPooling1D(pool_size=2))\n",
    "\n",
    "model.add(Flatten())\n",
    "\n",
    "model.add(Dense(128, activation='relu'))\n",
    "model.add(Dense(n_outputs, activation='softmax'))\n",
    "model.compile(loss='categorical_crossentropy', optimizer='adam', metrics=['accuracy'])\n",
    "model.summary()"
   ]
  },
  {
   "cell_type": "code",
   "execution_count": 11,
   "metadata": {},
   "outputs": [
    {
     "name": "stdout",
     "output_type": "stream",
     "text": [
      "Epoch 1/10\n",
      "173/173 [==============================] - 2s 6ms/step - loss: 1.2176 - accuracy: 0.4364 - val_loss: 0.7816 - val_accuracy: 0.5765\n",
      "Epoch 2/10\n",
      "173/173 [==============================] - 1s 4ms/step - loss: 0.5511 - accuracy: 0.7614 - val_loss: 0.4024 - val_accuracy: 0.8388\n",
      "Epoch 3/10\n",
      "173/173 [==============================] - 1s 5ms/step - loss: 0.3272 - accuracy: 0.8667 - val_loss: 0.2742 - val_accuracy: 0.8940\n",
      "Epoch 4/10\n",
      "173/173 [==============================] - 1s 4ms/step - loss: 0.2376 - accuracy: 0.9066 - val_loss: 0.2640 - val_accuracy: 0.8858\n",
      "Epoch 5/10\n",
      "173/173 [==============================] - 1s 4ms/step - loss: 0.1734 - accuracy: 0.9346 - val_loss: 0.1928 - val_accuracy: 0.9175\n",
      "Epoch 6/10\n",
      "173/173 [==============================] - 1s 5ms/step - loss: 0.1411 - accuracy: 0.9464 - val_loss: 0.1841 - val_accuracy: 0.9268\n",
      "Epoch 7/10\n",
      "173/173 [==============================] - 1s 4ms/step - loss: 0.1203 - accuracy: 0.9548 - val_loss: 0.2281 - val_accuracy: 0.9016\n",
      "Epoch 8/10\n",
      "173/173 [==============================] - 1s 4ms/step - loss: 0.1423 - accuracy: 0.9437 - val_loss: 0.1540 - val_accuracy: 0.9393\n",
      "Epoch 9/10\n",
      "173/173 [==============================] - 1s 4ms/step - loss: 0.0946 - accuracy: 0.9644 - val_loss: 0.1856 - val_accuracy: 0.9257\n",
      "Epoch 10/10\n",
      "173/173 [==============================] - 1s 5ms/step - loss: 0.0707 - accuracy: 0.9753 - val_loss: 0.1460 - val_accuracy: 0.9415\n"
     ]
    }
   ],
   "source": [
    "# validation_split = 0.1\n",
    "train_epochs = 10\n",
    "history = model.fit(X_train, y_train, epochs=train_epochs, verbose=True,  validation_data = (X_val, y_val))\n"
   ]
  },
  {
   "cell_type": "code",
   "execution_count": 12,
   "metadata": {},
   "outputs": [
    {
     "data": {
      "text/plain": [
       "<matplotlib.legend.Legend at 0x14030a86e80>"
      ]
     },
     "execution_count": 12,
     "metadata": {},
     "output_type": "execute_result"
    },
    {
     "data": {
      "image/png": "[encoded data removed]",
      "text/plain": [
       "<Figure size 640x480 with 1 Axes>"
      ]
     },
     "metadata": {},
     "output_type": "display_data"
    }
   ],
   "source": [
    "plt.plot(history.history['loss'])\n",
    "plt.plot(history.history['val_loss'])\n",
    "plt.title('model loss')\n",
    "plt.ylabel('loss')\n",
    "plt.xlabel('epoch')\n",
    "plt.legend(['train', 'Validation'], loc='upper left')"
   ]
  },
  {
   "cell_type": "code",
   "execution_count": 13,
   "metadata": {},
   "outputs": [
    {
     "name": "stdout",
     "output_type": "stream",
     "text": [
      "92/92 [==============================] - 0s 2ms/step\n"
     ]
    },
    {
     "data": {
      "text/plain": [
       "(2939, 1)"
      ]
     },
     "execution_count": 13,
     "metadata": {},
     "output_type": "execute_result"
    }
   ],
   "source": [
    "# Make predictions on the test data\n",
    "y_pred = model.predict(X_test)\n",
    "y_pred = np.argmax(y_pred, axis = 1)\n",
    "y_pred = y_pred.reshape(-1,1)\n",
    "y_pred.shape"
   ]
  },
  {
   "cell_type": "code",
   "execution_count": 14,
   "metadata": {},
   "outputs": [],
   "source": [
    "from sklearn.metrics import classification_report, accuracy_score, recall_score, precision_score, f1_score, confusion_matrix"
   ]
  },
  {
   "cell_type": "code",
   "execution_count": 15,
   "metadata": {},
   "outputs": [],
   "source": [
    "# Results summarizer function (scores, confusion matrix) for classification results\n",
    "def results_summarizer(y_true, y_pred):\n",
    "    cm = confusion_matrix(y_true, y_pred)\n",
    "    acc = accuracy_score(y_true, y_pred)\n",
    "    prec = precision_score(y_true, y_pred, average='macro')\n",
    "    rec = recall_score(y_true, y_pred, average='macro')\n",
    "    f1 = f1_score(y_true, y_pred, average='macro')\n",
    "\n",
    "    activity_map = {\n",
    "    }\n",
    "    plt.figure(figsize=(10, 8))\n",
    "\n",
    "    sns.heatmap(cm,\n",
    "                annot=True,\n",
    "                cmap='Blues',\n",
    "                xticklabels=activity_map.values(),\n",
    "                yticklabels=activity_map.values()\n",
    "               )\n",
    "\n",
    "    plt.title('Confusion Matrix')\n",
    "    plt.xlabel('Predicted Activity')\n",
    "    plt.ylabel('Actual Activity')\n",
    "    plt.show()\n",
    "\n",
    "    print(f'Accuracy Score: ' + '{:.4%}'.format(acc))\n",
    "    print(f'Precision Score: ' + '{:.4%}'.format(prec))\n",
    "    print(f'Recall Score: ' + '{:.4%}'.format(rec))\n",
    "    print(f'F_1 Score: ' + '{:.4%}'.format(f1))"
   ]
  },
  {
   "cell_type": "code",
   "execution_count": 16,
   "metadata": {},
   "outputs": [
    {
     "data": {
      "image/png": "[encoded data removed]",
      "text/plain": [
       "<Figure size 1000x800 with 2 Axes>"
      ]
     },
     "metadata": {},
     "output_type": "display_data"
    },
    {
     "name": "stdout",
     "output_type": "stream",
     "text": [
      "Accuracy Score: 87.5808%\n",
      "Precision Score: 88.2400%\n",
      "Recall Score: 87.3646%\n",
      "F_1 Score: 87.5092%\n"
     ]
    }
   ],
   "source": [
    "y_true = np.argmax(y_test, axis=1).reshape(-1,1)\n",
    "# Show results\n",
    "# Note: Needed slice test data to 25 and onwards to match predictions due to time step in model\n",
    "results_summarizer(y_true, y_pred)"
   ]
  },
  {
   "cell_type": "code",
   "execution_count": 17,
   "metadata": {},
   "outputs": [
    {
     "name": "stdout",
     "output_type": "stream",
     "text": [
      "Model: \"sequential_1\"\n",
      "_________________________________________________________________\n",
      " Layer (type)                Output Shape              Param #   \n",
      "=================================================================\n",
      " conv1d_1 (Conv1D)           (None, 7, 64)             107776    \n",
      "                                                                 \n",
      " conv1d_2 (Conv1D)           (None, 5, 64)             12352     \n",
      "                                                                 \n",
      " flatten_1 (Flatten)         (None, 320)               0         \n",
      "                                                                 \n",
      " dense_2 (Dense)             (None, 128)               41088     \n",
      "                                                                 \n",
      " dense_3 (Dense)             (None, 7)                 903       \n",
      "                                                                 \n",
      "=================================================================\n",
      "Total params: 162,119\n",
      "Trainable params: 162,119\n",
      "Non-trainable params: 0\n",
      "_________________________________________________________________\n"
     ]
    }
   ],
   "source": [
    "#model 2\n",
    "model1 = Sequential()\n",
    "model1.add(Conv1D(filters=64, kernel_size=3, activation='relu', input_shape=(n_timesteps,n_features)))\n",
    "model1.add(Conv1D(filters=64, kernel_size=3, activation='relu'))\n",
    "#model.add(MaxPooling1D(pool_size=2))\n",
    "\n",
    "model1.add(Flatten())\n",
    "model1.add(Dense(128, activation='relu'))\n",
    "model1.add(Dense(n_outputs, activation='softmax'))\n",
    "model1.compile(loss='categorical_crossentropy', optimizer='adam', metrics=['accuracy'])\n",
    "model1.summary()"
   ]
  },
  {
   "cell_type": "code",
   "execution_count": 18,
   "metadata": {},
   "outputs": [
    {
     "name": "stdout",
     "output_type": "stream",
     "text": [
      "Epoch 1/10\n",
      "173/173 [==============================] - 1s 5ms/step - loss: 0.0717 - accuracy: 0.9733 - val_loss: 0.1866 - val_accuracy: 0.9328\n",
      "Epoch 2/10\n",
      "173/173 [==============================] - 1s 5ms/step - loss: 0.0575 - accuracy: 0.9798 - val_loss: 0.1548 - val_accuracy: 0.9410\n",
      "Epoch 3/10\n",
      "173/173 [==============================] - 1s 5ms/step - loss: 0.0534 - accuracy: 0.9798 - val_loss: 0.1596 - val_accuracy: 0.9459\n",
      "Epoch 4/10\n",
      "173/173 [==============================] - 1s 4ms/step - loss: 0.0508 - accuracy: 0.9815 - val_loss: 0.5867 - val_accuracy: 0.8404\n",
      "Epoch 5/10\n",
      "173/173 [==============================] - 1s 5ms/step - loss: 0.0576 - accuracy: 0.9777 - val_loss: 0.1298 - val_accuracy: 0.9497\n",
      "Epoch 6/10\n",
      "173/173 [==============================] - 1s 5ms/step - loss: 0.0392 - accuracy: 0.9871 - val_loss: 0.1890 - val_accuracy: 0.9377\n",
      "Epoch 7/10\n",
      "173/173 [==============================] - 1s 5ms/step - loss: 0.0528 - accuracy: 0.9806 - val_loss: 0.2051 - val_accuracy: 0.9333\n",
      "Epoch 8/10\n",
      "173/173 [==============================] - 1s 5ms/step - loss: 0.0280 - accuracy: 0.9922 - val_loss: 0.2353 - val_accuracy: 0.9246\n",
      "Epoch 9/10\n",
      "173/173 [==============================] - 1s 5ms/step - loss: 0.0686 - accuracy: 0.9746 - val_loss: 0.1930 - val_accuracy: 0.9366\n",
      "Epoch 10/10\n",
      "173/173 [==============================] - 1s 5ms/step - loss: 0.0313 - accuracy: 0.9867 - val_loss: 0.2652 - val_accuracy: 0.9246\n"
     ]
    }
   ],
   "source": [
    "# validation_split = 0.1\n",
    "train_epochs = 10\n",
    "history = model.fit(X_train, y_train, epochs=train_epochs, verbose=True,  validation_data = (X_val, y_val))"
   ]
  },
  {
   "cell_type": "code",
   "execution_count": null,
   "metadata": {},
   "outputs": [],
   "source": []
  }
 ],
 "metadata": {
  "colab": {
   "authorship_tag": "ABX9TyMm/DpFfSeNPNcAk9yBGjoi",
   "collapsed_sections": [
    "HGBepz0q-lfY",
    "NxBLgeuLA8xS",
    "Vpyoslro1zie",
    "yDowZCTIP9Ht",
    "R-H04c6mTkDB"
   ],
   "include_colab_link": true,
   "name": "CNN and LSTM for Human Activity Recognition.ipynb",
   "provenance": []
  },
  "kernelspec": {
   "display_name": "Python 3 (ipykernel)",
   "language": "python",
   "name": "python3"
  },
  "language_info": {
   "codemirror_mode": {
    "name": "ipython",
    "version": 3
   },
   "file_extension": ".py",
   "mimetype": "text/x-python",
   "name": "python",
   "nbconvert_exporter": "python",
   "pygments_lexer": "ipython3",
   "version": "3.9.13"
  }
 },
 "nbformat": 4,
 "nbformat_minor": 1
}

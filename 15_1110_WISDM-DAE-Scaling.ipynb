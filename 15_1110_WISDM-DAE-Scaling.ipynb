{
 "cells": [
  {
   "cell_type": "markdown",
   "id": "6b5b2cac",
   "metadata": {},
   "source": [
    "1. WISDM dataset\n",
    "Sitting 4500\n",
    "Jogging 4500\n",
    "2개만 뽑음\n",
    "\n",
    "sitting 과 Jogging을 traing과 test로 나누고\n",
    "\n",
    "3. activiteds -> labels\n",
    "Sitting -> 0  (normal)\n",
    "jogging -> 1  (abnormal)\n"
   ]
  },
  {
   "cell_type": "code",
   "execution_count": 1,
   "id": "b3e7ed6f",
   "metadata": {},
   "outputs": [],
   "source": [
    "import numpy as np\n",
    "import pandas as pd\n",
    "\n",
    "from scipy.interpolate import interp1d\n",
    "from scipy.stats import mode\n",
    "\n",
    "from sklearn.preprocessing import LabelEncoder\n",
    "from sklearn.metrics import classification_report, confusion_matrix, ConfusionMatrixDisplay\n",
    "\n",
    "from tensorflow import stack\n",
    "from tensorflow.keras.utils import to_categorical\n",
    "from keras.models import Sequential, Model\n",
    "from keras.layers import Dense, Activation, Input \n",
    "from keras.callbacks import ModelCheckpoint, EarlyStopping, TensorBoard\n",
    "import matplotlib.pyplot as plt\n",
    "from keras import regularizers\n",
    "import seaborn as sns\n",
    "%matplotlib inline\n",
    "\n",
    "import warnings\n",
    "warnings.filterwarnings(\"ignore\")"
   ]
  },
  {
   "cell_type": "code",
   "execution_count": 2,
   "id": "2c3a4a8f",
   "metadata": {},
   "outputs": [],
   "source": [
    "# RANDOM_SEED와 LABELS 설정\n",
    "RANDOM_SEED = 42"
   ]
  },
  {
   "cell_type": "code",
   "execution_count": 3,
   "id": "14ac6c80",
   "metadata": {},
   "outputs": [],
   "source": [
    "df = pd.read_csv(\"./data/WISDM.csv\")\n",
    "\n",
    "df = df.drop(['Unnamed: 0', 'user-id', 'timestamp'], axis=1)"
   ]
  },
  {
   "cell_type": "code",
   "execution_count": 4,
   "id": "7f38496f",
   "metadata": {},
   "outputs": [
    {
     "data": {
      "text/html": [
       "<div>\n",
       "<style scoped>\n",
       "    .dataframe tbody tr th:only-of-type {\n",
       "        vertical-align: middle;\n",
       "    }\n",
       "\n",
       "    .dataframe tbody tr th {\n",
       "        vertical-align: top;\n",
       "    }\n",
       "\n",
       "    .dataframe thead th {\n",
       "        text-align: right;\n",
       "    }\n",
       "</style>\n",
       "<table border=\"1\" class=\"dataframe\">\n",
       "  <thead>\n",
       "    <tr style=\"text-align: right;\">\n",
       "      <th></th>\n",
       "      <th>activity</th>\n",
       "      <th>X</th>\n",
       "      <th>Y</th>\n",
       "      <th>Z</th>\n",
       "    </tr>\n",
       "  </thead>\n",
       "  <tbody>\n",
       "    <tr>\n",
       "      <th>0</th>\n",
       "      <td>Jogging</td>\n",
       "      <td>-0.694638</td>\n",
       "      <td>12.680544</td>\n",
       "      <td>0.503953</td>\n",
       "    </tr>\n",
       "    <tr>\n",
       "      <th>1</th>\n",
       "      <td>Jogging</td>\n",
       "      <td>5.012288</td>\n",
       "      <td>11.264028</td>\n",
       "      <td>0.953424</td>\n",
       "    </tr>\n",
       "    <tr>\n",
       "      <th>2</th>\n",
       "      <td>Jogging</td>\n",
       "      <td>4.903325</td>\n",
       "      <td>10.882658</td>\n",
       "      <td>-0.081722</td>\n",
       "    </tr>\n",
       "    <tr>\n",
       "      <th>3</th>\n",
       "      <td>Jogging</td>\n",
       "      <td>-0.612916</td>\n",
       "      <td>18.496431</td>\n",
       "      <td>3.023717</td>\n",
       "    </tr>\n",
       "    <tr>\n",
       "      <th>4</th>\n",
       "      <td>Jogging</td>\n",
       "      <td>-1.184970</td>\n",
       "      <td>12.108489</td>\n",
       "      <td>7.205164</td>\n",
       "    </tr>\n",
       "    <tr>\n",
       "      <th>...</th>\n",
       "      <td>...</td>\n",
       "      <td>...</td>\n",
       "      <td>...</td>\n",
       "      <td>...</td>\n",
       "    </tr>\n",
       "    <tr>\n",
       "      <th>1098198</th>\n",
       "      <td>Sitting</td>\n",
       "      <td>9.000000</td>\n",
       "      <td>-1.570000</td>\n",
       "      <td>1.690000</td>\n",
       "    </tr>\n",
       "    <tr>\n",
       "      <th>1098199</th>\n",
       "      <td>Sitting</td>\n",
       "      <td>9.040000</td>\n",
       "      <td>-1.460000</td>\n",
       "      <td>1.730000</td>\n",
       "    </tr>\n",
       "    <tr>\n",
       "      <th>1098200</th>\n",
       "      <td>Sitting</td>\n",
       "      <td>9.080000</td>\n",
       "      <td>-1.380000</td>\n",
       "      <td>1.690000</td>\n",
       "    </tr>\n",
       "    <tr>\n",
       "      <th>1098201</th>\n",
       "      <td>Sitting</td>\n",
       "      <td>9.000000</td>\n",
       "      <td>-1.460000</td>\n",
       "      <td>1.730000</td>\n",
       "    </tr>\n",
       "    <tr>\n",
       "      <th>1098202</th>\n",
       "      <td>Sitting</td>\n",
       "      <td>8.880000</td>\n",
       "      <td>-1.330000</td>\n",
       "      <td>1.610000</td>\n",
       "    </tr>\n",
       "  </tbody>\n",
       "</table>\n",
       "<p>1098203 rows × 4 columns</p>\n",
       "</div>"
      ],
      "text/plain": [
       "        activity         X          Y         Z\n",
       "0        Jogging -0.694638  12.680544  0.503953\n",
       "1        Jogging  5.012288  11.264028  0.953424\n",
       "2        Jogging  4.903325  10.882658 -0.081722\n",
       "3        Jogging -0.612916  18.496431  3.023717\n",
       "4        Jogging -1.184970  12.108489  7.205164\n",
       "...          ...       ...        ...       ...\n",
       "1098198  Sitting  9.000000  -1.570000  1.690000\n",
       "1098199  Sitting  9.040000  -1.460000  1.730000\n",
       "1098200  Sitting  9.080000  -1.380000  1.690000\n",
       "1098201  Sitting  9.000000  -1.460000  1.730000\n",
       "1098202  Sitting  8.880000  -1.330000  1.610000\n",
       "\n",
       "[1098203 rows x 4 columns]"
      ]
     },
     "execution_count": 4,
     "metadata": {},
     "output_type": "execute_result"
    }
   ],
   "source": [
    "df"
   ]
  },
  {
   "cell_type": "code",
   "execution_count": 5,
   "id": "73e316a3",
   "metadata": {},
   "outputs": [],
   "source": [
    "Jogging = df[df['activity']=='Jogging'].head(4500).copy()"
   ]
  },
  {
   "cell_type": "code",
   "execution_count": 6,
   "id": "41981bed",
   "metadata": {},
   "outputs": [
    {
     "data": {
      "text/html": [
       "<div>\n",
       "<style scoped>\n",
       "    .dataframe tbody tr th:only-of-type {\n",
       "        vertical-align: middle;\n",
       "    }\n",
       "\n",
       "    .dataframe tbody tr th {\n",
       "        vertical-align: top;\n",
       "    }\n",
       "\n",
       "    .dataframe thead th {\n",
       "        text-align: right;\n",
       "    }\n",
       "</style>\n",
       "<table border=\"1\" class=\"dataframe\">\n",
       "  <thead>\n",
       "    <tr style=\"text-align: right;\">\n",
       "      <th></th>\n",
       "      <th>activity</th>\n",
       "      <th>X</th>\n",
       "      <th>Y</th>\n",
       "      <th>Z</th>\n",
       "    </tr>\n",
       "  </thead>\n",
       "  <tbody>\n",
       "    <tr>\n",
       "      <th>0</th>\n",
       "      <td>Jogging</td>\n",
       "      <td>-0.694638</td>\n",
       "      <td>12.680544</td>\n",
       "      <td>0.503953</td>\n",
       "    </tr>\n",
       "    <tr>\n",
       "      <th>1</th>\n",
       "      <td>Jogging</td>\n",
       "      <td>5.012288</td>\n",
       "      <td>11.264028</td>\n",
       "      <td>0.953424</td>\n",
       "    </tr>\n",
       "    <tr>\n",
       "      <th>2</th>\n",
       "      <td>Jogging</td>\n",
       "      <td>4.903325</td>\n",
       "      <td>10.882658</td>\n",
       "      <td>-0.081722</td>\n",
       "    </tr>\n",
       "    <tr>\n",
       "      <th>3</th>\n",
       "      <td>Jogging</td>\n",
       "      <td>-0.612916</td>\n",
       "      <td>18.496431</td>\n",
       "      <td>3.023717</td>\n",
       "    </tr>\n",
       "    <tr>\n",
       "      <th>4</th>\n",
       "      <td>Jogging</td>\n",
       "      <td>-1.184970</td>\n",
       "      <td>12.108489</td>\n",
       "      <td>7.205164</td>\n",
       "    </tr>\n",
       "    <tr>\n",
       "      <th>...</th>\n",
       "      <td>...</td>\n",
       "      <td>...</td>\n",
       "      <td>...</td>\n",
       "      <td>...</td>\n",
       "    </tr>\n",
       "    <tr>\n",
       "      <th>13015</th>\n",
       "      <td>Jogging</td>\n",
       "      <td>5.434519</td>\n",
       "      <td>8.853226</td>\n",
       "      <td>3.909040</td>\n",
       "    </tr>\n",
       "    <tr>\n",
       "      <th>13016</th>\n",
       "      <td>Jogging</td>\n",
       "      <td>-4.331271</td>\n",
       "      <td>19.531578</td>\n",
       "      <td>-1.729784</td>\n",
       "    </tr>\n",
       "    <tr>\n",
       "      <th>13017</th>\n",
       "      <td>Jogging</td>\n",
       "      <td>-1.035146</td>\n",
       "      <td>-5.012288</td>\n",
       "      <td>-4.481094</td>\n",
       "    </tr>\n",
       "    <tr>\n",
       "      <th>13018</th>\n",
       "      <td>Jogging</td>\n",
       "      <td>7.082581</td>\n",
       "      <td>17.243360</td>\n",
       "      <td>-0.381370</td>\n",
       "    </tr>\n",
       "    <tr>\n",
       "      <th>13019</th>\n",
       "      <td>Jogging</td>\n",
       "      <td>6.442424</td>\n",
       "      <td>5.053149</td>\n",
       "      <td>-5.788648</td>\n",
       "    </tr>\n",
       "  </tbody>\n",
       "</table>\n",
       "<p>4500 rows × 4 columns</p>\n",
       "</div>"
      ],
      "text/plain": [
       "      activity         X          Y         Z\n",
       "0      Jogging -0.694638  12.680544  0.503953\n",
       "1      Jogging  5.012288  11.264028  0.953424\n",
       "2      Jogging  4.903325  10.882658 -0.081722\n",
       "3      Jogging -0.612916  18.496431  3.023717\n",
       "4      Jogging -1.184970  12.108489  7.205164\n",
       "...        ...       ...        ...       ...\n",
       "13015  Jogging  5.434519   8.853226  3.909040\n",
       "13016  Jogging -4.331271  19.531578 -1.729784\n",
       "13017  Jogging -1.035146  -5.012288 -4.481094\n",
       "13018  Jogging  7.082581  17.243360 -0.381370\n",
       "13019  Jogging  6.442424   5.053149 -5.788648\n",
       "\n",
       "[4500 rows x 4 columns]"
      ]
     },
     "execution_count": 6,
     "metadata": {},
     "output_type": "execute_result"
    }
   ],
   "source": [
    "Jogging"
   ]
  },
  {
   "cell_type": "code",
   "execution_count": 7,
   "id": "08f857cf",
   "metadata": {},
   "outputs": [],
   "source": [
    "Sitting = df[df['activity']=='Sitting'].head(4499).copy()"
   ]
  },
  {
   "cell_type": "code",
   "execution_count": 8,
   "id": "a2eb2848",
   "metadata": {},
   "outputs": [
    {
     "data": {
      "text/plain": [
       "(8999, 4)"
      ]
     },
     "execution_count": 8,
     "metadata": {},
     "output_type": "execute_result"
    }
   ],
   "source": [
    "balanced_data = pd.DataFrame()\n",
    "\n",
    "balanced_data = pd.concat([balanced_data, Jogging, Sitting])\n",
    "\n",
    "balanced_data.shape"
   ]
  },
  {
   "cell_type": "code",
   "execution_count": 9,
   "id": "74a9b1ce",
   "metadata": {},
   "outputs": [
    {
     "data": {
      "text/html": [
       "<div>\n",
       "<style scoped>\n",
       "    .dataframe tbody tr th:only-of-type {\n",
       "        vertical-align: middle;\n",
       "    }\n",
       "\n",
       "    .dataframe tbody tr th {\n",
       "        vertical-align: top;\n",
       "    }\n",
       "\n",
       "    .dataframe thead th {\n",
       "        text-align: right;\n",
       "    }\n",
       "</style>\n",
       "<table border=\"1\" class=\"dataframe\">\n",
       "  <thead>\n",
       "    <tr style=\"text-align: right;\">\n",
       "      <th></th>\n",
       "      <th>activity</th>\n",
       "      <th>X</th>\n",
       "      <th>Y</th>\n",
       "      <th>Z</th>\n",
       "    </tr>\n",
       "  </thead>\n",
       "  <tbody>\n",
       "    <tr>\n",
       "      <th>0</th>\n",
       "      <td>Jogging</td>\n",
       "      <td>-0.694638</td>\n",
       "      <td>12.680544</td>\n",
       "      <td>0.503953</td>\n",
       "    </tr>\n",
       "    <tr>\n",
       "      <th>1</th>\n",
       "      <td>Jogging</td>\n",
       "      <td>5.012288</td>\n",
       "      <td>11.264028</td>\n",
       "      <td>0.953424</td>\n",
       "    </tr>\n",
       "    <tr>\n",
       "      <th>2</th>\n",
       "      <td>Jogging</td>\n",
       "      <td>4.903325</td>\n",
       "      <td>10.882658</td>\n",
       "      <td>-0.081722</td>\n",
       "    </tr>\n",
       "    <tr>\n",
       "      <th>3</th>\n",
       "      <td>Jogging</td>\n",
       "      <td>-0.612916</td>\n",
       "      <td>18.496431</td>\n",
       "      <td>3.023717</td>\n",
       "    </tr>\n",
       "    <tr>\n",
       "      <th>4</th>\n",
       "      <td>Jogging</td>\n",
       "      <td>-1.184970</td>\n",
       "      <td>12.108489</td>\n",
       "      <td>7.205164</td>\n",
       "    </tr>\n",
       "    <tr>\n",
       "      <th>...</th>\n",
       "      <td>...</td>\n",
       "      <td>...</td>\n",
       "      <td>...</td>\n",
       "      <td>...</td>\n",
       "    </tr>\n",
       "    <tr>\n",
       "      <th>255293</th>\n",
       "      <td>Sitting</td>\n",
       "      <td>-4.290000</td>\n",
       "      <td>-2.220000</td>\n",
       "      <td>8.308413</td>\n",
       "    </tr>\n",
       "    <tr>\n",
       "      <th>255294</th>\n",
       "      <td>Sitting</td>\n",
       "      <td>-4.330000</td>\n",
       "      <td>-2.180000</td>\n",
       "      <td>8.308413</td>\n",
       "    </tr>\n",
       "    <tr>\n",
       "      <th>255295</th>\n",
       "      <td>Sitting</td>\n",
       "      <td>-4.370000</td>\n",
       "      <td>-2.220000</td>\n",
       "      <td>8.349273</td>\n",
       "    </tr>\n",
       "    <tr>\n",
       "      <th>255296</th>\n",
       "      <td>Sitting</td>\n",
       "      <td>-4.290000</td>\n",
       "      <td>-2.220000</td>\n",
       "      <td>8.308413</td>\n",
       "    </tr>\n",
       "    <tr>\n",
       "      <th>255297</th>\n",
       "      <td>Sitting</td>\n",
       "      <td>-4.290000</td>\n",
       "      <td>-2.220000</td>\n",
       "      <td>8.281172</td>\n",
       "    </tr>\n",
       "  </tbody>\n",
       "</table>\n",
       "<p>8999 rows × 4 columns</p>\n",
       "</div>"
      ],
      "text/plain": [
       "       activity         X          Y         Z\n",
       "0       Jogging -0.694638  12.680544  0.503953\n",
       "1       Jogging  5.012288  11.264028  0.953424\n",
       "2       Jogging  4.903325  10.882658 -0.081722\n",
       "3       Jogging -0.612916  18.496431  3.023717\n",
       "4       Jogging -1.184970  12.108489  7.205164\n",
       "...         ...       ...        ...       ...\n",
       "255293  Sitting -4.290000  -2.220000  8.308413\n",
       "255294  Sitting -4.330000  -2.180000  8.308413\n",
       "255295  Sitting -4.370000  -2.220000  8.349273\n",
       "255296  Sitting -4.290000  -2.220000  8.308413\n",
       "255297  Sitting -4.290000  -2.220000  8.281172\n",
       "\n",
       "[8999 rows x 4 columns]"
      ]
     },
     "execution_count": 9,
     "metadata": {},
     "output_type": "execute_result"
    }
   ],
   "source": [
    "balanced_data"
   ]
  },
  {
   "cell_type": "code",
   "execution_count": 10,
   "id": "3bc444ab",
   "metadata": {},
   "outputs": [
    {
     "data": {
      "text/html": [
       "<div>\n",
       "<style scoped>\n",
       "    .dataframe tbody tr th:only-of-type {\n",
       "        vertical-align: middle;\n",
       "    }\n",
       "\n",
       "    .dataframe tbody tr th {\n",
       "        vertical-align: top;\n",
       "    }\n",
       "\n",
       "    .dataframe thead th {\n",
       "        text-align: right;\n",
       "    }\n",
       "</style>\n",
       "<table border=\"1\" class=\"dataframe\">\n",
       "  <thead>\n",
       "    <tr style=\"text-align: right;\">\n",
       "      <th></th>\n",
       "      <th>activity</th>\n",
       "      <th>X</th>\n",
       "      <th>Y</th>\n",
       "      <th>Z</th>\n",
       "    </tr>\n",
       "  </thead>\n",
       "  <tbody>\n",
       "    <tr>\n",
       "      <th>0</th>\n",
       "      <td>Jogging</td>\n",
       "      <td>0.410987</td>\n",
       "      <td>0.791254</td>\n",
       "      <td>0.497158</td>\n",
       "    </tr>\n",
       "    <tr>\n",
       "      <th>1</th>\n",
       "      <td>Jogging</td>\n",
       "      <td>0.584056</td>\n",
       "      <td>0.748350</td>\n",
       "      <td>0.511587</td>\n",
       "    </tr>\n",
       "    <tr>\n",
       "      <th>2</th>\n",
       "      <td>Jogging</td>\n",
       "      <td>0.580752</td>\n",
       "      <td>0.736799</td>\n",
       "      <td>0.478356</td>\n",
       "    </tr>\n",
       "    <tr>\n",
       "      <th>3</th>\n",
       "      <td>Jogging</td>\n",
       "      <td>0.413465</td>\n",
       "      <td>0.967409</td>\n",
       "      <td>0.578050</td>\n",
       "    </tr>\n",
       "    <tr>\n",
       "      <th>4</th>\n",
       "      <td>Jogging</td>\n",
       "      <td>0.396117</td>\n",
       "      <td>0.773927</td>\n",
       "      <td>0.712287</td>\n",
       "    </tr>\n",
       "    <tr>\n",
       "      <th>...</th>\n",
       "      <td>...</td>\n",
       "      <td>...</td>\n",
       "      <td>...</td>\n",
       "      <td>...</td>\n",
       "    </tr>\n",
       "    <tr>\n",
       "      <th>255293</th>\n",
       "      <td>Sitting</td>\n",
       "      <td>0.301954</td>\n",
       "      <td>0.339938</td>\n",
       "      <td>0.747704</td>\n",
       "    </tr>\n",
       "    <tr>\n",
       "      <th>255294</th>\n",
       "      <td>Sitting</td>\n",
       "      <td>0.300741</td>\n",
       "      <td>0.341149</td>\n",
       "      <td>0.747704</td>\n",
       "    </tr>\n",
       "    <tr>\n",
       "      <th>255295</th>\n",
       "      <td>Sitting</td>\n",
       "      <td>0.299528</td>\n",
       "      <td>0.339938</td>\n",
       "      <td>0.749016</td>\n",
       "    </tr>\n",
       "    <tr>\n",
       "      <th>255296</th>\n",
       "      <td>Sitting</td>\n",
       "      <td>0.301954</td>\n",
       "      <td>0.339938</td>\n",
       "      <td>0.747704</td>\n",
       "    </tr>\n",
       "    <tr>\n",
       "      <th>255297</th>\n",
       "      <td>Sitting</td>\n",
       "      <td>0.301954</td>\n",
       "      <td>0.339938</td>\n",
       "      <td>0.746830</td>\n",
       "    </tr>\n",
       "  </tbody>\n",
       "</table>\n",
       "<p>8999 rows × 4 columns</p>\n",
       "</div>"
      ],
      "text/plain": [
       "       activity         X         Y         Z\n",
       "0       Jogging  0.410987  0.791254  0.497158\n",
       "1       Jogging  0.584056  0.748350  0.511587\n",
       "2       Jogging  0.580752  0.736799  0.478356\n",
       "3       Jogging  0.413465  0.967409  0.578050\n",
       "4       Jogging  0.396117  0.773927  0.712287\n",
       "...         ...       ...       ...       ...\n",
       "255293  Sitting  0.301954  0.339938  0.747704\n",
       "255294  Sitting  0.300741  0.341149  0.747704\n",
       "255295  Sitting  0.299528  0.339938  0.749016\n",
       "255296  Sitting  0.301954  0.339938  0.747704\n",
       "255297  Sitting  0.301954  0.339938  0.746830\n",
       "\n",
       "[8999 rows x 4 columns]"
      ]
     },
     "execution_count": 10,
     "metadata": {},
     "output_type": "execute_result"
    }
   ],
   "source": [
    "balanced_data['X'] = (balanced_data['X']-balanced_data['X'].min())/(balanced_data['X'].max()-balanced_data['X'].min())\n",
    "balanced_data['Y'] = (balanced_data['Y']-balanced_data['Y'].min())/(balanced_data['Y'].max()-balanced_data['Y'].min())\n",
    "balanced_data['Z'] = (balanced_data['Z']-balanced_data['Z'].min())/(balanced_data['Z'].max()-balanced_data['Z'].min())\n",
    "balanced_data"
   ]
  },
  {
   "cell_type": "code",
   "execution_count": 11,
   "id": "8e25a6ed",
   "metadata": {},
   "outputs": [
    {
     "data": {
      "text/plain": [
       "Jogging    4500\n",
       "Sitting    4499\n",
       "Name: activity, dtype: int64"
      ]
     },
     "execution_count": 11,
     "metadata": {},
     "output_type": "execute_result"
    }
   ],
   "source": [
    "balanced_data['activity'].value_counts()"
   ]
  },
  {
   "cell_type": "code",
   "execution_count": 12,
   "id": "eddd0852",
   "metadata": {},
   "outputs": [],
   "source": [
    "from sklearn.preprocessing import LabelEncoder\n",
    "\n",
    "le=LabelEncoder()\n",
    "\n",
    "balanced_data['activity']=le.fit_transform(balanced_data['activity'])"
   ]
  },
  {
   "cell_type": "code",
   "execution_count": 13,
   "id": "52093ebb",
   "metadata": {},
   "outputs": [
    {
     "data": {
      "text/plain": [
       "0    4500\n",
       "1    4499\n",
       "Name: activity, dtype: int64"
      ]
     },
     "execution_count": 13,
     "metadata": {},
     "output_type": "execute_result"
    }
   ],
   "source": [
    "balanced_data['activity'].value_counts()"
   ]
  },
  {
   "cell_type": "code",
   "execution_count": 14,
   "id": "4388fbba",
   "metadata": {},
   "outputs": [
    {
     "data": {
      "text/html": [
       "<div>\n",
       "<style scoped>\n",
       "    .dataframe tbody tr th:only-of-type {\n",
       "        vertical-align: middle;\n",
       "    }\n",
       "\n",
       "    .dataframe tbody tr th {\n",
       "        vertical-align: top;\n",
       "    }\n",
       "\n",
       "    .dataframe thead th {\n",
       "        text-align: right;\n",
       "    }\n",
       "</style>\n",
       "<table border=\"1\" class=\"dataframe\">\n",
       "  <thead>\n",
       "    <tr style=\"text-align: right;\">\n",
       "      <th></th>\n",
       "      <th>activity</th>\n",
       "      <th>X</th>\n",
       "      <th>Y</th>\n",
       "      <th>Z</th>\n",
       "    </tr>\n",
       "  </thead>\n",
       "  <tbody>\n",
       "    <tr>\n",
       "      <th>0</th>\n",
       "      <td>0</td>\n",
       "      <td>0.410987</td>\n",
       "      <td>0.791254</td>\n",
       "      <td>0.497158</td>\n",
       "    </tr>\n",
       "    <tr>\n",
       "      <th>1</th>\n",
       "      <td>0</td>\n",
       "      <td>0.584056</td>\n",
       "      <td>0.748350</td>\n",
       "      <td>0.511587</td>\n",
       "    </tr>\n",
       "    <tr>\n",
       "      <th>2</th>\n",
       "      <td>0</td>\n",
       "      <td>0.580752</td>\n",
       "      <td>0.736799</td>\n",
       "      <td>0.478356</td>\n",
       "    </tr>\n",
       "    <tr>\n",
       "      <th>3</th>\n",
       "      <td>0</td>\n",
       "      <td>0.413465</td>\n",
       "      <td>0.967409</td>\n",
       "      <td>0.578050</td>\n",
       "    </tr>\n",
       "    <tr>\n",
       "      <th>4</th>\n",
       "      <td>0</td>\n",
       "      <td>0.396117</td>\n",
       "      <td>0.773927</td>\n",
       "      <td>0.712287</td>\n",
       "    </tr>\n",
       "    <tr>\n",
       "      <th>...</th>\n",
       "      <td>...</td>\n",
       "      <td>...</td>\n",
       "      <td>...</td>\n",
       "      <td>...</td>\n",
       "    </tr>\n",
       "    <tr>\n",
       "      <th>255293</th>\n",
       "      <td>1</td>\n",
       "      <td>0.301954</td>\n",
       "      <td>0.339938</td>\n",
       "      <td>0.747704</td>\n",
       "    </tr>\n",
       "    <tr>\n",
       "      <th>255294</th>\n",
       "      <td>1</td>\n",
       "      <td>0.300741</td>\n",
       "      <td>0.341149</td>\n",
       "      <td>0.747704</td>\n",
       "    </tr>\n",
       "    <tr>\n",
       "      <th>255295</th>\n",
       "      <td>1</td>\n",
       "      <td>0.299528</td>\n",
       "      <td>0.339938</td>\n",
       "      <td>0.749016</td>\n",
       "    </tr>\n",
       "    <tr>\n",
       "      <th>255296</th>\n",
       "      <td>1</td>\n",
       "      <td>0.301954</td>\n",
       "      <td>0.339938</td>\n",
       "      <td>0.747704</td>\n",
       "    </tr>\n",
       "    <tr>\n",
       "      <th>255297</th>\n",
       "      <td>1</td>\n",
       "      <td>0.301954</td>\n",
       "      <td>0.339938</td>\n",
       "      <td>0.746830</td>\n",
       "    </tr>\n",
       "  </tbody>\n",
       "</table>\n",
       "<p>8999 rows × 4 columns</p>\n",
       "</div>"
      ],
      "text/plain": [
       "        activity         X         Y         Z\n",
       "0              0  0.410987  0.791254  0.497158\n",
       "1              0  0.584056  0.748350  0.511587\n",
       "2              0  0.580752  0.736799  0.478356\n",
       "3              0  0.413465  0.967409  0.578050\n",
       "4              0  0.396117  0.773927  0.712287\n",
       "...          ...       ...       ...       ...\n",
       "255293         1  0.301954  0.339938  0.747704\n",
       "255294         1  0.300741  0.341149  0.747704\n",
       "255295         1  0.299528  0.339938  0.749016\n",
       "255296         1  0.301954  0.339938  0.747704\n",
       "255297         1  0.301954  0.339938  0.746830\n",
       "\n",
       "[8999 rows x 4 columns]"
      ]
     },
     "execution_count": 14,
     "metadata": {},
     "output_type": "execute_result"
    }
   ],
   "source": [
    "balanced_data"
   ]
  },
  {
   "cell_type": "code",
   "execution_count": 15,
   "id": "81564d99",
   "metadata": {},
   "outputs": [
    {
     "data": {
      "text/plain": [
       "((6749, 4), (2250, 4))"
      ]
     },
     "execution_count": 15,
     "metadata": {},
     "output_type": "execute_result"
    }
   ],
   "source": [
    "from sklearn.model_selection import train_test_split\n",
    "\n",
    "X_train, X_test = train_test_split(balanced_data, test_size=0.25, random_state=42)\n",
    "X_train.shape, X_test.shape"
   ]
  },
  {
   "cell_type": "code",
   "execution_count": 16,
   "id": "5d2e7c53",
   "metadata": {},
   "outputs": [],
   "source": [
    "# Normal = 0 Fall = 1\n",
    "\n",
    "normal = X_train[X_train['activity'] == 0]\n",
    "y_train = normal['activity']\n",
    "\n",
    "X_train_normal_train = normal.drop(['activity'], axis=1)\n",
    "X_train_ft = X_train_normal_train.values\n",
    "\n",
    "y_test = X_test['activity']\n",
    "X_test = X_test.drop(['activity'], axis=1)\n",
    "\n",
    "X_test = X_test.values"
   ]
  },
  {
   "cell_type": "code",
   "execution_count": 17,
   "id": "d5c2d9ba",
   "metadata": {},
   "outputs": [
    {
     "data": {
      "text/plain": [
       "((3400, 3), (2250, 3), (3400,), (2250,))"
      ]
     },
     "execution_count": 17,
     "metadata": {},
     "output_type": "execute_result"
    }
   ],
   "source": [
    "X_train_ft.shape, X_test.shape, y_train.shape, y_test.shape"
   ]
  },
  {
   "cell_type": "code",
   "execution_count": 18,
   "id": "7808c3f4",
   "metadata": {},
   "outputs": [],
   "source": [
    "noise_factor = 0.50\n",
    "\n",
    "X_train_AE_noisy = X_train_ft.copy() + noise_factor * np.random.normal(loc=0.0, scale=1.0, size=X_train_ft.shape)\n",
    "\n",
    "X_test_AE_noisy = X_test.copy() + noise_factor * np.random.normal(loc=0.0, scale=1.0, size=X_test.shape)"
   ]
  },
  {
   "cell_type": "code",
   "execution_count": 19,
   "id": "7b7d76a8",
   "metadata": {},
   "outputs": [
    {
     "data": {
      "text/plain": [
       "((3400, 3), (2250, 3), (3400,), (2250,))"
      ]
     },
     "execution_count": 19,
     "metadata": {},
     "output_type": "execute_result"
    }
   ],
   "source": [
    "X_train_AE_noisy.shape, X_test_AE_noisy.shape, y_train.shape, y_test.shape"
   ]
  },
  {
   "cell_type": "code",
   "execution_count": 29,
   "id": "ff7d75ed",
   "metadata": {},
   "outputs": [],
   "source": [
    "input_dim = X_train_ft.shape[1]\n",
    "encoding_dim = 16\n",
    "\n",
    "input_layer = Input(shape=(input_dim, ))\n",
    "\n",
    "encoder = Dense(input_dim, activation=\"relu\", \n",
    "                activity_regularizer=regularizers.l1(10e-5))(input_layer)\n",
    "encoder = Dense(int(16), activation=\"relu\")(encoder)\n",
    "encoder = Dense(int(8), activation=\"relu\")(encoder)\n",
    "decoder = Dense(int(8), activation='relu')(encoder)\n",
    "decoder = Dense(int(16), activation='relu')(decoder)\n",
    "decoder = Dense(input_dim, activation='sigmoid')(decoder)\n",
    "autoencoder = Model(inputs=input_layer, outputs=decoder)"
   ]
  },
  {
   "cell_type": "code",
   "execution_count": 76,
   "id": "29f4313b",
   "metadata": {},
   "outputs": [
    {
     "name": "stdout",
     "output_type": "stream",
     "text": [
      "Epoch 1/10\n",
      "96/96 [==============================] - 1s 4ms/step - loss: 0.1348 - accuracy: 0.6716 - val_loss: 0.1269 - val_accuracy: 0.6794\n",
      "Epoch 2/10\n",
      "96/96 [==============================] - 0s 3ms/step - loss: 0.1145 - accuracy: 0.6902 - val_loss: 0.1116 - val_accuracy: 0.6971\n",
      "Epoch 3/10\n",
      "96/96 [==============================] - 0s 2ms/step - loss: 0.0978 - accuracy: 0.7373 - val_loss: 0.0924 - val_accuracy: 0.7735\n",
      "Epoch 4/10\n",
      "96/96 [==============================] - 0s 3ms/step - loss: 0.0806 - accuracy: 0.8477 - val_loss: 0.0770 - val_accuracy: 0.8971\n",
      "Epoch 5/10\n",
      "96/96 [==============================] - 0s 3ms/step - loss: 0.0698 - accuracy: 0.9271 - val_loss: 0.0697 - val_accuracy: 0.9382\n",
      "Epoch 6/10\n",
      "96/96 [==============================] - 0s 3ms/step - loss: 0.0650 - accuracy: 0.9490 - val_loss: 0.0663 - val_accuracy: 0.9500\n",
      "Epoch 7/10\n",
      "96/96 [==============================] - 0s 3ms/step - loss: 0.0627 - accuracy: 0.9585 - val_loss: 0.0645 - val_accuracy: 0.9588\n",
      "Epoch 8/10\n",
      "96/96 [==============================] - 0s 3ms/step - loss: 0.0615 - accuracy: 0.9595 - val_loss: 0.0634 - val_accuracy: 0.9794\n",
      "Epoch 9/10\n",
      "96/96 [==============================] - 0s 3ms/step - loss: 0.0606 - accuracy: 0.9693 - val_loss: 0.0625 - val_accuracy: 0.9824\n",
      "Epoch 10/10\n",
      "96/96 [==============================] - 0s 3ms/step - loss: 0.0600 - accuracy: 0.9725 - val_loss: 0.0620 - val_accuracy: 0.9794\n"
     ]
    }
   ],
   "source": [
    "#nb_epoch = 100\n",
    "nb_epoch = 10\n",
    "batch_size = 32\n",
    "autoencoder.compile(optimizer='adam', \n",
    "                    loss='mean_squared_error', \n",
    "                    metrics=['accuracy'])\n",
    "checkpointer = ModelCheckpoint(filepath=\"model.h5\",\n",
    "                               verbose=0,\n",
    "                               save_best_only=True)\n",
    "tensorboard = TensorBoard(log_dir='./logs',\n",
    "                          histogram_freq=0,\n",
    "                          write_graph=True,\n",
    "                          write_images=True)\n",
    "history = autoencoder.fit(X_train_AE_noisy, X_train_AE_noisy,\n",
    "                    epochs=nb_epoch,\n",
    "                    batch_size=batch_size,\n",
    "                    shuffle=True,\n",
    "                    validation_split=0.1,\n",
    "                    verbose=1,\n",
    "                    callbacks=[checkpointer, tensorboard]).history"
   ]
  },
  {
   "cell_type": "code",
   "execution_count": 77,
   "id": "4025ba4d",
   "metadata": {},
   "outputs": [
    {
     "data": {
      "image/png": "[encoded data removed]",
      "text/plain": [
       "<Figure size 640x480 with 1 Axes>"
      ]
     },
     "metadata": {},
     "output_type": "display_data"
    }
   ],
   "source": [
    "plt.plot(history['loss'])\n",
    "plt.plot(history['val_loss'])\n",
    "plt.title('model loss')\n",
    "plt.ylabel('loss')\n",
    "plt.xlabel('epoch')\n",
    "plt.legend(['train', 'test'], loc='upper right');\n"
   ]
  },
  {
   "cell_type": "code",
   "execution_count": 78,
   "id": "0a496676",
   "metadata": {},
   "outputs": [
    {
     "name": "stdout",
     "output_type": "stream",
     "text": [
      "71/71 [==============================] - 0s 1ms/step\n"
     ]
    },
    {
     "data": {
      "text/html": [
       "<div>\n",
       "<style scoped>\n",
       "    .dataframe tbody tr th:only-of-type {\n",
       "        vertical-align: middle;\n",
       "    }\n",
       "\n",
       "    .dataframe tbody tr th {\n",
       "        vertical-align: top;\n",
       "    }\n",
       "\n",
       "    .dataframe thead th {\n",
       "        text-align: right;\n",
       "    }\n",
       "</style>\n",
       "<table border=\"1\" class=\"dataframe\">\n",
       "  <thead>\n",
       "    <tr style=\"text-align: right;\">\n",
       "      <th></th>\n",
       "      <th>reconstruction_error</th>\n",
       "      <th>true_class</th>\n",
       "    </tr>\n",
       "  </thead>\n",
       "  <tbody>\n",
       "    <tr>\n",
       "      <th>count</th>\n",
       "      <td>2250.000000</td>\n",
       "      <td>2250.000000</td>\n",
       "    </tr>\n",
       "    <tr>\n",
       "      <th>mean</th>\n",
       "      <td>0.002590</td>\n",
       "      <td>0.511111</td>\n",
       "    </tr>\n",
       "    <tr>\n",
       "      <th>std</th>\n",
       "      <td>0.001787</td>\n",
       "      <td>0.499988</td>\n",
       "    </tr>\n",
       "    <tr>\n",
       "      <th>min</th>\n",
       "      <td>0.000080</td>\n",
       "      <td>0.000000</td>\n",
       "    </tr>\n",
       "    <tr>\n",
       "      <th>25%</th>\n",
       "      <td>0.000855</td>\n",
       "      <td>0.000000</td>\n",
       "    </tr>\n",
       "    <tr>\n",
       "      <th>50%</th>\n",
       "      <td>0.002034</td>\n",
       "      <td>1.000000</td>\n",
       "    </tr>\n",
       "    <tr>\n",
       "      <th>75%</th>\n",
       "      <td>0.005156</td>\n",
       "      <td>1.000000</td>\n",
       "    </tr>\n",
       "    <tr>\n",
       "      <th>max</th>\n",
       "      <td>0.005410</td>\n",
       "      <td>1.000000</td>\n",
       "    </tr>\n",
       "  </tbody>\n",
       "</table>\n",
       "</div>"
      ],
      "text/plain": [
       "       reconstruction_error   true_class\n",
       "count           2250.000000  2250.000000\n",
       "mean               0.002590     0.511111\n",
       "std                0.001787     0.499988\n",
       "min                0.000080     0.000000\n",
       "25%                0.000855     0.000000\n",
       "50%                0.002034     1.000000\n",
       "75%                0.005156     1.000000\n",
       "max                0.005410     1.000000"
      ]
     },
     "execution_count": 78,
     "metadata": {},
     "output_type": "execute_result"
    }
   ],
   "source": [
    "predictions = autoencoder.predict(X_test)\n",
    "mse = np.mean(np.power(X_test - predictions, 2), axis=1)\n",
    "error_df = pd.DataFrame({'reconstruction_error': mse,\n",
    "                        'true_class': y_test})\n",
    "error_df.describe()"
   ]
  },
  {
   "cell_type": "code",
   "execution_count": 79,
   "id": "3f449b06",
   "metadata": {},
   "outputs": [],
   "source": [
    "from sklearn.metrics import confusion_matrix"
   ]
  },
  {
   "cell_type": "code",
   "execution_count": 113,
   "id": "8ff96cf6",
   "metadata": {},
   "outputs": [
    {
     "data": {
      "image/png": "[encoded data removed]",
      "text/plain": [
       "<Figure size 1200x1200 with 2 Axes>"
      ]
     },
     "metadata": {},
     "output_type": "display_data"
    }
   ],
   "source": [
    "LABELS = [\"Normal\", \"AbNormal\"]\n",
    "threshold = 0.00091\n",
    "\n",
    "\n",
    "y_pred = [0 if e > threshold else 1 for e in error_df.reconstruction_error.values]\n",
    "\n",
    "conf_matrix = confusion_matrix(error_df.true_class, y_pred)\n",
    "\n",
    "plt.figure(figsize=(12, 12))\n",
    "\n",
    "sns.heatmap(conf_matrix, xticklabels=LABELS, yticklabels=LABELS, annot=True, fmt=\"d\");\n",
    "\n",
    "plt.title(\"Confusion matrix\")\n",
    "\n",
    "plt.ylabel('True class')\n",
    "\n",
    "plt.xlabel('Predicted class')\n",
    "\n",
    "plt.show()"
   ]
  },
  {
   "cell_type": "code",
   "execution_count": 114,
   "id": "d217e522",
   "metadata": {},
   "outputs": [
    {
     "name": "stdout",
     "output_type": "stream",
     "text": [
      "Accuracy Score : 0.6702222222222223\n",
      "Precision : 0.8119266055045872\n",
      "Recall : 0.4617391304347826\n",
      "F1 : 0.5886917960088691\n"
     ]
    }
   ],
   "source": [
    "from sklearn.metrics import precision_recall_fscore_support\n",
    "\n",
    "from sklearn.metrics import accuracy_score\n",
    "\n",
    "precision, recall, f1,_ = precision_recall_fscore_support(y_test,y_pred,average='binary')\n",
    "\n",
    "print ('Accuracy Score :',accuracy_score(error_df.true_class, y_pred) )\n",
    "\n",
    "print ('Precision :',precision )\n",
    "\n",
    "print ('Recall :',recall )\n",
    "\n",
    "print ('F1 :',f1 )"
   ]
  }
 ],
 "metadata": {
  "kernelspec": {
   "display_name": "homl3",
   "language": "python",
   "name": "homl3"
  },
  "language_info": {
   "codemirror_mode": {
    "name": "ipython",
    "version": 3
   },
   "file_extension": ".py",
   "mimetype": "text/x-python",
   "name": "python",
   "nbconvert_exporter": "python",
   "pygments_lexer": "ipython3",
   "version": "3.10.12"
  }
 },
 "nbformat": 4,
 "nbformat_minor": 5
}

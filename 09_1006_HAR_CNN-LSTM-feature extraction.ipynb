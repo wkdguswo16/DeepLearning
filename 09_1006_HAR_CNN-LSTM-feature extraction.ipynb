{
 "cells": [
  {
   "cell_type": "code",
   "execution_count": 1,
   "metadata": {
    "id": "LmJZAAI28-yb"
   },
   "outputs": [],
   "source": [
    "import pandas as pd\n",
    "import numpy as np\n",
    "from matplotlib import pyplot as plt\n",
    "from tensorflow.keras.models import Model\n",
    "from sklearn.model_selection import train_test_split\n",
    "\n",
    "\n",
    "import keras\n",
    "from tensorflow.keras.layers import Activation, TimeDistributed\n",
    "from tensorflow.keras.models import Sequential\n",
    "from tensorflow.keras.layers import Conv1D, MaxPooling1D, Dense, Input, Dropout, Flatten, BatchNormalization, LSTM, concatenate\n",
    "from keras.utils import to_categorical\n",
    "from keras.utils.vis_utils import plot_model\n",
    "from tensorflow.keras import optimizers\n",
    "from keras.utils import to_categorical\n",
    "import seaborn as sns"
   ]
  },
  {
   "cell_type": "code",
   "execution_count": 2,
   "metadata": {},
   "outputs": [],
   "source": [
    "import pandas as pd\n",
    "\n",
    "def get_new_feature_name_df(old_feature_name_df):\n",
    "    feature_dup_df = pd.DataFrame(data=old_feature_name_df.groupby('column_name').cumcount(),\n",
    "                                  columns=['dup_cnt'])\n",
    "    feature_dup_df = feature_dup_df.reset_index()\n",
    "    new_feature_name_df = pd.merge(old_feature_name_df.reset_index(), feature_dup_df, how='outer')\n",
    "    new_feature_name_df['column_name'] = new_feature_name_df[['column_name', 'dup_cnt']].apply(lambda x : x[0]+'_'+str(x[1]) \n",
    "                                                                                         if x[1] >0 else x[0] ,  axis=1)\n",
    "    new_feature_name_df = new_feature_name_df.drop(['index'], axis=1)\n",
    "    return new_feature_name_df\n",
    "\n",
    "def get_human_dataset( ):\n",
    "    \n",
    "    # 각 데이터 파일들은 공백으로 분리되어 있으므로 read_csv에서 공백 문자를 sep으로 할당.\n",
    "    feature_name_df = pd.read_csv('./data/UCI_HAR_Dataset/features.txt',sep='\\s+',\n",
    "                        header=None,names=['column_index','column_name'])\n",
    "    \n",
    "    # 중복된 피처명을 수정하는 get_new_feature_name_df()를 이용, 신규 피처명 DataFrame생성. \n",
    "    new_feature_name_df = get_new_feature_name_df(feature_name_df)\n",
    "    \n",
    "    # DataFrame에 피처명을 컬럼으로 부여하기 위해 리스트 객체로 다시 변환\n",
    "    feature_name = new_feature_name_df.iloc[:, 1].values.tolist()\n",
    "    \n",
    "    # 학습 피처 데이터 셋과 테스트 피처 데이터을 DataFrame으로 로딩. 컬럼명은 feature_name 적용\n",
    "    X_train = pd.read_csv('./data/UCI_HAR_Dataset/train/X_train.txt',sep='\\s+', names=feature_name )\n",
    "    X_test = pd.read_csv('./data/UCI_HAR_Dataset/test/X_test.txt',sep='\\s+', names=feature_name)\n",
    "    \n",
    "    # 학습 레이블과 테스트 레이블 데이터을 DataFrame으로 로딩하고 컬럼명은 action으로 부여\n",
    "    y_train = pd.read_csv('./data/UCI_HAR_Dataset/train/y_train.txt',sep='\\s+',header=None,names=['action'])\n",
    "    y_test = pd.read_csv('./data/UCI_HAR_Dataset/test/y_test.txt',sep='\\s+',header=None,names=['action'])\n",
    "    \n",
    "    # 로드된 학습/테스트용 DataFrame을 모두 반환 \n",
    "    return X_train, X_test, y_train, y_test"
   ]
  },
  {
   "cell_type": "code",
   "execution_count": 3,
   "metadata": {},
   "outputs": [
    {
     "name": "stdout",
     "output_type": "stream",
     "text": [
      "## 학습 피처 데이터 정보 ##\n",
      "<class 'pandas.core.frame.DataFrame'>\n",
      "RangeIndex: 7352 entries, 0 to 7351\n",
      "Columns: 561 entries, tBodyAcc-mean()-X to angle(Z,gravityMean)\n",
      "dtypes: float64(561)\n",
      "memory usage: 31.5 MB\n",
      "None\n"
     ]
    }
   ],
   "source": [
    "from sklearn.ensemble import RandomForestClassifier\n",
    "from sklearn.metrics import accuracy_score\n",
    "import pandas as pd\n",
    "import warnings\n",
    "warnings.filterwarnings('ignore')\n",
    "\n",
    "# 결정 트리에서 사용한 get_human_dataset( )을 이용해 학습/테스트용 DataFrame 반환\n",
    "X_train, X_test, y_train, y_test = get_human_dataset()\n",
    "\n",
    "print(\"## 학습 피처 데이터 정보 ##\")\n",
    "print(X_train.info())"
   ]
  },
  {
   "cell_type": "code",
   "execution_count": 4,
   "metadata": {
    "colab": {
     "base_uri": "https://localhost:8080/"
    },
    "id": "fiB1z9ciNU4d",
    "outputId": "d1be26b4-0d0e-4c60-f073-4757db4e5642"
   },
   "outputs": [
    {
     "data": {
      "text/plain": [
       "((7352, 561), (2947, 561), (7352, 1), (2947, 1))"
      ]
     },
     "execution_count": 4,
     "metadata": {},
     "output_type": "execute_result"
    }
   ],
   "source": [
    "X_train.shape, X_test.shape, y_train.shape, y_test.shape"
   ]
  },
  {
   "cell_type": "code",
   "execution_count": 5,
   "metadata": {},
   "outputs": [],
   "source": [
    "# Create train and test sets\n",
    "X_train, X_val, y_train, y_val = train_test_split(X_train, y_train, test_size=0.25, random_state=1,stratify=  y_train)"
   ]
  },
  {
   "cell_type": "code",
   "execution_count": 6,
   "metadata": {},
   "outputs": [],
   "source": [
    "# Reformat the training data into sequence samples\n",
    "# Source: https://machinelearningmastery.com/how-to-develop-convolutional-neural-network-models-for-time-series-forecasting/\n",
    "\n",
    "def split_sequences(sequences, n_steps):\n",
    "\tX, y = list(), list()\n",
    "\tfor i in range(len(sequences)):\n",
    "\t\t# find the end of this pattern\n",
    "\t\tend_ix = i + n_steps\n",
    "\t\t# check if we are beyond the dataset\n",
    "\t\tif end_ix > len(sequences):\n",
    "\t\t\tbreak\n",
    "\t\t# gather input and output parts of the pattern\n",
    "\t\tseq_x, seq_y = sequences[i:end_ix, :-1], sequences[end_ix-1, -1]\n",
    "\t\tX.append(seq_x)\n",
    "\t\ty.append(seq_y)\n",
    "\treturn np.array(X), np.array(y)"
   ]
  },
  {
   "cell_type": "code",
   "execution_count": 7,
   "metadata": {},
   "outputs": [
    {
     "name": "stdout",
     "output_type": "stream",
     "text": [
      "(5506, 9, 561) (5506,)\n",
      "(2939, 9, 561) (2939,)\n",
      "(1830, 9, 561) (1830,)\n"
     ]
    }
   ],
   "source": [
    "# Merge train and test X/y data to apply sequence transformation function\n",
    "y_train_array = np.array(y_train)\n",
    "train_set = np.c_[X_train, y_train_array]\n",
    "\n",
    "y_test_array = np.array(y_test)\n",
    "test_set = np.c_[X_test, y_test_array]\n",
    "\n",
    "y_val_array = np.array(y_val)\n",
    "val_set = np.c_[X_val, y_val_array]\n",
    "\n",
    "X_train, y_train = split_sequences(train_set, 9)\n",
    "print(X_train.shape, y_train.shape)\n",
    "\n",
    "X_test, y_test = split_sequences(test_set, 9)\n",
    "print(X_test.shape, y_test.shape)\n",
    "\n",
    "X_val, y_val = split_sequences(val_set, 9)\n",
    "print(X_val.shape, y_val.shape)"
   ]
  },
  {
   "cell_type": "code",
   "execution_count": 8,
   "metadata": {},
   "outputs": [
    {
     "name": "stdout",
     "output_type": "stream",
     "text": [
      "(5506, 7)\n",
      "(2939, 7)\n",
      "(1830, 7)\n"
     ]
    }
   ],
   "source": [
    "# Convert output variables to categorical for CNN\n",
    "y_train = to_categorical(y_train)\n",
    "print(y_train.shape)\n",
    "\n",
    "y_test = to_categorical(y_test)\n",
    "print(y_test.shape)\n",
    "\n",
    "y_val = to_categorical(y_val)\n",
    "print(y_val.shape)"
   ]
  },
  {
   "cell_type": "code",
   "execution_count": 9,
   "metadata": {},
   "outputs": [
    {
     "name": "stdout",
     "output_type": "stream",
     "text": [
      "9 561 7\n"
     ]
    }
   ],
   "source": [
    "n_timesteps, n_features, n_outputs = X_train.shape[1], X_train.shape[2], y_train.shape[1]\n",
    "print(n_timesteps, n_features, n_outputs)"
   ]
  },
  {
   "cell_type": "code",
   "execution_count": 16,
   "metadata": {},
   "outputs": [
    {
     "name": "stdout",
     "output_type": "stream",
     "text": [
      "Model: \"sequential_2\"\n",
      "_________________________________________________________________\n",
      " Layer (type)                Output Shape              Param #   \n",
      "=================================================================\n",
      " conv1d_4 (Conv1D)           (None, 7, 64)             107776    \n",
      "                                                                 \n",
      " conv1d_5 (Conv1D)           (None, 5, 64)             12352     \n",
      "                                                                 \n",
      " dropout_3 (Dropout)         (None, 5, 64)             0         \n",
      "                                                                 \n",
      " max_pooling1d_2 (MaxPooling  (None, 2, 64)            0         \n",
      " 1D)                                                             \n",
      "                                                                 \n",
      " lstm_1 (LSTM)               (None, 2, 50)             23000     \n",
      "                                                                 \n",
      " lstm_2 (LSTM)               (None, 50)                20200     \n",
      "                                                                 \n",
      " dense_1 (Dense)             (None, 7)                 357       \n",
      "                                                                 \n",
      "=================================================================\n",
      "Total params: 163,685\n",
      "Trainable params: 163,685\n",
      "Non-trainable params: 0\n",
      "_________________________________________________________________\n"
     ]
    }
   ],
   "source": [
    "\n",
    "model = Sequential()\n",
    "model.add(Conv1D(filters=64, kernel_size=3, activation='relu', input_shape=(n_timesteps,n_features)))\n",
    "model.add(Conv1D(filters=64, kernel_size=3, activation='relu', input_shape=(n_timesteps,n_features)))\n",
    "model.add(Dropout(0.5))\n",
    "model.add(MaxPooling1D(pool_size=2))\n",
    "model.add(LSTM(50, return_sequences=True))\n",
    "model.add(LSTM(50))\n",
    "model.add(Dense(n_outputs, activation='softmax'))\n",
    "\n",
    "model.summary()"
   ]
  },
  {
   "cell_type": "code",
   "execution_count": 17,
   "metadata": {},
   "outputs": [],
   "source": [
    "model.compile(loss='categorical_crossentropy', optimizer='adam', metrics=['accuracy'])"
   ]
  },
  {
   "cell_type": "code",
   "execution_count": 18,
   "metadata": {},
   "outputs": [
    {
     "name": "stdout",
     "output_type": "stream",
     "text": [
      "Epoch 1/20\n",
      "69/69 [==============================] - 5s 20ms/step - loss: 1.8345 - accuracy: 0.1880 - val_loss: 1.7924 - val_accuracy: 0.1642\n",
      "Epoch 2/20\n",
      "69/69 [==============================] - 1s 10ms/step - loss: 1.7948 - accuracy: 0.1823 - val_loss: 1.7844 - val_accuracy: 0.1751\n",
      "Epoch 3/20\n",
      "69/69 [==============================] - 1s 10ms/step - loss: 1.7917 - accuracy: 0.1814 - val_loss: 1.7843 - val_accuracy: 0.1860\n",
      "Epoch 4/20\n",
      "69/69 [==============================] - 1s 14ms/step - loss: 1.7907 - accuracy: 0.1817 - val_loss: 1.7869 - val_accuracy: 0.1860\n",
      "Epoch 5/20\n",
      "69/69 [==============================] - 1s 10ms/step - loss: 1.7907 - accuracy: 0.1798 - val_loss: 1.7830 - val_accuracy: 0.1860\n",
      "Epoch 6/20\n",
      "69/69 [==============================] - 1s 11ms/step - loss: 1.7897 - accuracy: 0.1926 - val_loss: 1.7835 - val_accuracy: 0.1860\n",
      "Epoch 7/20\n",
      "69/69 [==============================] - 1s 12ms/step - loss: 1.7898 - accuracy: 0.1842 - val_loss: 1.7814 - val_accuracy: 0.2033\n",
      "Epoch 8/20\n",
      "69/69 [==============================] - 1s 11ms/step - loss: 1.7910 - accuracy: 0.1807 - val_loss: 1.7824 - val_accuracy: 0.2033\n",
      "Epoch 9/20\n",
      "69/69 [==============================] - 1s 13ms/step - loss: 1.7882 - accuracy: 0.1778 - val_loss: 1.7821 - val_accuracy: 0.2033\n",
      "Epoch 10/20\n",
      "69/69 [==============================] - 1s 13ms/step - loss: 1.7883 - accuracy: 0.1832 - val_loss: 1.7846 - val_accuracy: 0.1860\n",
      "Epoch 11/20\n",
      "69/69 [==============================] - 1s 12ms/step - loss: 1.7892 - accuracy: 0.1866 - val_loss: 1.7860 - val_accuracy: 0.1742\n",
      "Epoch 12/20\n",
      "69/69 [==============================] - 1s 10ms/step - loss: 1.7882 - accuracy: 0.1864 - val_loss: 1.7830 - val_accuracy: 0.1860\n",
      "Epoch 13/20\n",
      "69/69 [==============================] - 1s 9ms/step - loss: 1.7884 - accuracy: 0.1839 - val_loss: 1.7856 - val_accuracy: 0.1742\n",
      "Epoch 14/20\n",
      "69/69 [==============================] - 1s 10ms/step - loss: 1.7894 - accuracy: 0.1882 - val_loss: 1.7845 - val_accuracy: 0.1860\n",
      "Epoch 15/20\n",
      "69/69 [==============================] - 1s 10ms/step - loss: 1.7869 - accuracy: 0.1812 - val_loss: 1.7820 - val_accuracy: 0.2033\n",
      "Epoch 16/20\n",
      "69/69 [==============================] - 1s 11ms/step - loss: 1.7883 - accuracy: 0.1837 - val_loss: 1.7837 - val_accuracy: 0.1860\n",
      "Epoch 17/20\n",
      "69/69 [==============================] - 1s 10ms/step - loss: 1.7875 - accuracy: 0.1887 - val_loss: 1.7820 - val_accuracy: 0.2033\n",
      "Epoch 18/20\n",
      "69/69 [==============================] - 1s 10ms/step - loss: 1.7883 - accuracy: 0.1744 - val_loss: 1.7849 - val_accuracy: 0.1742\n",
      "Epoch 19/20\n",
      "69/69 [==============================] - 1s 10ms/step - loss: 1.7880 - accuracy: 0.1807 - val_loss: 1.7819 - val_accuracy: 0.1869\n",
      "Epoch 20/20\n",
      "69/69 [==============================] - 1s 10ms/step - loss: 1.7894 - accuracy: 0.1771 - val_loss: 1.7812 - val_accuracy: 0.1860\n"
     ]
    }
   ],
   "source": [
    "# fit network\n",
    "batch_size = 64\n",
    "validation_split = 0.2\n",
    "train_epochs = 20\n",
    "history = model.fit(X_train, y_train, epochs=train_epochs, batch_size=batch_size, verbose=True,  validation_split=validation_split, shuffle=True)"
   ]
  },
  {
   "cell_type": "code",
   "execution_count": 19,
   "metadata": {},
   "outputs": [
    {
     "data": {
      "text/plain": [
       "<matplotlib.legend.Legend at 0x2235e1e66a0>"
      ]
     },
     "execution_count": 19,
     "metadata": {},
     "output_type": "execute_result"
    },
    {
     "data": {
      "image/png": "[encoded data removed]",
      "text/plain": [
       "<Figure size 640x480 with 1 Axes>"
      ]
     },
     "metadata": {},
     "output_type": "display_data"
    }
   ],
   "source": [
    "plt.plot(history.history['loss'])\n",
    "plt.plot(history.history['val_loss'])\n",
    "plt.title('model loss')\n",
    "plt.ylabel('loss')\n",
    "plt.xlabel('epoch')\n",
    "plt.legend(['train', 'Validation'], loc='upper left')"
   ]
  },
  {
   "cell_type": "code",
   "execution_count": 20,
   "metadata": {},
   "outputs": [
    {
     "name": "stdout",
     "output_type": "stream",
     "text": [
      "Accuracy of the CNN model 0.1782919317483902\n",
      "92/92 [==============================] - 1s 3ms/step\n"
     ]
    }
   ],
   "source": [
    "# evaluate model\n",
    "test_loss, test_accuracy = model.evaluate(X_test, y_test, batch_size=batch_size, verbose=0)\n",
    "print(\"Accuracy of the CNN model\", test_accuracy)\n",
    "predictions=model.predict(X_test)"
   ]
  },
  {
   "cell_type": "code",
   "execution_count": 21,
   "metadata": {},
   "outputs": [],
   "source": [
    "from sklearn.metrics import confusion_matrix, classification_report"
   ]
  },
  {
   "cell_type": "code",
   "execution_count": 22,
   "metadata": {},
   "outputs": [],
   "source": [
    "def display_results(testy,predictions,classNames):\n",
    "    y_test=np.argmax(testy, axis=1)\n",
    "    y_scores=np.argmax(predictions, axis=1)\n",
    "    classes = len(classNames)\n",
    "    cm = confusion_matrix(y_test, y_scores)\n",
    "    print(\"**** Confusion Matrix ****\")\n",
    "    print(cm)\n",
    "    print(\"**** Classification Report ****\")\n",
    "    print(classification_report(y_test, y_scores, target_names=classNames))\n",
    "    con = np.zeros((classes,classes))\n",
    "    for x in range(classes):\n",
    "        for y in range(classes):\n",
    "            con[x,y] = cm[x,y] #/np.sum(cm[x,:])\n",
    "\n",
    "    plt.figure(figsize=(10,8))\n",
    "    df = sns.heatmap(con, annot=True, fmt='g', cmap='Blues',xticklabels= classNames , yticklabels= classNames)\n",
    "    plt.xlabel('Predicted')\n",
    "    plt.ylabel('Actual')\n",
    "    plt.show()"
   ]
  },
  {
   "cell_type": "code",
   "execution_count": 23,
   "metadata": {},
   "outputs": [
    {
     "name": "stdout",
     "output_type": "stream",
     "text": [
      "**** Confusion Matrix ****\n",
      "[[  0   0   0   0 496   0]\n",
      " [  0   0   0   0 471   0]\n",
      " [  0   0   0   0 420   0]\n",
      " [  0   0   0   0 491   0]\n",
      " [  0   0   0   0 524   0]\n",
      " [  0   0   0   0 537   0]]\n",
      "**** Classification Report ****\n",
      "              precision    recall  f1-score   support\n",
      "\n",
      "           1       0.00      0.00      0.00       496\n",
      "           2       0.00      0.00      0.00       471\n",
      "           3       0.00      0.00      0.00       420\n",
      "           4       0.00      0.00      0.00       491\n",
      "           5       0.18      1.00      0.30       524\n",
      "           6       0.00      0.00      0.00       537\n",
      "\n",
      "    accuracy                           0.18      2939\n",
      "   macro avg       0.03      0.17      0.05      2939\n",
      "weighted avg       0.03      0.18      0.05      2939\n",
      "\n"
     ]
    },
    {
     "data": {
      "image/png": "[encoded data removed]",
      "text/plain": [
       "<Figure size 1000x800 with 2 Axes>"
      ]
     },
     "metadata": {},
     "output_type": "display_data"
    }
   ],
   "source": [
    "classNames=[\"1\",\"2\",\"3\",\"4\",\"5\",\"6\"]\n",
    "display_results(y_test,predictions,classNames)"
   ]
  },
  {
   "cell_type": "code",
   "execution_count": null,
   "metadata": {},
   "outputs": [],
   "source": []
  }
 ],
 "metadata": {
  "colab": {
   "authorship_tag": "ABX9TyMm/DpFfSeNPNcAk9yBGjoi",
   "collapsed_sections": [
    "HGBepz0q-lfY",
    "NxBLgeuLA8xS",
    "Vpyoslro1zie",
    "yDowZCTIP9Ht",
    "R-H04c6mTkDB"
   ],
   "include_colab_link": true,
   "name": "CNN and LSTM for Human Activity Recognition.ipynb",
   "provenance": []
  },
  "kernelspec": {
   "display_name": "Python 3 (ipykernel)",
   "language": "python",
   "name": "python3"
  },
  "language_info": {
   "codemirror_mode": {
    "name": "ipython",
    "version": 3
   },
   "file_extension": ".py",
   "mimetype": "text/x-python",
   "name": "python",
   "nbconvert_exporter": "python",
   "pygments_lexer": "ipython3",
   "version": "3.9.13"
  }
 },
 "nbformat": 4,
 "nbformat_minor": 1
}

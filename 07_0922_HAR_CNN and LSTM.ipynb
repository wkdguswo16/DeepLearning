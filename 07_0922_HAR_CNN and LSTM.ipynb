{
 "cells": [
  {
   "cell_type": "code",
   "execution_count": 11,
   "metadata": {
    "id": "LmJZAAI28-yb"
   },
   "outputs": [],
   "source": [
    "from ai_assets import *"
   ]
  },
  {
   "cell_type": "code",
   "execution_count": 2,
   "metadata": {
    "id": "3m-s15_wL6nY"
   },
   "outputs": [],
   "source": [
    "# load a single file as a numpy array\n",
    "def load_file(filepath):\n",
    "    dataframe = pd.read_csv(filepath, header=None, delim_whitespace=True)\n",
    "    return dataframe.values\n",
    "\n",
    "# load a list of files and return as a 3d numpy array\n",
    "\n",
    "\n",
    "def load_group(filenames, prefix=''):\n",
    "    loaded = list()\n",
    "    for name in filenames:\n",
    "        data = load_file(prefix + name)\n",
    "        loaded.append(data)\n",
    "    # stack group so that features are the 3rd dimension\n",
    "    loaded = np.dstack(loaded)\n",
    "    return loaded\n",
    "\n",
    "# load a dataset group, such as train or test\n",
    "\n",
    "\n",
    "def load_dataset_group(group, prefix=''):\n",
    "    filepath = prefix + group + '/Inertial Signals/'\n",
    "    # load all 9 files as a single array\n",
    "    filenames = list()\n",
    "    # total acceleration\n",
    "    filenames += ['total_acc_x_'+group+'.txt', 'total_acc_y_' +\n",
    "                  group+'.txt', 'total_acc_z_'+group+'.txt']\n",
    "    # body acceleration\n",
    "    filenames += ['body_acc_x_'+group+'.txt', 'body_acc_y_' +\n",
    "                  group+'.txt', 'body_acc_z_'+group+'.txt']\n",
    "    # body gyroscope\n",
    "    filenames += ['body_gyro_x_'+group+'.txt', 'body_gyro_y_' +\n",
    "                  group+'.txt', 'body_gyro_z_'+group+'.txt']\n",
    "    # load input data\n",
    "    X = load_group(filenames, filepath)\n",
    "    # load class output\n",
    "    y = load_file(prefix + group + '/y_'+group+'.txt')\n",
    "    return X, y\n",
    "\n",
    "# load the dataset, returns train and test X and y elements\n",
    "\n",
    "\n",
    "def load_dataset(prefix=''):\n",
    "    # load all train\n",
    "    trainX, trainy = load_dataset_group(\n",
    "        'train', prefix + './data/UCI_HAR_Dataset/')\n",
    "    # load all test\n",
    "    testX, testy = load_dataset_group(\n",
    "        'test', prefix + './data/UCI_HAR_Dataset/')\n",
    "    # zero-offset class values\n",
    "    trainy = trainy - 1\n",
    "    testy = testy - 1\n",
    "    # one hot encode y\n",
    "    trainy = to_categorical(trainy)\n",
    "    testy = to_categorical(testy)\n",
    "    print(\"trainX shape: \", trainX.shape)\n",
    "    print(\"trainy shape: \", trainy.shape)\n",
    "    print(\"testX shape: \", testX.shape)\n",
    "    print(\"testy shape: \", testy.shape)\n",
    "    return trainX, trainy, testX, testy"
   ]
  },
  {
   "cell_type": "markdown",
   "metadata": {
    "id": "ROBYvzz_jjaQ"
   },
   "source": [
    "For training data we have 7352 different samples, where one sample is one window of the time series data, each window has 128 time steps, and a time step has nine variables or features.\n",
    "\n",
    "Similarly for testing data we have 2947 different samples. "
   ]
  },
  {
   "cell_type": "code",
   "execution_count": 3,
   "metadata": {
    "colab": {
     "base_uri": "https://localhost:8080/"
    },
    "id": "fiB1z9ciNU4d",
    "outputId": "d1be26b4-0d0e-4c60-f073-4757db4e5642"
   },
   "outputs": [
    {
     "name": "stdout",
     "output_type": "stream",
     "text": [
      "trainX shape:  (7352, 128, 9)\n",
      "trainy shape:  (7352, 6)\n",
      "testX shape:  (2947, 128, 9)\n",
      "testy shape:  (2947, 6)\n"
     ]
    }
   ],
   "source": [
    "trainX, trainy, testX, testy = load_dataset()"
   ]
  },
  {
   "cell_type": "markdown",
   "metadata": {
    "id": "Vpyoslro1zie"
   },
   "source": [
    "## Explore the data\n",
    "\n",
    "\n"
   ]
  },
  {
   "cell_type": "markdown",
   "metadata": {
    "id": "S3tWXRvEBLY8"
   },
   "source": [
    "In this dataset we have the following 9 features:\n",
    "\n",
    "\n",
    "1.   Total Acceleration x\n",
    "2.   Total Acceleration y\n",
    "3.   Total Acceleration z\n",
    "4.   Body Acceleration x\n",
    "5.   Body Acceleration y\n",
    "6.   Body Acceleration z\n",
    "7.   Body Gyroscope x\n",
    "8.   Body Gyroscope y\n",
    "9.   Body Gyroscope z\n"
   ]
  },
  {
   "cell_type": "code",
   "execution_count": 6,
   "metadata": {
    "id": "X5jtI9_n1y3X"
   },
   "outputs": [],
   "source": [
    "# Helper function to plot distribution of the features\n",
    "def plot_distributions(trainX):\n",
    "    # remove overlap\n",
    "    cut = int(trainX.shape[1] / 2)\n",
    "    longX = trainX[:, -cut:, :]\n",
    "    # flatten windows\n",
    "    longX = longX.reshape((longX.shape[0] * longX.shape[1], longX.shape[2]))\n",
    "    print(longX.shape)\n",
    "    plt.figure()\n",
    "    xaxis = None\n",
    "    for i in range(longX.shape[1]):\n",
    "        ax = plt.subplot(longX.shape[1], 1, i+1, sharex=xaxis)\n",
    "        ax.set_xlim(-1, 1)\n",
    "        if i == 0:\n",
    "            xaxis = ax\n",
    "        plt.hist(longX[:, i], bins=100)\n",
    "    plt.show()"
   ]
  },
  {
   "cell_type": "code",
   "execution_count": 7,
   "metadata": {
    "colab": {
     "base_uri": "https://localhost:8080/",
     "height": 282
    },
    "id": "jGcrbI0R2nLr",
    "outputId": "6743301c-d820-4b3b-de8d-97dfe0d59875"
   },
   "outputs": [
    {
     "name": "stdout",
     "output_type": "stream",
     "text": [
      "(470528, 9)\n"
     ]
    },
    {
     "data": {
      "image/png": "[encoded data removed]",
      "text/plain": [
       "<Figure size 640x480 with 9 Axes>"
      ]
     },
     "metadata": {},
     "output_type": "display_data"
    }
   ],
   "source": [
    "# plot distributions\n",
    "plot_distributions(trainX)"
   ]
  },
  {
   "cell_type": "markdown",
   "metadata": {
    "id": "HElEpGi7B680"
   },
   "source": [
    "We can see that all variables except \"Total Acceleration x\" behave like normal distributions. "
   ]
  },
  {
   "cell_type": "markdown",
   "metadata": {
    "id": "aJmeQf3UP6yC"
   },
   "source": [
    "## Building the models\n",
    "\n",
    "In this workshop, we will develop 2 deep learning models and evaluate the classification accuracy.\n",
    "\n",
    "\n",
    "\n",
    "1.   LSTM model\n",
    "2.   CNN model\n",
    "\n"
   ]
  },
  {
   "cell_type": "markdown",
   "metadata": {
    "id": "M-6-CazrkSHB"
   },
   "source": [
    "Set common parameters across all the models"
   ]
  },
  {
   "cell_type": "code",
   "execution_count": 8,
   "metadata": {
    "id": "Ysi2Qik7ULJk"
   },
   "outputs": [],
   "source": [
    "## set number of epochs and batch size\n",
    "batch_size = 64\n",
    "validation_split = 0.2"
   ]
  },
  {
   "cell_type": "markdown",
   "metadata": {
    "id": "yDowZCTIP9Ht"
   },
   "source": [
    "### LSTM model"
   ]
  },
  {
   "cell_type": "markdown",
   "metadata": {
    "id": "qWLP55MOkr_T"
   },
   "source": [
    "Model design:\n",
    "\n",
    "The model is defined as a Sequential Keras model.\n",
    "\n",
    "The first layer of the model is set to a single LSTM hidden layer. This is followed by a dropout layer which is to reduce overfitting of the model to the training data. Finally, a dense fully connected layer is used to interpret the features extracted by the LSTM hidden layer, at last we have the final softmax layer which represent the 6 classes. "
   ]
  },
  {
   "cell_type": "code",
   "execution_count": 12,
   "metadata": {
    "colab": {
     "base_uri": "https://localhost:8080/",
     "height": 533
    },
    "id": "5k_E2WdFNakv",
    "outputId": "95d0f8b1-4df9-464a-f1d0-8981f01ac3af"
   },
   "outputs": [
    {
     "name": "stdout",
     "output_type": "stream",
     "text": [
      "You must install pydot (`pip install pydot`) and install graphviz (see instructions at https://graphviz.gitlab.io/download/) for plot_model to work.\n",
      "Model: \"sequential_1\"\n",
      "_________________________________________________________________\n",
      " Layer (type)                Output Shape              Param #   \n",
      "=================================================================\n",
      " lstm_1 (LSTM)               (None, 100)               44000     \n",
      "                                                                 \n",
      " dropout_1 (Dropout)         (None, 100)               0         \n",
      "                                                                 \n",
      " dense_2 (Dense)             (None, 100)               10100     \n",
      "                                                                 \n",
      " dense_3 (Dense)             (None, 6)                 606       \n",
      "                                                                 \n",
      "=================================================================\n",
      "Total params: 54,706\n",
      "Trainable params: 54,706\n",
      "Non-trainable params: 0\n",
      "_________________________________________________________________\n"
     ]
    }
   ],
   "source": [
    "n_timesteps, n_features, n_outputs = trainX.shape[1], trainX.shape[2], trainy.shape[1]\n",
    "model = Sequential()\n",
    "model.add(LSTM(100, input_shape=(n_timesteps, n_features)))\n",
    "model.add(Dropout(0.5))\n",
    "model.add(Dense(100, activation='relu'))\n",
    "model.add(Dense(n_outputs, activation='softmax'))\n",
    "plot_model(model, show_shapes=True, show_layer_names=True)\n",
    "\n",
    "model.summary()"
   ]
  },
  {
   "cell_type": "markdown",
   "metadata": {
    "id": "Dxh6OJ4clsYK"
   },
   "source": [
    "Compile the model with [categorical_crossentropy](https://keras.io/api/losses/probabilistic_losses/#categoricalcrossentropy-class) loss function and [ADAM optimizer](https://keras.io/api/optimizers/)."
   ]
  },
  {
   "cell_type": "code",
   "execution_count": 13,
   "metadata": {
    "id": "d37n4LaWloqq"
   },
   "outputs": [],
   "source": [
    "model.compile(loss='categorical_crossentropy', optimizer='adam', metrics=['accuracy'])"
   ]
  },
  {
   "cell_type": "markdown",
   "metadata": {
    "id": "-pzCzBq8mIFD"
   },
   "source": [
    "\n",
    "Train the model"
   ]
  },
  {
   "cell_type": "code",
   "execution_count": 14,
   "metadata": {
    "colab": {
     "base_uri": "https://localhost:8080/"
    },
    "id": "thBjP-SAlrML",
    "outputId": "af94693b-82fa-4cbe-f00b-b8454d46ec15"
   },
   "outputs": [
    {
     "name": "stdout",
     "output_type": "stream",
     "text": [
      "Epoch 1/10\n",
      "92/92 [==============================] - 12s 104ms/step - loss: 1.3127 - accuracy: 0.4457 - val_loss: 1.4287 - val_accuracy: 0.3746\n",
      "Epoch 2/10\n",
      "92/92 [==============================] - 9s 103ms/step - loss: 0.9181 - accuracy: 0.6176 - val_loss: 0.8465 - val_accuracy: 0.6744\n",
      "Epoch 3/10\n",
      "92/92 [==============================] - 10s 106ms/step - loss: 0.8969 - accuracy: 0.6201 - val_loss: 0.8493 - val_accuracy: 0.6866\n",
      "Epoch 4/10\n",
      "92/92 [==============================] - 10s 106ms/step - loss: 0.6534 - accuracy: 0.7249 - val_loss: 0.7213 - val_accuracy: 0.7145\n",
      "Epoch 5/10\n",
      "92/92 [==============================] - 10s 112ms/step - loss: 0.7061 - accuracy: 0.7174 - val_loss: 0.6068 - val_accuracy: 0.7417\n",
      "Epoch 6/10\n",
      "92/92 [==============================] - 12s 128ms/step - loss: 0.5462 - accuracy: 0.7769 - val_loss: 0.5915 - val_accuracy: 0.7729\n",
      "Epoch 7/10\n",
      "92/92 [==============================] - 33s 359ms/step - loss: 0.4520 - accuracy: 0.8308 - val_loss: 0.5636 - val_accuracy: 0.8124\n",
      "Epoch 8/10\n",
      "92/92 [==============================] - 17s 190ms/step - loss: 0.4342 - accuracy: 0.8451 - val_loss: 0.5383 - val_accuracy: 0.8178\n",
      "Epoch 9/10\n",
      "92/92 [==============================] - 10s 112ms/step - loss: 0.4328 - accuracy: 0.8473 - val_loss: 0.4912 - val_accuracy: 0.8498\n",
      "Epoch 10/10\n",
      "92/92 [==============================] - 11s 119ms/step - loss: 0.3025 - accuracy: 0.9068 - val_loss: 0.3799 - val_accuracy: 0.8763\n"
     ]
    }
   ],
   "source": [
    "# fit network\n",
    "train_epochs = 10\n",
    "history = model.fit(trainX, trainy, epochs=train_epochs, batch_size=batch_size, verbose=True,  validation_split=validation_split, shuffle=True)"
   ]
  },
  {
   "cell_type": "markdown",
   "metadata": {
    "id": "KvH2s8ldmDuL"
   },
   "source": [
    "Visualize the training process (loss) w.r.t train set and the validation set"
   ]
  },
  {
   "cell_type": "code",
   "execution_count": 15,
   "metadata": {
    "colab": {
     "base_uri": "https://localhost:8080/",
     "height": 312
    },
    "id": "xFw9ju5zSBD4",
    "outputId": "78cba606-cb3c-40cd-be1d-42317ef80373"
   },
   "outputs": [
    {
     "data": {
      "text/plain": [
       "<matplotlib.legend.Legend at 0x239cfa50c40>"
      ]
     },
     "execution_count": 15,
     "metadata": {},
     "output_type": "execute_result"
    },
    {
     "data": {
      "image/png": "[encoded data removed]",
      "text/plain": [
       "<Figure size 640x480 with 1 Axes>"
      ]
     },
     "metadata": {},
     "output_type": "display_data"
    }
   ],
   "source": [
    "plt.plot(history.history['loss'])\n",
    "plt.plot(history.history['val_loss'])\n",
    "plt.title('model loss')\n",
    "plt.ylabel('loss')\n",
    "plt.xlabel('epoch')\n",
    "plt.legend(['train', 'Validation'], loc='upper left')"
   ]
  },
  {
   "cell_type": "markdown",
   "metadata": {
    "id": "iQD1lEQtmlPI"
   },
   "source": [
    "Evaluate the LSTM model"
   ]
  },
  {
   "cell_type": "code",
   "execution_count": 16,
   "metadata": {
    "colab": {
     "base_uri": "https://localhost:8080/"
    },
    "id": "T3rgvHGQNcx9",
    "outputId": "6962d801-6a5a-4040-abbe-5bda3891dc58"
   },
   "outputs": [
    {
     "name": "stdout",
     "output_type": "stream",
     "text": [
      "Accuracy of the LSTM model 0.8493382930755615\n",
      "93/93 [==============================] - 3s 24ms/step\n"
     ]
    }
   ],
   "source": [
    "# evaluate model\n",
    "test_loss, test_accuracy = model.evaluate(\n",
    "    testX, testy, batch_size=batch_size, verbose=0)\n",
    "print(\"Accuracy of the LSTM model\", test_accuracy)\n",
    "# Get the predictions for the test set\n",
    "predictions = model.predict(testX)"
   ]
  },
  {
   "cell_type": "code",
   "execution_count": 17,
   "metadata": {
    "colab": {
     "base_uri": "https://localhost:8080/"
    },
    "id": "tOc_QJWlg_uQ",
    "outputId": "7ceef8ef-a654-40b6-bda7-3b32199deb3b"
   },
   "outputs": [
    {
     "data": {
      "text/plain": [
       "array([[1.1904504e-03, 5.4193311e-04, 1.8248890e-04, 1.6083959e-02,\n",
       "        9.8198777e-01, 1.3357329e-05],\n",
       "       [8.3848229e-04, 3.9256996e-04, 1.3360444e-04, 1.3041364e-02,\n",
       "        9.8558664e-01, 7.3354799e-06],\n",
       "       [8.1313285e-04, 3.8279785e-04, 1.3195183e-04, 1.3082101e-02,\n",
       "        9.8558271e-01, 7.2301391e-06],\n",
       "       ...,\n",
       "       [1.2405336e-02, 9.8028404e-01, 6.6038677e-03, 2.7378339e-05,\n",
       "        6.6036684e-04, 1.9074410e-05],\n",
       "       [9.8192003e-03, 9.8423487e-01, 4.9432414e-03, 3.9688781e-05,\n",
       "        9.2182611e-04, 4.1194147e-05],\n",
       "       [9.1404969e-01, 6.6575624e-02, 1.2989097e-02, 8.8110304e-04,\n",
       "        5.4183672e-03, 8.6161162e-05]], dtype=float32)"
      ]
     },
     "execution_count": 17,
     "metadata": {},
     "output_type": "execute_result"
    }
   ],
   "source": [
    "predictions"
   ]
  },
  {
   "cell_type": "markdown",
   "metadata": {
    "id": "3j-BEtTTjkkX"
   },
   "source": [
    "helper function to display results"
   ]
  },
  {
   "cell_type": "code",
   "execution_count": 22,
   "metadata": {},
   "outputs": [],
   "source": [
    "from sklearn.metrics import confusion_matrix, classification_report"
   ]
  },
  {
   "cell_type": "code",
   "execution_count": 18,
   "metadata": {
    "id": "j13K09Kdg3Wr"
   },
   "outputs": [],
   "source": [
    "def display_results(testy, predictions, classNames):\n",
    "    y_test = np.argmax(testy, axis=1)\n",
    "    y_scores = np.argmax(predictions, axis=1)\n",
    "    classes = len(classNames)\n",
    "    cm = confusion_matrix(y_test, y_scores)\n",
    "    print(\"**** Confusion Matrix ****\")\n",
    "    print(cm)\n",
    "    print(\"**** Classification Report ****\")\n",
    "    print(classification_report(y_test, y_scores, target_names=classNames))\n",
    "    con = np.zeros((classes, classes))\n",
    "    for x in range(classes):\n",
    "        for y in range(classes):\n",
    "            con[x, y] = cm[x, y]  # /np.sum(cm[x,:])\n",
    "\n",
    "    plt.figure(figsize=(10, 8))\n",
    "    df = sns.heatmap(con, annot=True, fmt='g', cmap='Blues',\n",
    "                     xticklabels=classNames, yticklabels=classNames)\n",
    "    plt.xlabel('Predicted')\n",
    "    plt.ylabel('Actual')\n",
    "    plt.show()"
   ]
  },
  {
   "cell_type": "code",
   "execution_count": 23,
   "metadata": {
    "colab": {
     "base_uri": "https://localhost:8080/",
     "height": 854
    },
    "id": "Q4lDh9g4gicO",
    "outputId": "fe315d9a-b9b7-4bdf-a48f-8995393749f5"
   },
   "outputs": [
    {
     "name": "stdout",
     "output_type": "stream",
     "text": [
      "**** Confusion Matrix ****\n",
      "[[431  18  47   0   0   0]\n",
      " [ 30 348  85   0   8   0]\n",
      " [ 29   5 382   0   4   0]\n",
      " [  2   1   2 413  68   5]\n",
      " [  7   5   7 106 407   0]\n",
      " [  0  15   0   0   0 522]]\n",
      "**** Classification Report ****\n",
      "              precision    recall  f1-score   support\n",
      "\n",
      "           1       0.86      0.87      0.87       496\n",
      "           2       0.89      0.74      0.81       471\n",
      "           3       0.73      0.91      0.81       420\n",
      "           4       0.80      0.84      0.82       491\n",
      "           5       0.84      0.77      0.80       532\n",
      "           6       0.99      0.97      0.98       537\n",
      "\n",
      "    accuracy                           0.85      2947\n",
      "   macro avg       0.85      0.85      0.85      2947\n",
      "weighted avg       0.86      0.85      0.85      2947\n",
      "\n"
     ]
    },
    {
     "data": {
      "image/png": "[encoded data removed]",
      "text/plain": [
       "<Figure size 1000x800 with 2 Axes>"
      ]
     },
     "metadata": {},
     "output_type": "display_data"
    }
   ],
   "source": [
    "classNames=[\"1\",\"2\",\"3\",\"4\",\"5\",\"6\"]\n",
    "display_results(testy,predictions,classNames)"
   ]
  },
  {
   "cell_type": "markdown",
   "metadata": {
    "id": "R-H04c6mTkDB"
   },
   "source": [
    "### CNN model"
   ]
  },
  {
   "cell_type": "markdown",
   "metadata": {
    "id": "YvNMsgIHmvD-"
   },
   "source": [
    "Model design:\n",
    "\n",
    "We will define the model as having two 1D CNN layers (each with 64 filters of kernel size 4), followed by a dropout layer to avoid overfiting for training set, then a pooling layer before flattening and connecting to the fully connected layer. At last we have the final softmax layer which represent the 6 classes similar to the LSTM model."
   ]
  },
  {
   "cell_type": "code",
   "execution_count": 24,
   "metadata": {
    "colab": {
     "base_uri": "https://localhost:8080/",
     "height": 865
    },
    "id": "I5FfkpGUTEJL",
    "outputId": "8a5f203c-6e50-449f-9f19-b6dea4a6488c"
   },
   "outputs": [
    {
     "name": "stdout",
     "output_type": "stream",
     "text": [
      "You must install pydot (`pip install pydot`) and install graphviz (see instructions at https://graphviz.gitlab.io/download/) for plot_model to work.\n",
      "Model: \"sequential_2\"\n",
      "_________________________________________________________________\n",
      " Layer (type)                Output Shape              Param #   \n",
      "=================================================================\n",
      " conv1d (Conv1D)             (None, 125, 64)           2368      \n",
      "                                                                 \n",
      " conv1d_1 (Conv1D)           (None, 122, 64)           16448     \n",
      "                                                                 \n",
      " dropout_2 (Dropout)         (None, 122, 64)           0         \n",
      "                                                                 \n",
      " max_pooling1d (MaxPooling1D  (None, 61, 64)           0         \n",
      " )                                                               \n",
      "                                                                 \n",
      " flatten (Flatten)           (None, 3904)              0         \n",
      "                                                                 \n",
      " dense_4 (Dense)             (None, 100)               390500    \n",
      "                                                                 \n",
      " dense_5 (Dense)             (None, 6)                 606       \n",
      "                                                                 \n",
      "=================================================================\n",
      "Total params: 409,922\n",
      "Trainable params: 409,922\n",
      "Non-trainable params: 0\n",
      "_________________________________________________________________\n"
     ]
    }
   ],
   "source": [
    "n_timesteps, n_features, n_outputs = trainX.shape[1], trainX.shape[2], trainy.shape[1]\n",
    "model = Sequential()\n",
    "model.add(Conv1D(filters=64, kernel_size=4, activation='relu',\n",
    "          input_shape=(n_timesteps, n_features)))\n",
    "model.add(Conv1D(filters=64, kernel_size=4, activation='relu',\n",
    "          input_shape=(n_timesteps, n_features)))\n",
    "model.add(Dropout(0.5))\n",
    "model.add(MaxPooling1D(pool_size=2))\n",
    "model.add(Flatten())\n",
    "model.add(Dense(100, activation='relu'))\n",
    "model.add(Dense(n_outputs, activation='softmax'))\n",
    "plot_model(model, show_shapes=True, show_layer_names=True)\n",
    "\n",
    "model.summary()"
   ]
  },
  {
   "cell_type": "markdown",
   "metadata": {
    "id": "heBYFkL1m7so"
   },
   "source": [
    "Compile the model with [categorical_crossentropy](https://keras.io/api/losses/probabilistic_losses/#categoricalcrossentropy-class) loss function and [ADAM optimizer](https://keras.io/api/optimizers/)."
   ]
  },
  {
   "cell_type": "code",
   "execution_count": 25,
   "metadata": {
    "id": "OcbFvupumyBV"
   },
   "outputs": [],
   "source": [
    "model.compile(loss='categorical_crossentropy', optimizer='adam', metrics=['accuracy'])"
   ]
  },
  {
   "cell_type": "markdown",
   "metadata": {
    "id": "MwvndHFDm_U-"
   },
   "source": [
    "Train the model"
   ]
  },
  {
   "cell_type": "code",
   "execution_count": 26,
   "metadata": {
    "colab": {
     "base_uri": "https://localhost:8080/"
    },
    "id": "cDn2GVhvmzmJ",
    "outputId": "ef80457b-96cb-4bdf-d418-9efd8b3c115e"
   },
   "outputs": [
    {
     "name": "stdout",
     "output_type": "stream",
     "text": [
      "Epoch 1/20\n",
      "92/92 [==============================] - 3s 21ms/step - loss: 0.5016 - accuracy: 0.7910 - val_loss: 0.4152 - val_accuracy: 0.8851\n",
      "Epoch 2/20\n",
      "92/92 [==============================] - 2s 19ms/step - loss: 0.1606 - accuracy: 0.9400 - val_loss: 0.3954 - val_accuracy: 0.8919\n",
      "Epoch 3/20\n",
      "92/92 [==============================] - 2s 18ms/step - loss: 0.1076 - accuracy: 0.9541 - val_loss: 0.3615 - val_accuracy: 0.9001\n",
      "Epoch 4/20\n",
      "92/92 [==============================] - 2s 18ms/step - loss: 0.0935 - accuracy: 0.9577 - val_loss: 0.3923 - val_accuracy: 0.9014\n",
      "Epoch 5/20\n",
      "92/92 [==============================] - 2s 19ms/step - loss: 0.0925 - accuracy: 0.9594 - val_loss: 0.3856 - val_accuracy: 0.9109\n",
      "Epoch 6/20\n",
      "92/92 [==============================] - 2s 19ms/step - loss: 0.0823 - accuracy: 0.9604 - val_loss: 0.3986 - val_accuracy: 0.9143\n",
      "Epoch 7/20\n",
      "92/92 [==============================] - 2s 19ms/step - loss: 0.0829 - accuracy: 0.9609 - val_loss: 0.4576 - val_accuracy: 0.9123\n",
      "Epoch 8/20\n",
      "92/92 [==============================] - 2s 19ms/step - loss: 0.0871 - accuracy: 0.9589 - val_loss: 0.4221 - val_accuracy: 0.9096\n",
      "Epoch 9/20\n",
      "92/92 [==============================] - 2s 21ms/step - loss: 0.0758 - accuracy: 0.9643 - val_loss: 0.4438 - val_accuracy: 0.9021\n",
      "Epoch 10/20\n",
      "92/92 [==============================] - 2s 18ms/step - loss: 0.0776 - accuracy: 0.9617 - val_loss: 0.3680 - val_accuracy: 0.8919\n",
      "Epoch 11/20\n",
      "92/92 [==============================] - 2s 21ms/step - loss: 0.0826 - accuracy: 0.9646 - val_loss: 0.4571 - val_accuracy: 0.9035\n",
      "Epoch 12/20\n",
      "92/92 [==============================] - 2s 21ms/step - loss: 0.0676 - accuracy: 0.9687 - val_loss: 0.4818 - val_accuracy: 0.8892\n",
      "Epoch 13/20\n",
      "92/92 [==============================] - 2s 20ms/step - loss: 0.0625 - accuracy: 0.9718 - val_loss: 0.5401 - val_accuracy: 0.8994\n",
      "Epoch 14/20\n",
      "92/92 [==============================] - 2s 18ms/step - loss: 0.0692 - accuracy: 0.9653 - val_loss: 0.5415 - val_accuracy: 0.8906\n",
      "Epoch 15/20\n",
      "92/92 [==============================] - 2s 20ms/step - loss: 0.0605 - accuracy: 0.9716 - val_loss: 0.5194 - val_accuracy: 0.9021\n",
      "Epoch 16/20\n",
      "92/92 [==============================] - 2s 20ms/step - loss: 0.0700 - accuracy: 0.9716 - val_loss: 0.6450 - val_accuracy: 0.8899\n",
      "Epoch 17/20\n",
      "92/92 [==============================] - 2s 19ms/step - loss: 0.0631 - accuracy: 0.9701 - val_loss: 0.6067 - val_accuracy: 0.9116\n",
      "Epoch 18/20\n",
      "92/92 [==============================] - 2s 20ms/step - loss: 0.0590 - accuracy: 0.9723 - val_loss: 0.6791 - val_accuracy: 0.8858\n",
      "Epoch 19/20\n",
      "92/92 [==============================] - 2s 19ms/step - loss: 0.0590 - accuracy: 0.9728 - val_loss: 0.6072 - val_accuracy: 0.9048\n",
      "Epoch 20/20\n",
      "92/92 [==============================] - 2s 20ms/step - loss: 0.0548 - accuracy: 0.9738 - val_loss: 0.5699 - val_accuracy: 0.9062\n"
     ]
    }
   ],
   "source": [
    "# fit network\n",
    "train_epochs = 20\n",
    "history = model.fit(trainX, trainy, epochs=train_epochs, batch_size=batch_size, verbose=True,  validation_split=validation_split, shuffle=True)"
   ]
  },
  {
   "cell_type": "markdown",
   "metadata": {
    "id": "7_9tG58vnB3p"
   },
   "source": [
    "Visualize the training process (loss) w.r.t train set and the validation set"
   ]
  },
  {
   "cell_type": "code",
   "execution_count": 27,
   "metadata": {
    "colab": {
     "base_uri": "https://localhost:8080/",
     "height": 312
    },
    "id": "1WF45HwfUYwE",
    "outputId": "7b80f3e9-7fcd-4cad-d283-9a8f0c22ea71"
   },
   "outputs": [
    {
     "data": {
      "text/plain": [
       "<matplotlib.legend.Legend at 0x239cede0b20>"
      ]
     },
     "execution_count": 27,
     "metadata": {},
     "output_type": "execute_result"
    },
    {
     "data": {
      "image/png": "[encoded data removed]",
      "text/plain": [
       "<Figure size 640x480 with 1 Axes>"
      ]
     },
     "metadata": {},
     "output_type": "display_data"
    }
   ],
   "source": [
    "plt.plot(history.history['loss'])\n",
    "plt.plot(history.history['val_loss'])\n",
    "plt.title('model loss')\n",
    "plt.ylabel('loss')\n",
    "plt.xlabel('epoch')\n",
    "plt.legend(['train', 'Validation'], loc='upper left')"
   ]
  },
  {
   "cell_type": "markdown",
   "metadata": {
    "id": "_Z_B9tKgnFO7"
   },
   "source": [
    "Evaluate the LSTM model"
   ]
  },
  {
   "cell_type": "code",
   "execution_count": 28,
   "metadata": {
    "colab": {
     "base_uri": "https://localhost:8080/"
    },
    "id": "5boGrrkMUWx2",
    "outputId": "f48450fb-bc1c-4279-c8b4-f9f88611b526"
   },
   "outputs": [
    {
     "name": "stdout",
     "output_type": "stream",
     "text": [
      "Accuracy of the CNN model 0.8985409140586853\n",
      "93/93 [==============================] - 0s 3ms/step\n"
     ]
    }
   ],
   "source": [
    "# evaluate model\n",
    "test_loss, test_accuracy = model.evaluate(\n",
    "    testX, testy, batch_size=batch_size, verbose=0)\n",
    "print(\"Accuracy of the CNN model\", test_accuracy)\n",
    "predictions = model.predict(testX)"
   ]
  },
  {
   "cell_type": "code",
   "execution_count": 29,
   "metadata": {
    "colab": {
     "base_uri": "https://localhost:8080/",
     "height": 857
    },
    "id": "w8myWXsPlOne",
    "outputId": "f82d43e8-637d-4518-afe5-a1a82d536362"
   },
   "outputs": [
    {
     "name": "stdout",
     "output_type": "stream",
     "text": [
      "**** Confusion Matrix ****\n",
      "[[455   6  35   0   0   0]\n",
      " [  4 443  24   0   0   0]\n",
      " [  1   2 417   0   0   0]\n",
      " [  0  20   0 351 116   4]\n",
      " [  0   2   0  42 488   0]\n",
      " [  0  43   0   0   0 494]]\n",
      "**** Classification Report ****\n",
      "              precision    recall  f1-score   support\n",
      "\n",
      "           1       0.99      0.92      0.95       496\n",
      "           2       0.86      0.94      0.90       471\n",
      "           3       0.88      0.99      0.93       420\n",
      "           4       0.89      0.71      0.79       491\n",
      "           5       0.81      0.92      0.86       532\n",
      "           6       0.99      0.92      0.95       537\n",
      "\n",
      "    accuracy                           0.90      2947\n",
      "   macro avg       0.90      0.90      0.90      2947\n",
      "weighted avg       0.90      0.90      0.90      2947\n",
      "\n"
     ]
    },
    {
     "data": {
      "image/png": "[encoded data removed]",
      "text/plain": [
       "<Figure size 1000x800 with 2 Axes>"
      ]
     },
     "metadata": {},
     "output_type": "display_data"
    }
   ],
   "source": [
    "display_results(testy,predictions,classNames)"
   ]
  },
  {
   "cell_type": "markdown",
   "metadata": {
    "id": "k-azbhHrmSGq"
   },
   "source": [
    "Predicting for a single sample"
   ]
  },
  {
   "cell_type": "code",
   "execution_count": 30,
   "metadata": {
    "colab": {
     "base_uri": "https://localhost:8080/"
    },
    "id": "vv4Iyolnlyaw",
    "outputId": "d554c311-2a00-422b-bdde-60e83b99fe62"
   },
   "outputs": [
    {
     "data": {
      "text/plain": [
       "(128, 9)"
      ]
     },
     "execution_count": 30,
     "metadata": {},
     "output_type": "execute_result"
    }
   ],
   "source": [
    "# we will select the first sample from the test set\n",
    "sample = testX[0]\n",
    "sample.shape"
   ]
  },
  {
   "cell_type": "code",
   "execution_count": 31,
   "metadata": {
    "id": "JMv8xmremnNp"
   },
   "outputs": [
    {
     "name": "stdout",
     "output_type": "stream",
     "text": [
      "1/1 [==============================] - 0s 17ms/step\n"
     ]
    }
   ],
   "source": [
    "# predict the results using the model, we need to input in the form of (numberOfSamples,featureLength,numberOfFeatures)\n",
    "predictionForSample = model.predict(sample.reshape(1,sample.shape[0],sample.shape[1]))"
   ]
  },
  {
   "cell_type": "code",
   "execution_count": 32,
   "metadata": {
    "colab": {
     "base_uri": "https://localhost:8080/"
    },
    "id": "G213N1iEmwXe",
    "outputId": "606785ea-01c6-4a83-a9c2-6e11b884d319"
   },
   "outputs": [
    {
     "name": "stdout",
     "output_type": "stream",
     "text": [
      "Actual class:  4\n",
      "Predicted class:  4\n"
     ]
    }
   ],
   "source": [
    "# get the class of the sample\n",
    "samplePredictedClass = np.argmax(predictionForSample, axis=1)\n",
    "sampleActualClass = np.argmax(testy, axis=1)\n",
    "print(\"Actual class: \", sampleActualClass[0])\n",
    "print(\"Predicted class: \", samplePredictedClass[0])"
   ]
  }
 ],
 "metadata": {
  "colab": {
   "authorship_tag": "ABX9TyMm/DpFfSeNPNcAk9yBGjoi",
   "collapsed_sections": [
    "HGBepz0q-lfY",
    "NxBLgeuLA8xS",
    "Vpyoslro1zie",
    "yDowZCTIP9Ht",
    "R-H04c6mTkDB"
   ],
   "include_colab_link": true,
   "name": "CNN and LSTM for Human Activity Recognition.ipynb",
   "provenance": []
  },
  "kernelspec": {
   "display_name": "Python 3 (ipykernel)",
   "language": "python",
   "name": "python3"
  },
  "language_info": {
   "codemirror_mode": {
    "name": "ipython",
    "version": 3
   },
   "file_extension": ".py",
   "mimetype": "text/x-python",
   "name": "python",
   "nbconvert_exporter": "python",
   "pygments_lexer": "ipython3",
   "version": "3.9.13"
  }
 },
 "nbformat": 4,
 "nbformat_minor": 1
}
